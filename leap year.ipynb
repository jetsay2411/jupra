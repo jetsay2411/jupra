{
 "cells": [
  {
   "cell_type": "code",
   "execution_count": 10,
   "metadata": {},
   "outputs": [
    {
     "name": "stdout",
     "output_type": "stream",
     "text": [
      "Enter an year: 2000\n",
      "Year is Leap Year\n"
     ]
    }
   ],
   "source": [
    "# if year is divisble by 400\n",
    "# or is divisible by 4\n",
    "# and is not divisible by 100 then it is called leap year otherwise not\n",
    "\n",
    "year = int(input('Enter an year: '))\n",
    "if ((year%400 == 0) or (year%4 == 0 and year%100 != 0)):\n",
    "    print(\"Year is Leap Year\")\n",
    "else:\n",
    "    print(\"Year is not a Leap Year\")\n",
    "#2020:Leap\n",
    "#2021:not Leap\n",
    "#2024:Leap\n",
    "# year 1600 = True or True and flase=True or false=>True\n",
    "# year 1800 = False or True and False=False or False =>False\n",
    "# year 2004 = False or True and True=False or True ==>True\n",
    "# year 1967 = False or False and True=False or False ==>False\n"
   ]
  },
  {
   "cell_type": "code",
   "execution_count": 2,
   "metadata": {},
   "outputs": [
    {
     "data": {
      "text/plain": [
       "\"print()'This is\\nPython \\nclass)\""
      ]
     },
     "execution_count": 2,
     "metadata": {},
     "output_type": "execute_result"
    }
   ],
   "source": [
    "'''print()'This is\n",
    "Python \n",
    "class)'''"
   ]
  },
  {
   "cell_type": "code",
   "execution_count": 18,
   "metadata": {},
   "outputs": [
    {
     "data": {
      "text/plain": [
       "['pqrs', 'abcde']"
      ]
     },
     "execution_count": 18,
     "metadata": {},
     "output_type": "execute_result"
    }
   ],
   "source": [
    "lst_mail = ['abc@gmail.com', 'pqrs@yahoo.com','abcde@rediffmail.com','xyz@hotmail.com']\n",
    "#list use name only those email id length is more than 3\n",
    "[email[:email.index('@')] for email in lst_mail  if len(email[:email.index('@')]) > 3]"
   ]
  },
  {
   "cell_type": "code",
   "execution_count": 5,
   "metadata": {},
   "outputs": [
    {
     "data": {
      "text/plain": [
       "\"The character at index 10 in my_str is: c\\n#print(f'The character at index 10 in my_str is:' ,(my_str[10]))\\n#print(f'The Last character in my_str is:' ,(my_str[-2]))\\n##print(f'The character at index 8 in my_str is:' ,(my_str[0])')\""
      ]
     },
     "execution_count": 5,
     "metadata": {},
     "output_type": "execute_result"
    }
   ],
   "source": [
    "'''The character at index 10 in my_str is: c\n",
    "#print(f'The character at index 10 in my_str is:' ,(my_str[10]))\n",
    "#print(f'The Last character in my_str is:' ,(my_str[-2]))\n",
    "##print(f'The character at index 8 in my_str is:' ,(my_str[0])')'''"
   ]
  },
  {
   "cell_type": "code",
   "execution_count": 25,
   "metadata": {},
   "outputs": [
    {
     "name": "stdout",
     "output_type": "stream",
     "text": [
      "935195745968\n",
      "935208217136\n",
      "65\n",
      "id of my str and my_str1 is same? - False\n",
      "The Length of my_str is 65\n",
      "Type of my_str is: str\n",
      "The first character in my_str is: A\n",
      "The first character in my_str is: h\n",
      "The first character in my_str is: h\n",
      "The character at index 10 in my_str is: h\n",
      "The Last character in my_str is: h\n",
      "The character at index 10 in my_str is: 8\n"
     ]
    }
   ],
   "source": [
    "my_str = \"Although that way may not be obvious at first unless you're Dutch\"\n",
    "my_str1 = \"Although that way may not be obvious at first unless you're Dutch\"\n",
    "print(id(my_str))\n",
    "print(id(my_str1))\n",
    "print(len(my_str))\n",
    "#print('The length of my_str is',len(my_str))\n",
    "print(f'id of my str and my_str1 is same?',\"-\",(my_str) is (my_str1))\n",
    "print(f'The Length of my_str is',len(my_str))\n",
    "\n",
    "#Type of my_str is: str\n",
    "print(f'Type of my_str is: str')\n",
    "#output:- The first character in my_str is: A #by indexing\n",
    "print(f'The first character in my_str is:',(my_str[0]))\n",
    "#The first character in my_str is: h\n",
    "print(f'The first character in my_str is:',(my_str[len(my_str)-1]))\n",
    "print(f'The first character in my_str is:',(my_str[len(my_str)-1]))\n",
    "print(f'The character at index 10 in my_str is:' ,(my_str[10]))\n",
    "print(f'The Last character in my_str is:' ,(my_str[-1]))\n",
    "my_str = \"Although 8 that way may not be obvious at first unless you're Dutch\"\n",
    "print(f'The character at index 10 in my_str is:' ,(my_str[9]))"
   ]
  },
  {
   "cell_type": "code",
   "execution_count": 34,
   "metadata": {},
   "outputs": [
    {
     "name": "stdout",
     "output_type": "stream",
     "text": [
      "Although that way may not be obvious at first unless you're Dutch.\n",
      "Although that way may not be obvious at first unless you're Dutch.\n",
      "Although that way may not be obvious at first unless you're Dutch.\n",
      "Although that way may not be obvious at first unless you're Dutch.\n",
      "\n"
     ]
    }
   ],
   "source": [
    "##output:- You have sliced: Although that way may not be obvious at first unless you're Dutch.Without begin, end and step\n",
    "my_str = \"Although that way may not be obvious at first unless you're Dutch.\"\n",
    "my_str1 = \"Although that way may not be obvious at first unless you're Dutch.\"\n",
    "print(my_str[:])\n",
    "#begin as 0 end using len and without step\n",
    "print(my_str[ 0:len(my_str)])\n",
    "#print(my_str[ 0:])\n",
    "#without begin and end and with step\n",
    "print(my_str[::1])\n",
    "print(my_str[0:66:1])\n",
    "#with using begin and end using postive values and step as negative values\n",
    "print(my_str[0:66:-1])"
   ]
  },
  {
   "cell_type": "code",
   "execution_count": 53,
   "metadata": {},
   "outputs": [
    {
     "name": "stdout",
     "output_type": "stream",
     "text": [
      "Atog htwymyntb biu tfrtuls o'eDth\n",
      "Ahgttam tebo  r lsorDc\n",
      ".hctuD er'uoy sselnu tsrif ta suoivbo eb ton yam yaw taht hguohtlA\n",
      ".hctuD er'uoy sselnu tsrif ta suoivbo eb ton yam yaw taht hguohtl\n",
      ".cu ruysen si asovoe o a a athuhl\n",
      ".cu ruysen si asovoe o a a athuhl\n",
      "\n",
      " yaw ta\n",
      "ess you\n"
     ]
    }
   ],
   "source": [
    "my_str = \"Although that way may not be obvious at first unless you're Dutch.\"\n",
    "my_str1 = \"Although that way may not be obvious at first unless you're Dutch.\"\n",
    "#Atog htwymyntb biu tfrtuls o'eDth\n",
    "print(my_str[0:66:2])\n",
    "#Ahgttam tebo  r lsorDc\n",
    "print(my_str[0:66:3])\n",
    "#.hctuD er'uoy sselnu tsrif ta suoivbo eb ton yam yaw taht hguohtlA. Use only step\n",
    "print(my_str[::-1])\n",
    "#.hctuD er'uoy sselnu tsrif ta suoivbo eb ton yam yaw taht hguohtlA. Use begin end and step\n",
    "print(my_str[66:0:-1])\n",
    "#.cu ruysen si asovoe o a a athuhl. use only step\n",
    "print(my_str[::-2])\n",
    "#.cu ruysen si asovoe o a a athuhl. use begin, end and step.\n",
    "print(my_str[66:0:-2])\n",
    "print(my_str[10:17:-1])\n",
    "#yaw ta, Using begin, end and step.\n",
    "print(my_str[17:10:-1])\n",
    "# ess you. Using begin, end and step.\n",
    "print(my_str[-17:-10:1])"
   ]
  },
  {
   "cell_type": "code",
   "execution_count": 66,
   "metadata": {},
   "outputs": [],
   "source": [
    "str1 = 'Learnbay'\n",
    "str2 = 10\n",
    "#Learnbay Python\n",
    "#print(str1+' '+ str2)\n",
    "#TypeError: can only concatenate str (not \"int\") to str\n",
    "#print(str1+str2)\n",
    "#TypeError: can only concatenate str (not \"float\") to str\n",
    "#str1 = 'Learnbay'\n",
    "#str2 =  10.20\n",
    "#print(str1+str2)\n",
    "#Output is: LearnbayLearnbayLearnbay\n",
    "#print((str1)*3)\n",
    "#Error: TypeError: can't multiply sequence by non-int of type 'float'\n",
    "#print((str1)*3.5)\n",
    "#Error: TypeError: can't multiply sequence by non-int of type 'str'\n",
    "#print((str1)*hi)"
   ]
  },
  {
   "cell_type": "code",
   "execution_count": 1,
   "metadata": {},
   "outputs": [
    {
     "name": "stdout",
     "output_type": "stream",
     "text": [
      "True\n",
      "False\n",
      "False\n",
      "False\n",
      "True\n",
      "True\n",
      "False\n"
     ]
    }
   ],
   "source": [
    "str1 = 'Python'\n",
    "str2 = 'Python'\n",
    "str3 = 'Python$'\n",
    "str4 = 'Python$'\n",
    "#print True by using identity operator between str1 and str2\n",
    "print(str1 is str2)\n",
    "print(str1 is not str2)\n",
    "print(str1 is str3)\n",
    "print(str4 is str3)\n",
    "#print(str4,id(str4))\n",
    "#print(str3,id(str3))\n",
    "##Check if P is available in str1 and print True by using membership operator\n",
    "print('P' in str1)\n",
    "print('' in str1)\n",
    "print('N' in str3)"
   ]
  },
  {
   "cell_type": "code",
   "execution_count": 4,
   "metadata": {},
   "outputs": [
    {
     "ename": "SyntaxError",
     "evalue": "invalid syntax (<ipython-input-4-604d206d1711>, line 5)",
     "output_type": "error",
     "traceback": [
      "\u001b[1;36m  File \u001b[1;32m\"<ipython-input-4-604d206d1711>\"\u001b[1;36m, line \u001b[1;32m5\u001b[0m\n\u001b[1;33m    print(str1[8:14].'Java')\u001b[0m\n\u001b[1;37m                          ^\u001b[0m\n\u001b[1;31mSyntaxError\u001b[0m\u001b[1;31m:\u001b[0m invalid syntax\n"
     ]
    }
   ],
   "source": [
    "#write the code to replace 'Python' with 'Java' and you should get below error.\n",
    "#TypeError: 'str' object does not support item assignment.\n",
    "str1 = 'This is Python class'\n",
    "#print(str1.replace('Python','Java'))\n",
    "print(str1[8:14].'Java')"
   ]
  },
  {
   "cell_type": "code",
   "execution_count": 13,
   "metadata": {},
   "outputs": [
    {
     "name": "stdout",
     "output_type": "stream",
     "text": [
      "True\n",
      "True\n",
      "False\n",
      "False\n"
     ]
    }
   ],
   "source": [
    "str1 = 'A'\n",
    "str2 = 'A'\n",
    "#Compare str1 and str2 and print True using comparison operator\n",
    "print(str1 <= str2)\n",
    "print(str1 == str2)\n",
    "print(str1 != str2)\n",
    "print(str1 < str2)"
   ]
  },
  {
   "cell_type": "code",
   "execution_count": 18,
   "metadata": {},
   "outputs": [
    {
     "name": "stdout",
     "output_type": "stream",
     "text": [
      "True\n",
      "True\n",
      "False\n",
      "False\n"
     ]
    }
   ],
   "source": [
    "str1 = 'A'\n",
    "str2 = 'a'\n",
    "#Compare str1 and str2 and print True using comparison operator\n",
    "print(str1 <= str2)\n",
    "#Compare str1 and str2 and print True using equality operator\n",
    "print(str1 != str2)\n",
    "#Compare str1 and str2 and print False using equality operator\n",
    "print(str1 == str2)\n",
    "#Compare str1 and str2 and print False using comparison operator\n",
    "print(str1 >= str2)"
   ]
  },
  {
   "cell_type": "code",
   "execution_count": 26,
   "metadata": {},
   "outputs": [
    {
     "name": "stdout",
     "output_type": "stream",
     "text": [
      "True\n"
     ]
    }
   ],
   "source": [
    "str1 = 'A'\n",
    "str2 = '65'\n",
    "#Compare str1 and str2 using comparison operator and it should give below error.\n",
    "#Error: TypeError: '>=' not supported between instances of 'str' and 'int'\n",
    "#print(str1 >= 65)\n",
    "#Compare str1 and str2 and print True using equality operator\n",
    "print(str1 != str2)\n",
    "#Compare str1 and str2 and print False using equality operator"
   ]
  },
  {
   "cell_type": "code",
   "execution_count": 31,
   "metadata": {},
   "outputs": [
    {
     "name": "stdout",
     "output_type": "stream",
     "text": [
      "True\n",
      "True\n",
      "False\n",
      "False\n"
     ]
    }
   ],
   "source": [
    "str1 = 'Python'\n",
    "str2 = 'Python'\n",
    "#Compare str1 and str2 and print True using comparison operator\n",
    "print(str1 <= str2)\n",
    "#Compare str1 and str2 and print True using equality operator\n",
    "print(str1 == str2)\n",
    "#Compare str1 and str2 and print False using equality operator\n",
    "print(str1 != str2)\n",
    "#Compare str1 and str2 and print False using comparison operator\n",
    "print(str1 < str2)\n"
   ]
  },
  {
   "cell_type": "code",
   "execution_count": null,
   "metadata": {},
   "outputs": [],
   "source": [
    "str1 = 'Python'\n",
    "str2 = 'python'\n",
    "#Compare str1 and str2 and print True using comparison operator\n",
    "print(str1 <= str2)\n",
    "#Compare str1 and str2 and print True using equality operator\n",
    "print(str1 == str2)\n",
    "#Compare str1 and str2 and print False using equality operator\n",
    "print(str1 != str2)\n",
    "#Compare str1 and str2 and print False using comparison operator\n",
    "print(str1 < str2)\n"
   ]
  },
  {
   "cell_type": "code",
   "execution_count": 6,
   "metadata": {},
   "outputs": [
    {
     "name": "stdout",
     "output_type": "stream",
     "text": [
      "\n",
      "Python\n",
      "False\n",
      "True\n",
      "Python\n"
     ]
    }
   ],
   "source": [
    "a = 'Python'\n",
    "b = ''\n",
    "\n",
    "#Apply logical opereators (and, or & not) on above string values and observe the output.\n",
    "print(a and b) #space\n",
    "print(a or b)  #Python\n",
    "print(not a)   #False\n",
    "print(not b)   #True\n",
    "print(b or a)"
   ]
  },
  {
   "cell_type": "code",
   "execution_count": 7,
   "metadata": {},
   "outputs": [
    {
     "name": "stdout",
     "output_type": "stream",
     "text": [
      "\n",
      "\n",
      "True\n"
     ]
    }
   ],
   "source": [
    "a = ''\n",
    "b = ''\n",
    "\n",
    "#Apply logical opereators (and, or & not) on above string values and observe the output.\n",
    "print(a and b)\n",
    "print(a or b)\n",
    "print(not a)"
   ]
  },
  {
   "cell_type": "code",
   "execution_count": 8,
   "metadata": {},
   "outputs": [
    {
     "name": "stdout",
     "output_type": "stream",
     "text": [
      "learnbay\n",
      "Python\n",
      "False\n"
     ]
    }
   ],
   "source": [
    "a = 'Python'\n",
    "b = 'learnbay'\n",
    "\n",
    "#Apply logical opereators (and, or & not) on above string values and observe the output.\n",
    "print(a and b)\n",
    "print(a or b)\n",
    "print(not a)"
   ]
  },
  {
   "cell_type": "code",
   "execution_count": null,
   "metadata": {},
   "outputs": [],
   "source": [
    "my_str = \"Although 8 that way may not be obvious at first unless you're Dutch\"\n",
    "#print(len(my_str))\n",
    "\n",
    "my_str = \"Although 8 that way may not be obvious at first unless you're Dutch\"\n",
    "count_t = 0\n",
    "pos = 67\n",
    "while True:\n",
    "    pos = my_str.rindex('t')\n",
    "    if pos == 0 :\n",
    "        break\n",
    "    else:\n",
    "        pos = pos-1\n",
    "        count_t +=1\n",
    "print(count_t)"
   ]
  },
  {
   "cell_type": "code",
   "execution_count": 9,
   "metadata": {},
   "outputs": [
    {
     "ename": "NameError",
     "evalue": "name 'my_Str' is not defined",
     "output_type": "error",
     "traceback": [
      "\u001b[1;31m---------------------------------------------------------------------------\u001b[0m",
      "\u001b[1;31mNameError\u001b[0m                                 Traceback (most recent call last)",
      "\u001b[1;32m<ipython-input-9-f82ba38ffd64>\u001b[0m in \u001b[0;36m<module>\u001b[1;34m\u001b[0m\n\u001b[0;32m      1\u001b[0m \u001b[0mmy_str\u001b[0m \u001b[1;33m=\u001b[0m \u001b[1;34m\"Although 8 that way may not be obvious at first unless you're Dutch\"\u001b[0m\u001b[1;33m\u001b[0m\u001b[1;33m\u001b[0m\u001b[0m\n\u001b[1;32m----> 2\u001b[1;33m \u001b[0mprint\u001b[0m\u001b[1;33m(\u001b[0m\u001b[0mlen\u001b[0m\u001b[1;33m(\u001b[0m\u001b[0mmy_Str\u001b[0m\u001b[1;33m)\u001b[0m\u001b[1;33m)\u001b[0m\u001b[1;33m\u001b[0m\u001b[1;33m\u001b[0m\u001b[0m\n\u001b[0m\u001b[0;32m      3\u001b[0m \u001b[1;31m# count_t = 0\u001b[0m\u001b[1;33m\u001b[0m\u001b[1;33m\u001b[0m\u001b[1;33m\u001b[0m\u001b[0m\n\u001b[0;32m      4\u001b[0m \u001b[1;31m# pos = -1\u001b[0m\u001b[1;33m\u001b[0m\u001b[1;33m\u001b[0m\u001b[1;33m\u001b[0m\u001b[0m\n\u001b[0;32m      5\u001b[0m \u001b[1;31m# while True:\u001b[0m\u001b[1;33m\u001b[0m\u001b[1;33m\u001b[0m\u001b[1;33m\u001b[0m\u001b[0m\n",
      "\u001b[1;31mNameError\u001b[0m: name 'my_Str' is not defined"
     ]
    }
   ],
   "source": [
    "my_str = \"Although 8 that way may not be obvious at first unless you're Dutch\"\n",
    "print(len(my_Str))\n",
    "# count_t = 0\n",
    "# pos = -1\n",
    "# while True:\n",
    "#     pos = my_str.find('t',pos+1)\n",
    "#     if pos == -1:\n",
    "#         break\n",
    "#     else:\n",
    "#         count_t +=1\n",
    "# print(count_t)\n",
    "\n",
    "#By index\n",
    "# ind_t = len(my_str)\n",
    "# count = 0\n",
    "\n",
    "# for i in range(len(my_str):\n",
    "#     if my_str.index()  ==  t :\n",
    "#         count +=1\n",
    "#         ind_t -=1\n",
    "#         while True:\n",
    "#             ind_t == (len(my_str)):\n",
    "#             break    \n",
    "#     else:\n",
    "#         ind_t += 1\n",
    "# print(coun_t)\n",
    "#print(len(my_Str))\n"
   ]
  },
  {
   "cell_type": "code",
   "execution_count": 4,
   "metadata": {},
   "outputs": [
    {
     "name": "stdout",
     "output_type": "stream",
     "text": [
      "7\n",
      "9\n",
      "9\n",
      "-1\n",
      "11\n",
      "63\n",
      "63\n"
     ]
    }
   ],
   "source": [
    "my_str = \"Although 8 that way may not be obvious at first unless you're Dutch\"\n",
    "\n",
    "#Write the code to get the total count of 't' in above string. Use find() and index() method.\n",
    "count_t = 0\n",
    "pos = -1\n",
    "while True:\n",
    "    pos = my_str.find('t',pos+1)\n",
    "    if pos == -1:\n",
    "        break\n",
    "    else:\n",
    "        count_t +=1\n",
    "print(count_t)\n",
    "# ##By Imdex() method###\n",
    "\n",
    "my_str = \"Although 8 that way may not be obvious at first unless you're Dutch\"\n",
    "int_t = 0\n",
    "for i in range(len(my_str)):\n",
    "    str = (my_str[i], i)\n",
    "    if str[0] == 't':\n",
    "        int_t += 1\n",
    "    else:\n",
    "        if i == 67:\n",
    "            break\n",
    "        else:\n",
    "            i = i+1\n",
    "\n",
    "print(int_t)\n",
    "print(my_str.count('t'))\n",
    "\n",
    "#my_str.count('t')\n",
    "#Write the code to get the index of '8' in my_str. Use find() and index() method.\n",
    "print(my_str.find('8'))\n",
    "print(my_str.index('8'))\n",
    "\n",
    "#What will be the output of below code?\n",
    "print(my_str.find('the'))\n",
    "#print(my_str.index('the'))\n",
    "\n",
    "print(my_str.find('t', 9, 15))\n",
    "\n",
    "print(my_str.rfind('u'))\n",
    "\n",
    "print(my_str.rindex('u'))\n"
   ]
  },
  {
   "cell_type": "code",
   "execution_count": 28,
   "metadata": {},
   "outputs": [
    {
     "name": "stdout",
     "output_type": "stream",
     "text": [
      "Enter a input:Python\n",
      "Python\n",
      "Enter a input: Python\n",
      " Python\n"
     ]
    }
   ],
   "source": [
    "#W A P which applies strip() method if any string, which will be taken from user, starts and ends with space, or applies \n",
    "#rrstrip() method if that string only ends with space or applies lstrip() method if that string only starts with a space.\n",
    "\n",
    "#For example:-\n",
    "#input:- '    Python   '\n",
    "#my_str = input('Enter a input:')\n",
    "#print(my_str.strip())\n",
    "#output:- 'Python'\n",
    "\n",
    "#input:- '    Python'\n",
    "#output:- 'Python'\n",
    "#my_str = input('Enter a input:')\n",
    "print(my_str.lstrip())\n",
    "#input:- 'Python   '\n",
    "#output:- 'Python'\n",
    "#my_str = input('Enter a input:')\n",
    "#print(my_str.rstrip())"
   ]
  },
  {
   "cell_type": "code",
   "execution_count": 33,
   "metadata": {},
   "outputs": [
    {
     "name": "stdout",
     "output_type": "stream",
     "text": [
      "ALTHOUGH 8 THAT WAY MAY NOT BE OBVIOUS AT FIRST UNLESS YOU'RE DUTCH\n",
      "although 8 that way may not be obvious at first unless you're dutch\n",
      "aLTHOUGH 8 THAT WAY MAY NOT BE OBVIOUS AT FIRST UNLESS YOU'RE dUTCH\n"
     ]
    }
   ],
   "source": [
    "my_str = \"Although 8 that way may not be obvious at first unless you're Dutch\"\n",
    "\n",
    "#Write the code to convert all alphabets in my_str into upper case.\n",
    "print(my_str.upper())\n",
    "\n",
    "#Write the code to convert all alphabets in my_str into lower case.\n",
    "print(my_str.lower())\n",
    "\n",
    "#Write the code to swap the cases of all alphabets in my_str.(lower to upper and upper to lower)\n",
    "print(my_str.swapcase())\n"
   ]
  },
  {
   "cell_type": "code",
   "execution_count": 56,
   "metadata": {},
   "outputs": [
    {
     "name": "stdout",
     "output_type": "stream",
     "text": [
      "Enter a string: python class in learnbay\n",
      "False\n",
      "Python Class In Learnbay\n"
     ]
    }
   ],
   "source": [
    "#Write the code which takes one string from user and if it starts with small case letter then convert it to corresponding \n",
    "#capital letter otherwise if starts with capital letters then convert first character of every word in that string into capital.\n",
    "#my_str = input('Enter a string: ')\n",
    "# if my_str[0].isupper:\n",
    "#     print(my_str.lower())\n",
    "# else:\n",
    "#     #my_str[0].islower()\n",
    "#     print(my_str.upper())\n",
    "my_str = input('Enter a string: ')\n",
    "print(my_str.isupper())\n",
    "print(my_str.title())\n"
   ]
  },
  {
   "cell_type": "code",
   "execution_count": 52,
   "metadata": {},
   "outputs": [
    {
     "name": "stdout",
     "output_type": "stream",
     "text": [
      "Enter a string:py1234\n",
      "False\n",
      "False\n",
      "True\n",
      "False\n",
      "PY1234\n",
      "py1234\n",
      "Py1234\n",
      "False\n",
      "False\n"
     ]
    }
   ],
   "source": [
    "#Take a string from user and check if it is:-\n",
    "#     1. alphanumeric\n",
    "#     2. alphabets\n",
    "#     3. digit\n",
    "#     4. all letters are in lower case\n",
    "#     5. all letters are in upper case\n",
    "#     6. in title case\n",
    "#     7. a space character\n",
    "#     8. numeric\n",
    "#     9. all number elements in string are decimal\n",
    "# \n",
    "str = input('Enter a string:')\n",
    "print(str.isalpha())\n",
    "print(str.isnumeric())\n",
    "print(str.isalnum())\n",
    "print(str.isdigit())\n",
    "print(str.upper())\n",
    "print(str.lower())\n",
    "print(str.title())\n",
    "print(str.isspace())\n",
    "# print(str.isdecimal())"
   ]
  },
  {
   "cell_type": "code",
   "execution_count": 51,
   "metadata": {},
   "outputs": [
    {
     "name": "stdout",
     "output_type": "stream",
     "text": [
      "Enter a string:class\n"
     ]
    },
    {
     "data": {
      "text/plain": [
       "True"
      ]
     },
     "execution_count": 51,
     "metadata": {},
     "output_type": "execute_result"
    }
   ],
   "source": [
    "#W A P which takes a string as an input and prints True if the string is valid identifier else returns False.\n",
    "#Sample Input:- 'abc', 'abc1', 'ab1c', '1abc', 'abc$', '_abc', 'if'\n",
    "str = input('Enter a string:')\n",
    "(str.isidentifier())\n"
   ]
  },
  {
   "cell_type": "code",
   "execution_count": 43,
   "metadata": {},
   "outputs": [
    {
     "name": "stdout",
     "output_type": "stream",
     "text": [
      "Aa\n",
      "True\n",
      "\u001ba\n",
      "False\n",
      "False\n",
      "\n",
      "True\n",
      "char(27)\n"
     ]
    }
   ],
   "source": [
    "#What will be output of below code?\n",
    "s = chr(65) + chr(97)\n",
    "print(s)\n",
    "print(s.isprintable())\n",
    "\n",
    "s = chr(27) + chr(97)\n",
    "print(s)\n",
    "print(s.isprintable())\n",
    "\n",
    "s = '\\n'\n",
    "#print(s)\n",
    "print(s.isprintable())\n",
    "\n",
    "s = ''\n",
    "#print(s)\n",
    "print(s.isprintable())\n",
    "\n",
    "print(p)"
   ]
  },
  {
   "cell_type": "code",
   "execution_count": 46,
   "metadata": {},
   "outputs": [
    {
     "name": "stdout",
     "output_type": "stream",
     "text": [
      "'  '\n",
      "True\n",
      "'Studytonight'\n",
      "True\n",
      "'Study tonight'\n",
      "True\n",
      "'Studytonight@123'\n",
      "True\n",
      "'\\xb0'\n",
      "False\n",
      "'\\xf6'\n",
      "False\n"
     ]
    }
   ],
   "source": [
    "#What will be output of below code?\n",
    "my_string = '  '\n",
    "#print(ascii(my_string))\n",
    "print(my_string.isascii())\n",
    "\n",
    "my_string = 'Studytonight'\n",
    "#print(ascii(my_string))\n",
    "print(my_string.isascii())\n",
    "\n",
    "my_string = 'Study tonight'\n",
    "#print(ascii(my_string))\n",
    "print(my_string.isascii())\n",
    "\n",
    "my_string = 'Studytonight@123'\n",
    "#print(ascii(my_string))\n",
    "print(my_string.isascii())\n",
    "\n",
    "my_string = '°'\n",
    "#print(ascii(my_string))\n",
    "print(my_string.isascii())\n",
    "\n",
    "my_string = 'ö'\n",
    "#print(ascii(my_string))\n",
    "print(my_string.isascii())"
   ]
  },
  {
   "cell_type": "code",
   "execution_count": 50,
   "metadata": {},
   "outputs": [
    {
     "name": "stdout",
     "output_type": "stream",
     "text": [
      "der fluss\n",
      "The strings are equal.\n"
     ]
    }
   ],
   "source": [
    "#What will be the output of below code?\n",
    "firstString = \"der Fluß\"\n",
    "secondString = \"der Fluss\"\n",
    "print(firstString.casefold())\n",
    "if firstString.casefold() == secondString.casefold():\n",
    "    print('The strings are equal.')\n",
    "else:\n",
    "    print('The strings are not equal.')"
   ]
  },
  {
   "cell_type": "code",
   "execution_count": 53,
   "metadata": {},
   "outputs": [
    {
     "name": "stdout",
     "output_type": "stream",
     "text": [
      "Python**\n",
      "**Python\n",
      "**Python**\n"
     ]
    }
   ],
   "source": [
    "#Write the code to get below output\n",
    "#O/P 1:- python** (using ljust method)\n",
    "my_str = 'Python'\n",
    "print(my_str.ljust(8, '*'))\n",
    "#Write the code to get below output\n",
    "#O/P 1:- **python (using rjust method)\n",
    "my_str = 'Python'\n",
    "print(my_str.rjust(8, '*'))\n",
    "\n",
    "#Write the code to get below output\n",
    "#O/P 1:- **python** (using rjust method)\n",
    "my_str = 'Python'\n",
    "print(my_str.center(10, '*'))"
   ]
  },
  {
   "cell_type": "code",
   "execution_count": 5,
   "metadata": {},
   "outputs": [
    {
     "name": "stdout",
     "output_type": "stream",
     "text": [
      "Enter a Input:Write a Python program to find the length of the my_str\n",
      "55\n"
     ]
    }
   ],
   "source": [
    "#Write a Python program to find the length of the my_str:-\n",
    "my_str = input('Enter a Input:')\n",
    "print(len(my_str))\n",
    "\n",
    "\n",
    "#Input:- 'Write a Python program to find the length of the my_str'\n",
    "#Output:- 55\n"
   ]
  },
  {
   "cell_type": "code",
   "execution_count": 8,
   "metadata": {},
   "outputs": [
    {
     "name": "stdout",
     "output_type": "stream",
     "text": [
      "Enter a Input:peter piper picked a peck of pickled peppers\n",
      "9\n"
     ]
    }
   ],
   "source": [
    "#Write a Python program to find the total number of times letter 'p' is appeared in the below string:-\n",
    "my_str = input('Enter a Input:')\n",
    "print(my_str.count('p'))   \n",
    "#Input:- 'peter piper picked a peck of pickled peppers.'\n",
    "#Output:- 9\n"
   ]
  },
  {
   "cell_type": "code",
   "execution_count": 69,
   "metadata": {},
   "outputs": [
    {
     "name": "stdout",
     "output_type": "stream",
     "text": [
      "Enter a Input:peter piper picked a peck of pickled peppers.\n",
      "0\n",
      "6\n",
      "8\n",
      "12\n",
      "21\n",
      "29\n",
      "39\n",
      "40\n"
     ]
    }
   ],
   "source": [
    "#Write a Python Program, to print all the indexes of all occurences of letter 'p' appeared in the string:-\n",
    "my_str = input('Enter a Input:')\n",
    "print(my_str.index('p'))    \n",
    "print(my_str.index('pi')) \n",
    "print(my_str.index('per'))\n",
    "print(my_str.index('pic'))\n",
    "print(my_str.index('pec'))\n",
    "print(my_str.rindex('pi'))\n",
    "print(my_str.rindex('ppe'))\n",
    "print(my_str.rindex('per'))\n",
    "#Input:- 'peter piper picked a peck of pickled peppers.'\n",
    "#Output:- \n",
    "# 0\n",
    "# 6\n",
    "# 8\n",
    "# 12\n",
    "# 21\n",
    "# 29\n",
    "# 37\n",
    "# 39\n",
    "# 40\n"
   ]
  },
  {
   "cell_type": "code",
   "execution_count": null,
   "metadata": {},
   "outputs": [],
   "source": [
    "#Write a python program to find below output:-\n",
    "\n",
    "#Input:- 'peter piper picked a peck of pickled peppers.'\n",
    "#Output:- ['peter', 'piper', 'picked', 'a', 'peck', 'of', 'pickled', 'peppers.']\n",
    "\n",
    "#Output:- ['peter', 'piper', 'picked', 'a', 'peck', 'of', 'pickled', 'peppers.']\n",
    "\n",
    "str = input('Enter a string: ')\n",
    "print(str.split())\n"
   ]
  },
  {
   "cell_type": "code",
   "execution_count": 38,
   "metadata": {},
   "outputs": [
    {
     "name": "stdout",
     "output_type": "stream",
     "text": [
      "peppers. pickled of peck a picked piper peter\n"
     ]
    }
   ],
   "source": [
    "#Write a python program to find below output:-\n",
    "#str = input('Enter a string:')\n",
    "#int_str = print('peter piper picked a peck of pickled peppers.'.split()[::-1])\n",
    "\n",
    "inp_str = 'peter piper picked a peck of pickled peppers.'.split()[::-1]\n",
    "print(' '.join(inp_str))\n",
    "\n",
    "\n",
    "\n",
    "#Input:- 'peter piper picked a peck of pickled peppers.'\n",
    "#Output:- 'peppers. pickled of peck a picked piper peter'\n"
   ]
  },
  {
   "cell_type": "code",
   "execution_count": 31,
   "metadata": {},
   "outputs": [
    {
     "name": "stdout",
     "output_type": "stream",
     "text": [
      "Enter a string:peter piper picked a peck of pickled peppers\n",
      "sreppep delkcip fo kcep a dekcip repip retep\n"
     ]
    }
   ],
   "source": [
    "#Write a python program to find below output:-\n",
    "str = input('Enter a string:')\n",
    "#print(len(str))\n",
    "#print((str[45:0:-1]))\n",
    "print(str[::-1])\n",
    "#Input:- 'peter piper picked a peck of pickled peppers.'\n",
    "#Output:- '.sreppep delkcip fo kcep a dekcip repip retep'\n",
    "\n"
   ]
  },
  {
   "cell_type": "code",
   "execution_count": 16,
   "metadata": {},
   "outputs": [
    {
     "name": "stdout",
     "output_type": "stream",
     "text": [
      "retep repip dekcip a kcep fo delkcip .sreppep\n"
     ]
    }
   ],
   "source": [
    "#Write a python program to find below output:-\n",
    "inp_str = 'peter piper picked a peck of pickled peppers.'.split()\n",
    "print( ' '.join([ele[::-1] for ele in inp_str]))\n",
    "#Input:- 'peter piper picked a peck of pickled peppers.'\n",
    "#Output:- 'retep repip dekcip a kcep fo delkcip .sreppep'"
   ]
  },
  {
   "cell_type": "code",
   "execution_count": 22,
   "metadata": {},
   "outputs": [
    {
     "name": "stdout",
     "output_type": "stream",
     "text": [
      "Enter a string:peter piper picked a peck of pickled peppers.\n",
      "Peter Piper Picked A Peck Of Pickled Peppers.\n"
     ]
    }
   ],
   "source": [
    "#Write a python program to find below output:-\n",
    "#str = input('Enter a string:')\n",
    "str = input('Enter a string:')\n",
    "print(str.title())\n",
    "#Input:- 'peter piper picked a peck of pickled peppers.'\n",
    "#Output:- 'Peter Piper Picked A Peck Of Pickled Peppers.'\n",
    "\n"
   ]
  },
  {
   "cell_type": "code",
   "execution_count": 16,
   "metadata": {},
   "outputs": [
    {
     "name": "stdout",
     "output_type": "stream",
     "text": [
      "Enter a string:Peter Piper Picked A Peck Of Pickled Peppers.\n",
      "Peter piper picked a peck of pickled peppers.\n"
     ]
    }
   ],
   "source": [
    "#Write a python program to find below output:-\n",
    "str = input('Enter a string:')\n",
    "print(str.capitalize())\n",
    "#Input:- 'Peter Piper Picked A Peck Of Pickled Peppers.'\n",
    "#Output:- 'Peter piper picked a peck of pickled peppers.'\n",
    "\n"
   ]
  },
  {
   "cell_type": "code",
   "execution_count": 18,
   "metadata": {},
   "outputs": [
    {
     "name": "stdout",
     "output_type": "stream",
     "text": [
      "Enter a string:Peter Piper Picked A Peck Of Pickled Peppers.\n",
      "29\n"
     ]
    }
   ],
   "source": [
    "#Write a python program to implement index method. If sub_str is found in my_str then it will print the index\n",
    "# of first occurrence of first character of matching string in my_str:-\n",
    "str = input('Enter a string:')\n",
    "print(str.rfind('Pickl'))\n",
    "#Input:- my_str = 'Peter Piper Picked A Peck Of Pickled Peppers.', sub_str = 'Pickl'\n",
    "#Output:- 29\n"
   ]
  },
  {
   "cell_type": "code",
   "execution_count": 19,
   "metadata": {},
   "outputs": [
    {
     "name": "stdout",
     "output_type": "stream",
     "text": [
      "Enter a string:Peter Piper Picked A Peck Of Pickled Peppers\n",
      "Peter Piper Picked A Pack Of Pickled Peppers\n"
     ]
    }
   ],
   "source": [
    "#Write a python program to implement replace method. If sub_str is found in my_str then it will replace the first \n",
    "#occurrence of sub_str with new_str else it will will print sub_str not found:-\n",
    "str = input('Enter a string:')\n",
    "print(str.replace('Peck','Pack',1))\n",
    "\n",
    "#Input:- my_str = 'Peter Piper Picked A Peck Of Pickled Peppers.', sub_str = 'Peck', new_str = 'Pack'\n",
    "#Output:- 'Peter Piper Picked A Pack Of Pickled Peppers.'"
   ]
  },
  {
   "cell_type": "code",
   "execution_count": 8,
   "metadata": {},
   "outputs": [
    {
     "name": "stdout",
     "output_type": "stream",
     "text": [
      "Peter Piper Picked A Peck Of Pickled Peppers.\n"
     ]
    },
    {
     "data": {
      "text/plain": [
       "'********************Peck*********************'"
      ]
     },
     "execution_count": 8,
     "metadata": {},
     "output_type": "execute_result"
    }
   ],
   "source": [
    "# #Write a python program to find below output (implements rjust and ljust):-\n",
    "# str = (input('Enter a string:'))\n",
    "# print(str[21:25])\n",
    "# print(str[21:25].ljust(21,'*'))\n",
    "# print(str[21:25].rjust(21,'*'))\n",
    "# print(str[21:25].center(21,'*'))\n",
    "# #Input:- 'Peter Piper Picked A Peck Of Pickled Peppers.', sub_str = 'Peck', \n",
    "# #Output:- '*********************Peck********************'\n",
    "inp_str = 'Peter Piper Picked A Peck Of Pickled Peppers.'\n",
    "print(inp_str)\n",
    "sub_str = 'Peck'\n",
    "sub_str.rjust((inp_str.index(sub_str)+3), '*' ).ljust(len(inp_str), '*')\n",
    "\n"
   ]
  },
  {
   "cell_type": "code",
   "execution_count": 9,
   "metadata": {},
   "outputs": [
    {
     "ename": "SyntaxError",
     "evalue": "invalid syntax (<ipython-input-9-1600eb59cf75>, line 4)",
     "output_type": "error",
     "traceback": [
      "\u001b[1;36m  File \u001b[1;32m\"<ipython-input-9-1600eb59cf75>\"\u001b[1;36m, line \u001b[1;32m4\u001b[0m\n\u001b[1;33m    #print(b, type(b), id(b))'''\u001b[0m\n\u001b[1;37m                                \n^\u001b[0m\n\u001b[1;31mSyntaxError\u001b[0m\u001b[1;31m:\u001b[0m invalid syntax\n"
     ]
    }
   ],
   "source": [
    "a = eval('Enter a first float number: ')\n",
    "b = eval(input('Enter a second float number: ')\n",
    "'''print(a, type(a), id(a))\n",
    "#print(b, type(b), id(b))'''"
   ]
  },
  {
   "cell_type": "code",
   "execution_count": 13,
   "metadata": {},
   "outputs": [
    {
     "name": "stdout",
     "output_type": "stream",
     "text": [
      "Enter a first float number: 10.20\n",
      "Enter a second float number: 20.30\n",
      "10.2 <class 'float'> 754723384752\n",
      "20.3 <class 'float'> 754723384432\n"
     ]
    }
   ],
   "source": [
    "a = eval(input('Enter a first float number: '))\n",
    "b = eval(input('Enter a second float number: '))\n",
    "print(a, type(a), id(a))\n",
    "print(b, type(b), id(b))"
   ]
  },
  {
   "cell_type": "code",
   "execution_count": 15,
   "metadata": {},
   "outputs": [
    {
     "name": "stdout",
     "output_type": "stream",
     "text": [
      "retep repip dekcip a kcep fo delkcip .sreppep\n"
     ]
    }
   ],
   "source": [
    "inp_str = 'peter piper picked a peck of pickled peppers.'.split()\n",
    "print( ' '.join([ele[::-1] for ele in inp_str]))"
   ]
  },
  {
   "cell_type": "code",
   "execution_count": 36,
   "metadata": {},
   "outputs": [
    {
     "name": "stdout",
     "output_type": "stream",
     "text": [
      "Enter a number[0-5]: 999\n",
      "number is not in range\n"
     ]
    }
   ],
   "source": [
    "num1 = int(input('Enter a number[0-5]: ')) \n",
    "if num1 == 0:\n",
    "    print('The number you have entered is 0')\n",
    "    print('Zero')\n",
    "    print('Thank you for using the app')\n",
    "elif num1 == 1:\n",
    "    print('The number you have entered is 1')\n",
    "    print('One')\n",
    "    print('Thank you for using the app')\n",
    "elif num1 == 2:\n",
    "    print('Two')\n",
    "elif num1 == 3:\n",
    "    print('Three')\n",
    "elif num1 == 4:\n",
    "    print('Four')\n",
    "elif num1 == 5:\n",
    "    print('Five')\n",
    "else:\n",
    "    print('number is not in range')\n"
   ]
  },
  {
   "cell_type": "code",
   "execution_count": null,
   "metadata": {},
   "outputs": [],
   "source": [
    "try:\n",
    "    num1 = int(input('Enter a number: '))\n",
    "except:\n",
    "    print('The value you have entered is not correct')\n",
    "else:\n",
    "    while True:\n",
    "        if (num1<0) or (num1>5):\n",
    "            num1 = int(input('Enter the number again: '))\n",
    "        else:\n",
    "            if num1 == 0:\n",
    "                print('The number you have entered is 0')\n",
    "                print('Zero')\n",
    "                print('Thank you for using the app')\n",
    "            elif num1 == 1:\n",
    "                print('The number you have entered is 1')\n",
    "                print('One')\n",
    "                print('Thank you for using the app')\n",
    "            elif num1 == 2:\n",
    "                print('Two')\n",
    "            elif num1 == 3:\n",
    "                print('Three')\n",
    "            elif num1 == 4:\n",
    "                print('Four')\n",
    "            elif num1 == 5:\n",
    "                print('Five')\n",
    "            break"
   ]
  },
  {
   "cell_type": "code",
   "execution_count": null,
   "metadata": {},
   "outputs": [],
   "source": [
    " i = 0\n",
    "# while i < 5:\n",
    "#     print('Hi')\n",
    "#     i += 1"
   ]
  },
  {
   "cell_type": "code",
   "execution_count": null,
   "metadata": {},
   "outputs": [],
   "source": [
    "To check whether a number is even or odd\n",
    "# num1 = eval(input('Enter a number: '))\n",
    "# if num1%2 == 0:\n",
    "#     print('Number is even')\n",
    "# else:\n",
    "#     print('Number is odd')\n",
    "\n",
    "# num1 = 10 => 0==0 => True => 'Number is even'\n",
    "# num1 = 13 => 1==0 => False => 'Number is Odd'"
   ]
  },
  {
   "cell_type": "code",
   "execution_count": null,
   "metadata": {},
   "outputs": [],
   "source": [
    "# To check an year entered by user is leap year or not\n",
    "# year = int(input('Enter an year: '))\n",
    "# if year%4 == 0:\n",
    "#     if year%100 == 0:\n",
    "#         if year%400 == 0:\n",
    "#             print('Year is a leap year')\n",
    "#         else:\n",
    "#             print('Year is not a leap year')\n",
    "#     else:\n",
    "#         print('Year is a leap year')\n",
    "# else:\n",
    "#     print('Year is not a leap year')\n",
    "\n",
    "# year = int(input('Enter an year: '))\n",
    "# if ((year%400 == 0) or ((year%4 == 0) and (year%100!=0))):\n",
    "#     print('Year is a leap Year')\n",
    "# else:\n",
    "#     print('Year is not a leap year')\n",
    "\n",
    "\n",
    "# 1. '%4, %100, %400 == 0 => True => Year is leap year => 1600, 2000'\n",
    "# 2. '''%4, %100 == 0 =>  True\n",
    "#     %400 ==0 =>  False =. Year is not a leap year => 1800, 1900'''\n",
    "# 3. '''%4 == 0 => True\n",
    "#         %100 == 0 => False => Year is a leap year => 2004, 2020'''\n",
    "# 4. %4 == 0 => False => Not a leap year => 1967, 1999\n",
    "    \n"
   ]
  },
  {
   "cell_type": "code",
   "execution_count": null,
   "metadata": {},
   "outputs": [],
   "source": [
    " '%4, %100, %400 == 0 => True => Year is leap year => 1600, 2000'\n",
    "2. '''%4, %100 == 0 =>  True\n",
    "    %400 ==0 =>  False =. Year is not a leap year => 1800, 1900'''\n",
    "3. '''%4 == 0 => True\n",
    "        %100 == 0 => False => Year is a leap year => 2004, 2020'''\n",
    "4. %4 == 0 => False => Not a leap year => 1967, 1999\n",
    "    "
   ]
  },
  {
   "cell_type": "code",
   "execution_count": null,
   "metadata": {},
   "outputs": [],
   "source": [
    "# Loops in Python - for, while\n",
    "\n",
    "# For loop\n",
    "# Syntax - \n",
    "# for var in iterable:\n",
    "#     stat\n",
    "#     stat\n",
    "#     stat\n",
    "#     expr\n",
    "\n",
    "# for i in 1000:   # TypeError: 'int' object is not iterable\n",
    "#     print(i)\n",
    "#     print(i*2)\n",
    "#     print(i*3)\n",
    "#     print()\n",
    "\n",
    "\n",
    "# for i in 'Python':   \n",
    "#     print(i)\n",
    "#     print(i*2)\n",
    "#     print(i*3)\n",
    "#     print()\n",
    "    \n",
    "    \n",
    "# for i in '1000':   \n",
    "#     print(i)\n",
    "#     print(i*2)\n",
    "#     print(i*3)\n",
    "#     print()\n",
    "    \n",
    "\n",
    "# i = 'n'\n",
    "# P\n",
    "# PP\n",
    "# PPP\n",
    "\n",
    "# y\n",
    "# yy\n",
    "# yyy\n",
    "\n",
    "# t\n",
    "# tt\n",
    "# ttt\n",
    "\n",
    "# h\n",
    "# hh\n",
    "# hhh\n",
    "\n",
    "# o\n",
    "# oo\n",
    "# ooo\n",
    "\n",
    "# n\n",
    "# nn\n",
    "# nnn\n",
    "\n",
    "\n",
    "# my_str = 'Python'\n",
    "# P\n",
    "# yy\n",
    "# ttt\n",
    "# hhhh\n",
    "# ooooo\n",
    "# nnnnnn\n",
    "\n",
    "# for i in range(len(my_str)):\n",
    "#     print(my_str[i] * (i+1), i)\n",
    "\n",
    "\n",
    "email_lst = ['report@me.com',\n",
    "'kildjean@mac.com',\n",
    "'tkrotchko@att.net',\n",
    "'seano@icloud.com',\n",
    "'ngedmond@me.com',\n",
    "'gtewari@yahoo.com',\n",
    "'konit@att.net',\n",
    "'mrdvt@gmail.com',\n",
    "'vertigo@optonline.net',\n",
    "'bartak@msn.com',\n",
    "'roamer@me.com',\n",
    "'nwiger@optonline.net']\n",
    "\n",
    "# print only those email id whoch has user name more than 5\n",
    "\n",
    "# for email in email_lst:\n",
    "#     if len(email[:email.index('@')]) > 5:\n",
    "#         print(email)\n",
    "\n",
    "# for email in email_lst:\n",
    "#     if len(email.split('@')[0]) > 5:\n",
    "#         print(email)"
   ]
  },
  {
   "cell_type": "code",
   "execution_count": null,
   "metadata": {},
   "outputs": [],
   "source": [
    "# Any object which implements __iter__ method -> Iterable object\n",
    "# print(dir(int))"
   ]
  },
  {
   "cell_type": "code",
   "execution_count": null,
   "metadata": {},
   "outputs": [],
   "source": [
    "num1 = int(input('Enter a num1: '))\n",
    "num2 = int(input('Enter a num2: '))\n",
    "print(\"select operation : \")\n",
    "print(\"1. Add\")\n",
    "print(\"2. Sub\")\n",
    "print(\"3. Mul\")\n",
    "print(\"4. Div\")\n",
    "print(\"5. Quo\")\n",
    "print(\"6. Mod\")\n",
    "print(\"7. Floor div\")\n",
    "print(\"8. Expo\")\n",
    "print(\"9. Quit\")\n",
    "ch = int(input('Enter a operation'))\n",
    "result=0\n",
    "if ch == 1:\n",
    "    result = num1+num2\n",
    "    print(result)\n",
    "elif ch == 2:\n",
    "    result = num1-num2\n",
    "    print(result)\n",
    "elif ch == 3:\n",
    "    result = num1*num2\n",
    "    print(result)    \n",
    "elif ch == 4:\n",
    "    result = num1/num2\n",
    "elif ch == 3:\n",
    "    result = num1-num2\n",
    "    print(result)    \n",
    "elif ch == 5:\n",
    "    result = num1**num2\n",
    "    print(result)    \n",
    "elif ch == 6:\n",
    "    result = num1//num2\n",
    "    print(result)    \n",
    "elif ch == 7:\n",
    "    result = num1%num2\n",
    "    print(result)    \n",
    "elif ch == 8:\n",
    "    result = num1**num2\n",
    "    print(result)    \n",
    "elif ch == 9:\n",
    "    print(\"exit\")\n",
    "        \n",
    "else:   \n",
    "\n",
    "    print('Enter a wrong number')"
   ]
  },
  {
   "cell_type": "code",
   "execution_count": null,
   "metadata": {},
   "outputs": [],
   "source": [
    "num1 = int(input('Enter a num1: '))\n",
    "num2 = int(input('Enter a num2: '))\n",
    "lst_item = ['1 Add','2 Sub','3 Mul','4 Div','5 Floor_div','6 Mod','7 Quo','8 Expo','9 Quit']\n",
    "for i in  range (len(lst_item)):\n",
    "        print(lst_item[i])\n",
    "        \n",
    "print(\"select operation : \")\n",
    "ch = int(input('Enter a operation'))\n",
    "result=0\n",
    "if ch == 1:\n",
    "    result = num1+num2\n",
    "    print(result)\n",
    "elif ch == 2:\n",
    "    result = num1-num2\n",
    "    print(result)\n",
    "elif ch == 3:\n",
    "    result = num1*num2\n",
    "    print(result)   \n",
    "elif ch == 4:\n",
    "    result = num1/num2\n",
    "    print(result)\n",
    "elif ch == 5:\n",
    "    result = num1//num2\n",
    "    print(result)    \n",
    "elif ch == 6:\n",
    "    result = num1%num2\n",
    "    print(result)    \n",
    "elif ch == 7:\n",
    "    result = num1//num2\n",
    "    print(result)    \n",
    "elif ch == 8:\n",
    "    result = num1**num2\n",
    "    print(result)    \n",
    "elif ch == 9:\n",
    "    print(\"exit\")\n",
    "        \n",
    "else:   \n",
    "\n",
    "      print('Enter a Wrong nuber') \n",
    "  \n",
    "\n",
    "##print('num1,num2, result')    "
   ]
  },
  {
   "cell_type": "code",
   "execution_count": null,
   "metadata": {},
   "outputs": [],
   "source": [
    "def addition(num1,num2):\n",
    "    print(\"Addition=\",num1+num2)\n",
    "\n",
    "def subtraction(num1,num2):\n",
    "    print(\"Subtraction=\",num1-num2)\n",
    "\n",
    "def multiplication(num1,num2):\n",
    "    print(\"Multiplication=\",num1*num2)\n",
    "\n",
    "def division(num1,num2):\n",
    "    print(\"Division=\",num1/num2)\n",
    "\n",
    "while True:\n",
    "    print(\"1. Addition\")\n",
    "    print(\"2. Subtraction\")\n",
    "    print(\"3. Multiplication\")\n",
    "    print(\"4. Division\")    \n",
    "    print(\"5. Exit\")\n",
    "    choice=int(input(\"Enter your choice(1-5):\"))\n",
    "\n",
    "    if choice==1:\n",
    "        num1=int(input(\"Enter 1st Number:\"))\n",
    "        num2=int(input(\"Enter 2nd Number:\"))\n",
    "        addition(num1,num2)\n",
    "\n",
    "\n",
    "    elif choice==2:\n",
    "        num1=int(input(\"Enter 1st Number:\"))\n",
    "        num2=int(input(\"Enter 2nd Number:\"))\n",
    "        subtraction(num1,num2)\n",
    "    \n",
    "    elif choice==3:\n",
    "        num1=int(input(\"Enter 1st Number:\"))\n",
    "        num2=int(input(\"Enter 2nd Number:\"))\n",
    "        multiplication(num1,num2)\n",
    "    \n",
    "    elif choice==4:\n",
    "        num1=int(input(\"Enter 1st Number:\"))\n",
    "        num2=int(input(\"Enter 2nd Number:\"))\n",
    "        if num2 == 0:\n",
    "            print('Infinity')\n",
    "        else:\n",
    "            division(num1,num2)\n",
    "                \n",
    "    elif choice==5:\n",
    "        break\n",
    "    else:\n",
    "        print(\"Wrong Choice\")"
   ]
  },
  {
   "cell_type": "code",
   "execution_count": 12,
   "metadata": {},
   "outputs": [
    {
     "name": "stdout",
     "output_type": "stream",
     "text": [
      "#### CALCULATOR ####\n",
      "Enter first number: 10\n",
      "Enter second number: 5\n",
      "Select operation.\n",
      "1. Add\n",
      "2. Subtract\n",
      "3. Multiply\n",
      "4. Divide\n",
      "Enter choice(1/2/3/4):1\n"
     ]
    },
    {
     "ename": "NameError",
     "evalue": "name 'add' is not defined",
     "output_type": "error",
     "traceback": [
      "\u001b[1;31m---------------------------------------------------------------------------\u001b[0m",
      "\u001b[1;31mNameError\u001b[0m                                 Traceback (most recent call last)",
      "\u001b[1;32m<ipython-input-12-9d07a416944f>\u001b[0m in \u001b[0;36m<module>\u001b[1;34m\u001b[0m\n\u001b[0;32m     15\u001b[0m \u001b[1;33m\u001b[0m\u001b[0m\n\u001b[0;32m     16\u001b[0m     \u001b[1;32mif\u001b[0m \u001b[0mchoice\u001b[0m \u001b[1;33m==\u001b[0m \u001b[1;34m'1'\u001b[0m\u001b[1;33m:\u001b[0m\u001b[1;33m\u001b[0m\u001b[1;33m\u001b[0m\u001b[0m\n\u001b[1;32m---> 17\u001b[1;33m         \u001b[0mresult\u001b[0m \u001b[1;33m=\u001b[0m \u001b[0madd\u001b[0m\u001b[1;33m(\u001b[0m\u001b[0mnum1\u001b[0m\u001b[1;33m,\u001b[0m \u001b[0mnum2\u001b[0m\u001b[1;33m)\u001b[0m\u001b[1;33m\u001b[0m\u001b[1;33m\u001b[0m\u001b[0m\n\u001b[0m\u001b[0;32m     18\u001b[0m     \u001b[1;32melif\u001b[0m \u001b[0mchoice\u001b[0m \u001b[1;33m==\u001b[0m \u001b[1;34m'2'\u001b[0m\u001b[1;33m:\u001b[0m\u001b[1;33m\u001b[0m\u001b[1;33m\u001b[0m\u001b[0m\n\u001b[0;32m     19\u001b[0m         \u001b[0mresult\u001b[0m \u001b[1;33m=\u001b[0m \u001b[0msubtract\u001b[0m\u001b[1;33m(\u001b[0m\u001b[0mnum1\u001b[0m\u001b[1;33m,\u001b[0m \u001b[0mnum2\u001b[0m\u001b[1;33m)\u001b[0m\u001b[1;33m\u001b[0m\u001b[1;33m\u001b[0m\u001b[0m\n",
      "\u001b[1;31mNameError\u001b[0m: name 'add' is not defined"
     ]
    }
   ],
   "source": [
    "while True:\n",
    "    \n",
    "    print(\"#### CALCULATOR ####\")\n",
    "    num1 = int(input(\"Enter first number: \"))\n",
    "    num2 = int(input(\"Enter second number: \"))\n",
    "\n",
    "    print(\"Select operation.\")\n",
    "    print(\"1. Add\")\n",
    "    print(\"2. Subtract\")\n",
    "    print(\"3. Multiply\")\n",
    "    print(\"4. Divide\")\n",
    "\n",
    "    choice = input(\"Enter choice(1/2/3/4):\")\n",
    "    result = 0\n",
    "\n",
    "    if choice == '1':\n",
    "        result = add(num1, num2)\n",
    "    elif choice == '2':\n",
    "        result = subtract(num1, num2)\n",
    "    elif choice == '3':\n",
    "        result = multiply(num1, num2)\n",
    "    elif choice == '4':\n",
    "        result = divide(num1, num2)\n",
    "    else:\n",
    "        print(\"Invalid Input\")\n",
    "\n",
    "    print(\"Result = \", result)\n",
    "\n",
    "    quit = input(\"Do you want to continue (y/n) ?\")\n",
    "    if quit == 'n':\n",
    "        break\n",
    "##The output of the above program is:-\n",
    "\n",
    "'''#### CALCULATOR ####\n",
    "Enter first number: 5\n",
    "Enter second number: 3\n",
    "Select operation.\n",
    "1. Add\n",
    "2. Subtract\n",
    "3. Multiply\n",
    "4. Divide\n",
    "Enter choice(1/2/3/4):1\n",
    "Result = 8\n",
    "Do you want to continue (y/n) ?n'''"
   ]
  },
  {
   "cell_type": "code",
   "execution_count": null,
   "metadata": {},
   "outputs": [
    {
     "name": "stdout",
     "output_type": "stream",
     "text": [
      "Enter a num1: 20\n",
      "Enter a num2: 10\n",
      "1 Add\n",
      "2 Sub\n",
      "3 Mul\n",
      "4 Div\n",
      "5 Floor_div\n",
      "6 Mod\n",
      "7 Quo\n",
      "8 Expo\n",
      "9 Quit\n",
      "select operation : \n",
      "Enter a operation choice 1-9: 2\n",
      "Result =  10\n",
      "Do you want to continue (y/n) ?y\n",
      "Result =  10\n",
      "Do you want to continue (y/n) ?y\n",
      "Result =  10\n"
     ]
    }
   ],
   "source": [
    "#while true:\n",
    "    \n",
    "   \n",
    "    \n",
    "num1 = int(input('Enter a num1: '))\n",
    "num2 = int(input('Enter a num2: '))\n",
    "    \n",
    "lst_item = ['1 Add','2 Sub','3 Mul','4 Div','5 Floor_div','6 Mod','7 Quo','8 Expo','9 Quit']\n",
    "for i in  range (len(lst_item)):\n",
    "        print(lst_item[i])\n",
    "        \n",
    "print(\"select operation : \")\n",
    "    \n",
    "ch = int(input('Enter a operation choice 1-9: '))\n",
    "\n",
    "while (ch < 9) or (quit == 'y') :\n",
    "    result=0\n",
    "    \n",
    "    #print(\"#### CALCULATOR ####\")    \n",
    "    \n",
    "    if ch == 1:\n",
    "        result = num1+num2\n",
    "        #print(result)\n",
    "    elif ch == 2:\n",
    "        result = num1-num2\n",
    "        #print(result)\n",
    "    elif ch == 3:\n",
    "        result = num1*num2\n",
    "        #print(result)   \n",
    "    elif ch == 4:\n",
    "        result = num1/num2\n",
    "        #print(result)\n",
    "    elif ch == 5:\n",
    "        result = num1//num2\n",
    "        #print(result)    \n",
    "    elif ch == 6:\n",
    "        result = num1%num2\n",
    "        #print(result)    \n",
    "    elif ch == 7:\n",
    "        result = num1//num2\n",
    "        #print(result)    \n",
    "    elif ch == 8:\n",
    "        result = num1**num2\n",
    "        #print(result)    \n",
    "    elif ch == 9:\n",
    "        print(\"exit\")\n",
    "        \n",
    "    else:   \n",
    "          print('Invalid Input') \n",
    "            \n",
    "            \n",
    "    #print(\"Result = \", result)\n",
    "    print('Result = ', result)    \n",
    "          \n",
    "    quit = input(\"Do you want to continue (y/n) ?\")\n",
    "    if quit == 'n':\n",
    "        break\n"
   ]
  }
 ],
 "metadata": {
  "kernelspec": {
   "display_name": "Python 3",
   "language": "python",
   "name": "python3"
  },
  "language_info": {
   "codemirror_mode": {
    "name": "ipython",
    "version": 3
   },
   "file_extension": ".py",
   "mimetype": "text/x-python",
   "name": "python",
   "nbconvert_exporter": "python",
   "pygments_lexer": "ipython3",
   "version": "3.7.6"
  }
 },
 "nbformat": 4,
 "nbformat_minor": 4
}
