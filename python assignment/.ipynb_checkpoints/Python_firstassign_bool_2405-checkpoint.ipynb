{
 "cells": [
  {
   "cell_type": "code",
   "execution_count": 4,
   "metadata": {},
   "outputs": [
    {
     "name": "stdout",
     "output_type": "stream",
     "text": [
      "TrueA\n",
      "True <class 'str'> 1036420962288\n"
     ]
    }
   ],
   "source": [
    "#Declare a boolean value  and store it in a variable. Check the type and print the id of the same\n",
    "#print(bool(10))\n",
    "#print(bool('hello'))\n",
    "#a = 10\n",
    "#print(bool(a), type(a), id(a))\n",
    "#b = 'hello'\n",
    "#print(bool(b), type(b), id(b))\n",
    "#a = True\n",
    "#b = False\n",
    "#a = bool(10)\n",
    "#b = bool('hello')\n",
    "#print(a, type(a), id(a))\n",
    "#print(b, type(b), id(b))\n",
    "a = input(bool('Enter a bool number: '))\n",
    "print(bool(a), type(a), id(a))"
   ]
  },
  {
   "cell_type": "code",
   "execution_count": 22,
   "metadata": {},
   "outputs": [
    {
     "name": "stdout",
     "output_type": "stream",
     "text": [
      "True 140722282408272\n",
      "True 140722282408272\n",
      "True 140722282408272\n",
      "True 140722282408272\n",
      "True 140722282408272\n",
      "True 140722282408272\n",
      "True 140722282408272\n",
      "True 140722282408272\n"
     ]
    }
   ],
   "source": [
    "#Take one boolean value between 0 - 256. Assign it to two different variables. \n",
    "#Check the id of both the variables. It should come the same. Check why?\n",
    "a = bool(10)\n",
    "b = bool(10)\n",
    "print(a, id(a))\n",
    "print(b, id(b))\n",
    "a = bool(300)\n",
    "b = bool(300)\n",
    "print(a, id(a))\n",
    "print(b, id(b))\n",
    "a = bool(20)\n",
    "b = bool(20)\n",
    "print(a, id(a))\n",
    "print(b, id(b))\n",
    "a = True\n",
    "b = True\n",
    "print(a, id(a))\n",
    "print(b, id(b))"
   ]
  },
  {
   "cell_type": "code",
   "execution_count": 11,
   "metadata": {},
   "outputs": [
    {
     "name": "stdout",
     "output_type": "stream",
     "text": [
      "sum of True and False is 1\n",
      "Difference of True and False is 1\n",
      "product of True and False is 0\n",
      "True to the Power of False is 1\n",
      "sum of True and True is 2\n",
      "Difference of True and True is 0\n",
      "product of True and True is 1\n"
     ]
    }
   ],
   "source": [
    "#Arithmetic Operations on boolean data Take two different boolean values. Store them in two different variables. \n",
    "#Do below operations on them:- \n",
    "# Find sum of both values   \n",
    "# Find difference between them    \n",
    "# Find the product of both.    \n",
    "# Find value after dividing first value with second value    \n",
    "# Find the remainder after dividing first value with second value   \n",
    "# Find the quotient after dividing first value with second value   \n",
    "# Find the result of first value to the power of second value. \n",
    "#a = bool(30)\n",
    "#b = bool(20)\n",
    "a = True\n",
    "b = False\n",
    "print(f'sum of {a} and {b} is {a+b}') \n",
    "print(f'Difference of {a} and {b} is {a-b}')\n",
    "print(f'product of {a} and {b} is {a*b}')\n",
    "#print(f'Division of {a} and {b} is {a/b}')\n",
    "#print(f'Reminder result of {a} and {b} is {a%b}')\n",
    "#print(f'Quotient result of {a} and {b} is {a//b}')\n",
    "print(f'{a} to the Power of {b} is {a**b}' )\n",
    "a = True\n",
    "b = True\n",
    "print(f'sum of {a} and {b} is {a+b}') \n",
    "print(f'Difference of {a} and {b} is {a-b}')\n",
    "print(f'product of {a} and {b} is {a*b}')\n",
    "#print(f'Division of {a} and {b} is {a/b}')\n",
    "#print(f'Reminder result of {a} and {b} is {a%b}')\n",
    "#print(f'Quotient result of {a} and {b} is {a//b}')\n",
    "#print(f'{a} to the Power of {b} is {a**b}' "
   ]
  },
  {
   "cell_type": "code",
   "execution_count": 13,
   "metadata": {},
   "outputs": [
    {
     "name": "stdout",
     "output_type": "stream",
     "text": [
      "True\n",
      "False\n",
      "True\n",
      "False\n"
     ]
    }
   ],
   "source": [
    "#Comparison Operators on boolean values Take two different boolean values. Store them in two different variables\n",
    "#Do below operations on them:-    \n",
    "# Compare se two numbers with below operator:-        \n",
    "#     Greater than, '>'        \n",
    "#     Smaller than, '<'        \n",
    "#     Greater than or equal to, '>='        \n",
    "#     Less than or equal to, '<=' \n",
    "#     Observe their output(return type should be boolean)\n",
    "#a = bool(30)\n",
    "#b = bool(20)\n",
    "# print(a > b) #False\n",
    "# print(a < b) #False\n",
    "# print(a >= b)#True\n",
    "# print(a <= b)#True\n",
    "#print(bool(20))\n",
    "\n",
    "a = True\n",
    "b = False\n",
    "print(a > b) #True\n",
    "print(a < b) #False\n",
    "print(a >= b)#True\n",
    "print(a <= b)#False"
   ]
  },
  {
   "cell_type": "code",
   "execution_count": 15,
   "metadata": {},
   "outputs": [
    {
     "name": "stdout",
     "output_type": "stream",
     "text": [
      "True\n",
      "False\n",
      "False\n",
      "True\n"
     ]
    }
   ],
   "source": [
    "#Equality Operator Take two different boolean values. Store them in two different variables.\n",
    "#Equate them using equality operators (==, !=) Observe the output(return type should be boolean\n",
    "a = bool(30)\n",
    "b = bool(20)    \n",
    "print(a == b)#True\n",
    "print(a != b)#False\n",
    "\n",
    "a = True\n",
    "b = False    \n",
    "print(a == b)#False\n",
    "print(a != b)#True"
   ]
  },
  {
   "cell_type": "code",
   "execution_count": 8,
   "metadata": {},
   "outputs": [
    {
     "name": "stdout",
     "output_type": "stream",
     "text": [
      "True\n",
      "False\n",
      "False\n",
      "False\n",
      "True\n",
      "True\n",
      "True\n",
      "False\n",
      "False\n",
      "True\n"
     ]
    }
   ],
   "source": [
    "#Logical operators Observe the output of below code Cross check the output manually \n",
    "print(True and True) #----------------------------------------->Output is True \n",
    "print(False and True) #----------------------------------------->Output is False  \n",
    "print(True and False) #----------------------------------------->Output is False  \n",
    "print(False and False) #----------------------------------------->Output is False  \n",
    "print(True or True) #----------------------------------------->Output is True \n",
    "print(False or True) #----------------------------------------->Output is True  \n",
    "print(True or False) #----------------------------------------->Output is True \n",
    "print(False or False) #----------------------------------------->Output is False  \n",
    "print(not True) #----------------------------------------->Output is False  \n",
    "print(not False) #----------------------------------------->Output is True   "
   ]
  },
  {
   "cell_type": "code",
   "execution_count": 17,
   "metadata": {},
   "outputs": [
    {
     "name": "stdout",
     "output_type": "stream",
     "text": [
      "True\n",
      "True\n",
      "False\n",
      "-2\n",
      "4\n",
      "0\n",
      "True\n",
      "True\n",
      "True\n",
      "-2\n",
      "4\n",
      "0\n"
     ]
    }
   ],
   "source": [
    " #Bitwise Operators Do below operations on the values provided below:- \n",
    "# Bitwise and(&) --------------> True, True    -------> Output is True    \n",
    "# Bitwise or(|)  --------------> True, False   -------> Output is True    \n",
    "# Bitwise(^)     --------------> True, False   -------> Output is True    \n",
    "# Bitwise negation(~) ---------> True          -------> Output is -2   \n",
    "# Bitwise left shift  ---------> True,2        -------> Output is 4    \n",
    "# Bitwise right shift ---------> True,2        -------> Output is 0 Cross check the output manually  \n",
    "a = bool(30)\n",
    "b = bool(20)\n",
    "print(a & b)\n",
    "print(a | b)\n",
    "print(a^b)\n",
    "print(~a)\n",
    "print(a << 2)\n",
    "print(a >> 2)\n",
    "print(True & True)\n",
    "print(True | False)\n",
    "print(True ^ False)\n",
    "print(~True)\n",
    "print(True << 2)\n",
    "print(True >> 2)"
   ]
  },
  {
   "cell_type": "code",
   "execution_count": 19,
   "metadata": {},
   "outputs": [
    {
     "name": "stdout",
     "output_type": "stream",
     "text": [
      "True\n",
      "False\n",
      "True\n",
      "False\n"
     ]
    }
   ],
   "source": [
    "#What is the output of expression inside the print statement. Cross check before running the program. \n",
    "a = True \n",
    "b = True \n",
    "print(a is b)          #True \n",
    "print(a is not b)      #False \n",
    "a = False \n",
    "b = False \n",
    "print(a is b)          #True  \n",
    "print(a is not b)      #False "
   ]
  },
  {
   "cell_type": "code",
   "execution_count": 20,
   "metadata": {},
   "outputs": [
    {
     "name": "stdout",
     "output_type": "stream",
     "text": [
      "True\n",
      "True\n",
      "True\n",
      "True\n",
      "True\n"
     ]
    }
   ],
   "source": [
    "#Membership operation in, not in are two membership operators and it returns boolean value \n",
    "\n",
    "print(True in [10, 10.20, 10+20j,'Python',True]) #---True\n",
    "print(False in [10, 10.20, 10+20j,'Python',False]) #True\n",
    "print(True in {1,2,3, True}) #---True#\n",
    "print(True in{True:100, False:200, True:300}) #True\n",
    "print(False in{True:100, False:200, True:300}) #True"
   ]
  }
 ],
 "metadata": {
  "kernelspec": {
   "display_name": "Python 3",
   "language": "python",
   "name": "python3"
  },
  "language_info": {
   "codemirror_mode": {
    "name": "ipython",
    "version": 3
   },
   "file_extension": ".py",
   "mimetype": "text/x-python",
   "name": "python",
   "nbconvert_exporter": "python",
   "pygments_lexer": "ipython3",
   "version": "3.7.6"
  }
 },
 "nbformat": 4,
 "nbformat_minor": 4
}
