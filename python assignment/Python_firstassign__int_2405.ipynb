{
 "cells": [
  {
   "cell_type": "code",
   "execution_count": null,
   "metadata": {},
   "outputs": [],
   "source": [
    "#Q. Declare an int value and store it in a variable. Check the type and print the id of the same.  "
   ]
  },
  {
   "cell_type": "code",
   "execution_count": 4,
   "metadata": {},
   "outputs": [
    {
     "name": "stdout",
     "output_type": "stream",
     "text": [
      "True\n",
      "20 140733684360176\n",
      "20 140733684360176\n"
     ]
    }
   ],
   "source": [
    "#Take one int value between 0 - 256. Assign it to two different variables. \n",
    "#Check the id of both the variables. It should come the same. Check why? \n",
    "a = 20\n",
    "b = 20\n",
    "#a = int(input('Enter a first integer:')\n",
    "#b = int(input('Enter a second integer:')\n",
    "print(a is b)\n",
    "print(a, id(a))\n",
    "print(b, id(b))# same id value\n",
    "#Due to integer caching --> from -5 to 256 integer is preloaded so not recreated byt reference used.\n"
   ]
  },
  {
   "cell_type": "code",
   "execution_count": 5,
   "metadata": {},
   "outputs": [
    {
     "name": "stdout",
     "output_type": "stream",
     "text": [
      "False\n",
      "-6 785313186000\n",
      "-6 785313185904\n"
     ]
    }
   ],
   "source": [
    "#Take one int value either less than -5 or greater than 256. Assign it to two different variables. \n",
    "#Check the id of both the variables. It should come different.Check why? \n",
    "a = -6\n",
    "b = -6\n",
    "print(a is b)\n",
    "print(a, id(a))\n",
    "print(b, id(b))# differenet id value  ##since it is not a preloaded so created location for it\n",
    "##for small integers (from -5 through to 256) is because these values are interned; \n",
    "##Python only creates one 1 integer object and re-uses it over and over again\n"
   ]
  },
  {
   "cell_type": "code",
   "execution_count": 17,
   "metadata": {},
   "outputs": [
    {
     "name": "stdout",
     "output_type": "stream",
     "text": [
      "Enter a first number: 20\n",
      "Enter a second number: 6\n",
      "sum of 20 and 6 is 26\n",
      "Difference of 20 and 6 is 14\n",
      "product of 20 and 6 is 120\n",
      "Division of 20 and 6 is 3.3333333333333335\n",
      "Reminder result of 20 and 6 is 2\n",
      "Quotient result of 20 and 6 is 3\n",
      "20 to the Power of 6 is 64000000\n"
     ]
    }
   ],
   "source": [
    "#  Arithmetic Operations on integers Take two different integer values.Store them in two different variables.\n",
    "#     Do below operations on them:-   \n",
    "#         Find sum of both numbers    \n",
    "#         Find difference between them   \n",
    "#         Find the product of both numbers.    \n",
    "#         Find value after dividing first num with second number    \n",
    "#         Find the remainder after dividing first number with second number   \n",
    "#         Find the quotient after dividing first number with second number\n",
    "#         Find the result of the first num to the power of the second number.\n",
    "\n",
    "#a = 100\n",
    "#b = 22\n",
    "a = int(input('Enter a first number: '))\n",
    "b = int(input('Enter a second number: '))\n",
    "print(f'sum of {a} and {b} is {a+b}')\n",
    "print(f'Difference of {a} and {b} is {a-b}')\n",
    "print(f'product of {a} and {b} is {a*b}')\n",
    "print(f'Division of {a} and {b} is {a/b}')\n",
    "print(f'Reminder result of {a} and {b} is {a%b}')\n",
    "print(f'Quotient result of {a} and {b} is {a//b}')\n",
    "print(f'{a} to the Power of {b} is {a**b}' )"
   ]
  },
  {
   "cell_type": "code",
   "execution_count": 23,
   "metadata": {},
   "outputs": [
    {
     "name": "stdout",
     "output_type": "stream",
     "text": [
      "True\n",
      "False\n",
      "True\n",
      "False\n"
     ]
    }
   ],
   "source": [
    "#Comparison Operators on integers Take two different integer values. Store them in two different variables.\n",
    "#Do below operations on them:-    \n",
    "# Compare se two numbers with below operator:-        \n",
    "#     Greater than, '>'        \n",
    "#     Smaller than, '<'        \n",
    "#     Greater than or equal to, '>='        \n",
    "#     Less than or equal to, '<=' \n",
    "#     Observe their output(return type should be boolean)\n",
    "a = 66\n",
    "b = 32\n",
    "print(a > b) #True\n",
    "print(a < b) #False\n",
    "print(a >= b)#True\n",
    "print(a <= b)#False"
   ]
  },
  {
   "cell_type": "code",
   "execution_count": 25,
   "metadata": {},
   "outputs": [
    {
     "name": "stdout",
     "output_type": "stream",
     "text": [
      "False\n",
      "True\n"
     ]
    }
   ],
   "source": [
    "# Equality Operator Take two different integer values. Store them in two different variables. \n",
    "#Equate them using equality operators (==, !=) Observe the output(return type should be boolean)  \n",
    "\n",
    "a = 220\n",
    "b = 200\n",
    "print(a == b)\n",
    "print(a != b)\n"
   ]
  },
  {
   "cell_type": "code",
   "execution_count": 37,
   "metadata": {},
   "outputs": [
    {
     "name": "stdout",
     "output_type": "stream",
     "text": [
      "20\n",
      "0\n",
      "0\n",
      "0\n",
      "10\n",
      "20\n",
      "20\n",
      "0\n",
      "False\n",
      "True\n"
     ]
    }
   ],
   "source": [
    "#Logical operators Observe the output of below code. Cross check the output manually \n",
    "# print(10 and 20) #----------------------------------------->Output is 20 \n",
    "# print(0 and 20) #----------------------------------------->Output is 0 \n",
    "# print(20 and 0) #----------------------------------------->Output is 0 \n",
    "# print(0 and 0) #----------------------------------------->Output is 0  \n",
    "# print(10 or 20) #----------------------------------------->Output is 10\n",
    "# print(0 or 20) #----------------------------------------->Output is 20 \n",
    "# print(20 or 0) #----------------------------------------->Output is 20 \n",
    "# print(0 or 0) #----------------------------------------->Output is 0  \n",
    "# print(not 10) #----------------------------------------->Output is False \n",
    "# print(not 0) #----------------------------------------->Output is True \n",
    "print(10 and 20) ##And Follows false\n",
    "print(0 and 20)\n",
    "print(20 and 0)\n",
    "print(0 and 0)\n",
    "print(10 or 20)##OR Follows true\n",
    "print(0 or 20)\n",
    "print(20 or 0)\n",
    "print(0 or 0)\n",
    "print(not 10)\n",
    "print(not 0)\n"
   ]
  },
  {
   "cell_type": "code",
   "execution_count": 35,
   "metadata": {},
   "outputs": [
    {
     "name": "stdout",
     "output_type": "stream",
     "text": [
      "0\n",
      "30\n",
      "30\n",
      "-11\n",
      "40\n",
      "2\n"
     ]
    }
   ],
   "source": [
    "#Bitwise Operators Do below operations on the values provided below:-   \n",
    "#     Bitwise and(&) -----------------------------------------> 10, 20 -------> Output is 0   \n",
    "#     Bitwise or(|)  -----------------------------------------> 10, 20 -------> Output is 30   \n",
    "#     Bitwise(^)     -----------------------------------------> 10, 20 -------> Output is 30   \n",
    "#     Bitwise negation(~) ------------------------------------> 10 -------> Output is -11   \n",
    "#     Bitwise left shift  ------------------------------------> 10,2 -------> Output is 40   \n",
    "#     Bitwise right shift ------------------------------------> 10,2 -------> Output is 2 Cross check the output manually \n",
    "print(10 & 20)\n",
    "print(10 | 20)\n",
    "print(10^20)\n",
    "print(~10)\n",
    "print(10 << 2)\n",
    "print(10 >> 2)\n"
   ]
  },
  {
   "cell_type": "code",
   "execution_count": 39,
   "metadata": {},
   "outputs": [
    {
     "name": "stdout",
     "output_type": "stream",
     "text": [
      "True\n",
      "False\n",
      "False\n",
      "True\n"
     ]
    }
   ],
   "source": [
    "# What is the output of expression inside print statement. Cross check before running the program\n",
    "# a = 10\n",
    "# b = 10\n",
    "# print(a is b)          #True or False?\n",
    "# print(a is not b)      #True or False?  \n",
    "# a = 1000 b = 1000 print(a is b)          #True or False? \n",
    "# print(a is not b)      #True or False?  \n",
    "a = 10\n",
    "b = 10\n",
    "print(a is b)          #True \n",
    "print(a is not b)      #False \n",
    "a = 1000 \n",
    "b = 1000\n",
    "print(a is b)          #False\n",
    "print(a is not b)      #True   "
   ]
  },
  {
   "cell_type": "code",
   "execution_count": 51,
   "metadata": {},
   "outputs": [
    {
     "name": "stdout",
     "output_type": "stream",
     "text": [
      "20\n",
      "9\n",
      "36\n",
      "20\n",
      "20\n"
     ]
    }
   ],
   "source": [
    "#What is the output of expression inside print statement. Cross check before running the program. \n",
    "#print(10+(10*32)//2**5&20+(~(-10))<<2) \n",
    "#print(10+(10 * 32 )// 2 ** 5 & 20 +(~( -10 ))<< 2 ) \n",
    "#(10 +(320)//32 & 20 +(9) << 2)\n",
    "#(10+320//32 & 29 << 2)\n",
    "#(10+10 & 29 << 2)\n",
    "print(20 & 29 << 2)\n",
    "print(~(-10))\n",
    "print((~(-10)) << 2)\n",
    "print(10 +320//32)\n",
    "print(10+10 & 20 + (9) << 2)\n",
    "#print(20 & 20 + 36)\n",
    "#print(9 << 2)\n"
   ]
  },
  {
   "cell_type": "code",
   "execution_count": 4,
   "metadata": {},
   "outputs": [
    {
     "name": "stdout",
     "output_type": "stream",
     "text": [
      "True\n",
      "True\n",
      "True\n",
      "True\n",
      "True\n"
     ]
    }
   ],
   "source": [
    "#Membership operation in, not in are two membership operators and it returns boolean value \n",
    "#     print('2' in 'Python2.7.8')\n",
    "#     print(10 in [10,10.20,10+20j,'Python']) \n",
    "#     print(10 in (10,10.20,10+20j,'Python')) \n",
    "#     print(2 in {1,2,3}) \n",
    "#     print(3 in {1:100, 2:200, 3:300}) \n",
    "#     print(10 in range(20) \n",
    "\n",
    "print('2' in 'Python2.7.8')#--True\n",
    "print(10 in [10, 10.20, 10+20j,'Python']) #---True\n",
    "print(2 in {1,2,3}) #---True\n",
    "print(3 in{1:100, 2:200, 3:300})#true\n",
    "print(10 in range(20))#true"
   ]
  },
  {
   "cell_type": "code",
   "execution_count": 91,
   "metadata": {},
   "outputs": [
    {
     "name": "stdout",
     "output_type": "stream",
     "text": [
      "0b101010\n",
      "42 <class 'int'>\n",
      "0o10\n",
      "71 <class 'int'>\n",
      "0xfc87\n",
      "64647 <class 'int'>\n",
      "0b10011010010100\n",
      "0o23224\n",
      "0x2694\n"
     ]
    }
   ],
   "source": [
    "#An integer can be represented in binary, octal or hexadecimal form. Declare one binary, one octal and one hexadecimal value \n",
    "#and store them in three different variables. Convert 9876 to its binary, octal and hexadecimal equivalent and \n",
    "#print their corresponding value. \n",
    "\n",
    "#a = '0b101010'\n",
    "#print(a)\n",
    "a = 0b101010\n",
    "print(a, type(a))\n",
    "#b = '0o10'\n",
    "#print(b)\n",
    "b = 0o107\n",
    "print(b, type(b))\n",
    "#c = '0xfc87'\n",
    "#print(c)\n",
    "c = 0xfc87\n",
    "print(c, type(c))\n",
    "\n",
    "#convert number to binary,octal,hexadecimal\n",
    "num =9876\n",
    "print(bin(9876))\n",
    "print(oct(9876))\n",
    "print(hex(9876))"
   ]
  },
  {
   "cell_type": "code",
   "execution_count": 101,
   "metadata": {},
   "outputs": [
    {
     "name": "stdout",
     "output_type": "stream",
     "text": [
      "80\n",
      "3870\n",
      "64222\n",
      "0b1010000\n",
      "0o7436\n",
      "0xfade\n",
      "0b1010000\n",
      "0b1111101011011110\n",
      "0o175336\n",
      "0o7436\n",
      "0x50\n",
      "0xfade\n"
     ]
    }
   ],
   "source": [
    "# What will be the output of following:- \n",
    "a = 0b1010000 \n",
    "print(a) \n",
    "b = 0o7436 \n",
    "print(b) \n",
    "c = 0xfade\n",
    "print(c) \n",
    "print(bin(80)) \n",
    "print(oct(3870)) \n",
    "print(hex(64222)) \n",
    "print(bin(0b1010000)) \n",
    "print(bin(0xfade))  \n",
    "print(oct(0xfade)) \n",
    "print(oct(0o7436))  \n",
    "print(hex(0b1010000)) \n",
    "print(hex(0xfade))   "
   ]
  }
 ],
 "metadata": {
  "kernelspec": {
   "display_name": "Python 3",
   "language": "python",
   "name": "python3"
  },
  "language_info": {
   "codemirror_mode": {
    "name": "ipython",
    "version": 3
   },
   "file_extension": ".py",
   "mimetype": "text/x-python",
   "name": "python",
   "nbconvert_exporter": "python",
   "pygments_lexer": "ipython3",
   "version": "3.7.6"
  }
 },
 "nbformat": 4,
 "nbformat_minor": 4
}
