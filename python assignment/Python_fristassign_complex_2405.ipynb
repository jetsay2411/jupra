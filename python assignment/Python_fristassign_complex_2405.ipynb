{
 "cells": [
  {
   "cell_type": "code",
   "execution_count": 1,
   "metadata": {},
   "outputs": [
    {
     "name": "stdout",
     "output_type": "stream",
     "text": [
      "(10+20j) <class 'complex'> 260723953776\n",
      "(-40+50j) <class 'complex'> 260723953808\n"
     ]
    }
   ],
   "source": [
    "#Declare a complex number  and store it in a variable. Check the type and print the id of the same\n",
    "a = 10+20j\n",
    "b = -40+50j\n",
    "a = eval(input('Enter a first float number: '))\n",
    "b = eval(input('Enter a second float number: '))\n",
    "print(a, type(a), id(a))\n",
    "print(b, type(b), id(b))\n"
   ]
  },
  {
   "cell_type": "code",
   "execution_count": 4,
   "metadata": {},
   "outputs": [
    {
     "name": "stdout",
     "output_type": "stream",
     "text": [
      "sum of (10+20j) and (5+6j) is (15+26j)\n",
      "Difference of (10+20j) and (5+6j) is (5+14j)\n",
      "product of (10+20j) and (5+6j) is (-70+160j)\n",
      "Division of (10+20j) and (5+6j) is (2.7868852459016393+0.6557377049180328j)\n",
      "(10+20j) to the Power of (5+6j) is (4218.9685809725925-5939.477308042915j)\n"
     ]
    }
   ],
   "source": [
    "#Arithmetic Operations on complex number Take two different complex numbers. Store them in two different variables.\n",
    "#Do below operations on them:-    \n",
    "#Find sum of both numbers    \n",
    "#Find difference between them    \n",
    "#Find the product of both numbers.    \n",
    "#Find value after dividing first num with second number    \n",
    "#Find the result of the first num to the power of the second number. \n",
    "a = 10+20j\n",
    "#b = 20+40j\n",
    "b = 5+6j\n",
    "print(f'sum of {a} and {b} is {a+b}')\n",
    "print(f'Difference of {a} and {b} is {a-b}')\n",
    "print(f'product of {a} and {b} is {a*b}')\n",
    "print(f'Division of {a} and {b} is {a/b}')\n",
    "print(f'{a} to the Power of {b} is {a**b}' )    "
   ]
  },
  {
   "cell_type": "code",
   "execution_count": null,
   "metadata": {},
   "outputs": [],
   "source": [
    "#Comparison Operation not applicable between instance of complex values. \n",
    "#Object reusability concept is not applicable on complex number."
   ]
  },
  {
   "cell_type": "code",
   "execution_count": 5,
   "metadata": {},
   "outputs": [
    {
     "name": "stdout",
     "output_type": "stream",
     "text": [
      "False\n",
      "True\n"
     ]
    }
   ],
   "source": [
    "#Equality Operator Take two different complex numbers. Store them in two different variables. \n",
    "#Equate them using equality operators (==, !=) Observe the output(return type should be boolean) \n",
    "a = 10+20j\n",
    "b = 5+6j\n",
    "print(a == b)\n",
    "print(a != b)"
   ]
  },
  {
   "cell_type": "code",
   "execution_count": 7,
   "metadata": {},
   "outputs": [
    {
     "name": "stdout",
     "output_type": "stream",
     "text": [
      "(20+30j)\n",
      "0j\n",
      "0j\n",
      "0j\n",
      "(10+20j)\n",
      "(20+30j)\n",
      "(20+30j)\n",
      "0j\n",
      "False\n",
      "True\n"
     ]
    }
   ],
   "source": [
    "#Logical operators Observe the output of below code Cross check the output manually \n",
    "print(10+20j and 20+30j)    #20+30j #----------------------------------------->Output is 20+30j \n",
    "print(0+0j and 20+30j)      #0+0j #----------------------------------------->Output is 0j  \n",
    "print(20+30j and 0+0j)      #0+0j #----------------------------------------->Output is 0j  \n",
    "print(0+0j and 0+0j)        #0+0j #----------------------------------------->Output is 0j  \n",
    "print(10+20j or 20+30j)     #10+20j #----------------------------------------->Output is 10+20j \n",
    "print(0+0j or 20+30j)       #20+30j #----------------------------------------->Output is 20+30j  \n",
    "print(20+30j or 0+0j)       #20+30j #----------------------------------------->Output is 20+30j  \n",
    "print(0+0j or 0+0j)         #0+0j #----------------------------------------->Output is 0j  \n",
    "print(not 10+20j)           #False #----------------------------------------->Output is False  \n",
    "print(not 0+0j)             #True #----------------------------------------->Output is True  "
   ]
  },
  {
   "cell_type": "code",
   "execution_count": 8,
   "metadata": {},
   "outputs": [
    {
     "name": "stdout",
     "output_type": "stream",
     "text": [
      "False\n",
      "True\n"
     ]
    }
   ],
   "source": [
    "#What is the output of the expression inside the print statement. Cross check before running the program\n",
    "a = 10+20j \n",
    "b = 10+20j\n",
    "print(a is b)     #False         \n",
    "print(a is not b) #True"
   ]
  },
  {
   "cell_type": "code",
   "execution_count": 9,
   "metadata": {},
   "outputs": [
    {
     "name": "stdout",
     "output_type": "stream",
     "text": [
      "True\n",
      "True\n",
      "True\n",
      "True\n",
      "True\n",
      "True\n"
     ]
    }
   ],
   "source": [
    "# Membership operation in, not in are two membership operators and it returns boolean value \n",
    "print('2.7' in 'Python2.7.8')              #True \n",
    "print(10.20 in [10,10.20,10+20j,'Python']) #True \n",
    "print(10.20 in (10,10.20,10+20j,'Python')) # True \n",
    "print(20.30 in {1,20.30,30+40j})           # True \n",
    "print(2.3 in {1:100, 2.3:200, 30+40j:300}) # True \n",
    "print(10 in range(20))                     # True   "
   ]
  }
 ],
 "metadata": {
  "kernelspec": {
   "display_name": "Python 3",
   "language": "python",
   "name": "python3"
  },
  "language_info": {
   "codemirror_mode": {
    "name": "ipython",
    "version": 3
   },
   "file_extension": ".py",
   "mimetype": "text/x-python",
   "name": "python",
   "nbconvert_exporter": "python",
   "pygments_lexer": "ipython3",
   "version": "3.7.6"
  }
 },
 "nbformat": 4,
 "nbformat_minor": 4
}
