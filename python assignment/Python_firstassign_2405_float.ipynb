{
 "cells": [
  {
   "cell_type": "code",
   "execution_count": 1,
   "metadata": {},
   "outputs": [
    {
     "name": "stdout",
     "output_type": "stream",
     "text": [
      "20.22 <class 'float'> 203933989392\n"
     ]
    }
   ],
   "source": [
    "#Declare a float value and store it in a variable. Check the type and print the id of the same\n",
    "a = 20.22\n",
    "print(a, type(a), id(a))"
   ]
  },
  {
   "cell_type": "code",
   "execution_count": 3,
   "metadata": {},
   "outputs": [
    {
     "name": "stdout",
     "output_type": "stream",
     "text": [
      "sum of 100.2 and 22.5 is 122.7\n",
      "Difference of 100.2 and 22.5 is 77.7\n",
      "product of 100.2 and 22.5 is 2254.5\n",
      "Division of 100.2 and 22.5 is 4.453333333333333\n",
      "Reminder result of 100.2 and 22.5 is 10.200000000000003\n",
      "Quotient result of 100.2 and 22.5 is 4.0\n",
      "100.2 to the Power of 22.5 is 1.0459808523789704e+45\n"
     ]
    }
   ],
   "source": [
    "#Arithmetic Operations on float Take two different float values. Store them in two different variables. \n",
    "# Do below operations on them:-    \n",
    "#     Find sum of both numbers    \n",
    "#     Find difference between them    \n",
    "#     Find the product of both numbers.    \n",
    "#     Find value after dividing first num with second number    \n",
    "#     Find the remainder after dividing first number with second number    \n",
    "#     Find the quotient after dividing first number with second number    \n",
    "#     Find the result of the first num to the power of the second number. \n",
    "a = 100.20\n",
    "b = 22.50\n",
    "#a = int(input('Enter a first number: '))\n",
    "#b = int(input('Enter a second number: '))\n",
    "print(f'sum of {a} and {b} is {a+b}')\n",
    "print(f'Difference of {a} and {b} is {a-b}')\n",
    "print(f'product of {a} and {b} is {a*b}')\n",
    "print(f'Division of {a} and {b} is {a/b}')\n",
    "print(f'Reminder result of {a} and {b} is {a%b}')\n",
    "print(f'Quotient result of {a} and {b} is {a//b}')\n",
    "print(f'{a} to the Power of {b} is {a**b}' )"
   ]
  },
  {
   "cell_type": "code",
   "execution_count": 4,
   "metadata": {},
   "outputs": [
    {
     "name": "stdout",
     "output_type": "stream",
     "text": [
      "True\n",
      "False\n",
      "True\n",
      "False\n"
     ]
    }
   ],
   "source": [
    "#Comparison Operators on float Take two different float values. Store them in two different variables. \n",
    "#Do below operations on them:-    \n",
    "#Compare these two numbers with below operator:- \n",
    "#  Greater than, '>'  \n",
    "# Smaller than, '<'  \n",
    "# Greater than or equal to, '>='  \n",
    "# Less than or equal to, '<=' \n",
    "# Observe their output(return type should be boolean) \n",
    "a = 100.20\n",
    "b = 22.50\n",
    "print(a > b) #True\n",
    "print(a < b) #False\n",
    "print(a >= b)#True\n",
    "print(a <= b)#False\n"
   ]
  },
  {
   "cell_type": "code",
   "execution_count": 5,
   "metadata": {},
   "outputs": [
    {
     "name": "stdout",
     "output_type": "stream",
     "text": [
      "False\n",
      "True\n"
     ]
    }
   ],
   "source": [
    "# Equality Operator Take two different float values. \n",
    "# Store them in two different variables. \n",
    "# Equate them using equality operators (==, !=) \n",
    "# Observe the output(return type should be boolean)\n",
    "a = 100.20\n",
    "b = 22.50\n",
    "print(a == b)\n",
    "print(a != b)"
   ]
  },
  {
   "cell_type": "code",
   "execution_count": 4,
   "metadata": {},
   "outputs": [
    {
     "name": "stdout",
     "output_type": "stream",
     "text": [
      "20.3\n",
      "0.0\n",
      "0.0\n",
      "0.0\n",
      "0.0\n",
      "10.2\n",
      "20.3\n",
      "20.3\n",
      "0.0\n",
      "False\n",
      "True\n",
      "False\n"
     ]
    }
   ],
   "source": [
    "#Logical operators Observe the output of below code Cross check the output manually \n",
    "print(10.20 and 20.30)       #both are true and second value taken >Output is 20.3  \n",
    "print(0.0 and 20.30)         #First is false so first value taken->Output is 0.0 \n",
    "print(20.30 and 0.0)         #Goes to till second and second value is false so second is taken>Output is 0.0  \n",
    "print(0.0 and 0.0)           #First is false so first value is taken->Output is 0.0 \n",
    "print(0.0 and 0.0)           #First is false so first value is taken->Output is 0.0 \n",
    "print(10.20 or 20.30)        #First is True so first value is taken>Output is 10.2  \n",
    "print(0.0 or 20.30)          #Goes to till second and second is true second value is taken->Output is 20.3  \n",
    "print(20.30 or 0.0)          #First is True so first value is taken->Output is 20.3  \n",
    "print(0.0 or 0.0)            #Goes to till second and second is also false and second value is taken>Output is 0.0 \n",
    "print(not 10.20)             #-Not of true is false->Output is False \n",
    "print(not 0.0)               #Not of false is True>Output is True \n",
    "#print(not 0.20)"
   ]
  },
  {
   "cell_type": "code",
   "execution_count": 12,
   "metadata": {},
   "outputs": [
    {
     "name": "stdout",
     "output_type": "stream",
     "text": [
      "False\n",
      "True\n",
      "10.2 154098647888\n",
      "10.2 154098574032\n",
      "False\n",
      "True\n",
      "40.2 154098648112\n",
      "40.2 154098648080\n"
     ]
    }
   ],
   "source": [
    "#What is the output of expression inside print statement. Cross check before running the program\n",
    "a = 10.20 \n",
    "b = 10.20 \n",
    "print(a is b)          #True or False? True 10.20<256 ### ans is false memory location is different\n",
    "print(a is not b)      #True or False? False          ### ans is true\n",
    "print(a, id(a))\n",
    "print(b, id(b))\n",
    "#Why the Id of float values are different when the same value is assigned to two different variables \n",
    "#ex: a = 10.5 b=10.5. but id will be same if I assign the variable having float i.e. a=c then both a and c's Id are same \n",
    "a = 40.20\n",
    "b = 40.20\n",
    "print(a is b)          \n",
    "print(a is not b)     \n",
    "print(a, id(a))\n",
    "print(b, id(b))"
   ]
  },
  {
   "cell_type": "code",
   "execution_count": 14,
   "metadata": {},
   "outputs": [
    {
     "name": "stdout",
     "output_type": "stream",
     "text": [
      "10.5 154045342736\n",
      "10.5 154098647888\n",
      "10.5 154045342736\n",
      "10.5 154045342736\n"
     ]
    }
   ],
   "source": [
    "# Bitwise operation is not applicable between instances of float. Why the Id of float values are different when \n",
    "#the same value is assigned to two different variables \n",
    "# ex: a = 10.5 b=10.5. but id will be same if I assign the variable having float i.e. a=c then both a and c's Id are same Object reusability concept is not applicable \n",
    "#on float values\n",
    "a = 10.5\n",
    "b = 10.5\n",
    "print(a, id(a))\n",
    "print(b, id(b))\n",
    "c = a\n",
    "print(a, id(a))\n",
    "print(c, id(c))\n",
    "#different id() values for small integers (from -5 through to 256) is because these values are interned;\n",
    "#Python only creates one 1 integer object and re-uses it over and over again."
   ]
  },
  {
   "cell_type": "code",
   "execution_count": 16,
   "metadata": {},
   "outputs": [
    {
     "name": "stdout",
     "output_type": "stream",
     "text": [
      "True\n",
      "True\n",
      "True\n",
      "True\n",
      "True\n",
      "True\n"
     ]
    }
   ],
   "source": [
    "#Membership operation in, not in are two membership operators and it returns boolean value \n",
    "print('2.7' in 'Python2.7.8')              #True \n",
    "print(10.20 in [10,10.20,10+20j,'Python']) #True \n",
    "print(10.20 in (10,10.20,10+20j,'Python')) # True \n",
    "print(20.30 in {1,20.30,30+40j})           # True \n",
    "print(2.3 in {1:100, 2.3:200, 30+40j:300}) # True \n",
    "print(10 in range(20))                     # True   "
   ]
  }
 ],
 "metadata": {
  "kernelspec": {
   "display_name": "Python 3",
   "language": "python",
   "name": "python3"
  },
  "language_info": {
   "codemirror_mode": {
    "name": "ipython",
    "version": 3
   },
   "file_extension": ".py",
   "mimetype": "text/x-python",
   "name": "python",
   "nbconvert_exporter": "python",
   "pygments_lexer": "ipython3",
   "version": "3.7.6"
  }
 },
 "nbformat": 4,
 "nbformat_minor": 4
}
