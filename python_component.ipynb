{
 "cells": [
  {
   "cell_type": "code",
   "execution_count": 3,
   "metadata": {},
   "outputs": [
    {
     "name": "stdout",
     "output_type": "stream",
     "text": [
      "Enter a num1: 10\n",
      "Entera num2: 20\n",
      "30\n"
     ]
    }
   ],
   "source": [
    "# num1 = input('Enter a num1:')\n",
    "# num2 = input(\"Enter a num2: \")\n",
    "# print(num1,type(num1))\n",
    "# print(num1+num2)--->getting num1=10 num2=20 and num1+num2=1020(concatenation since convert string)\n",
    "\n",
    "num1 = int(input(\"Enter a num1: \"))\n",
    "num2 = int(input(\"Entera num2: \"))\n",
    "print(num1+num2)\n"
   ]
  }
 ],
 "metadata": {
  "kernelspec": {
   "display_name": "Python 3",
   "language": "python",
   "name": "python3"
  },
  "language_info": {
   "codemirror_mode": {
    "name": "ipython",
    "version": 3
   },
   "file_extension": ".py",
   "mimetype": "text/x-python",
   "name": "python",
   "nbconvert_exporter": "python",
   "pygments_lexer": "ipython3",
   "version": "3.7.6"
  }
 },
 "nbformat": 4,
 "nbformat_minor": 4
}
