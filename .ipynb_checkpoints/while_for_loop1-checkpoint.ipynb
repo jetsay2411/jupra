{
 "cells": [
  {
   "cell_type": "code",
   "execution_count": 1,
   "metadata": {},
   "outputs": [
    {
     "name": "stdout",
     "output_type": "stream",
     "text": [
      "Enter a num1: 20\n",
      "Enter a num2: 10\n",
      "1 Add\n",
      "2 Sub\n",
      "3 Mul\n",
      "4 Div\n",
      "5 Floor_div\n",
      "6 Mod\n",
      "7 Quo\n",
      "8 Expo\n",
      "9 Quit\n",
      "select operation : \n",
      "Enter a operation choice 1-9: 3\n",
      "Result =  200\n",
      "Do you want to continue (y/n) ?n\n"
     ]
    }
   ],
   "source": [
    "##simple Calculator\n",
    "\n",
    "\n",
    "num1 = int(input('Enter a num1: '))\n",
    "num2 = int(input('Enter a num2: '))\n",
    "    \n",
    "lst_item = ['1 Add','2 Sub','3 Mul','4 Div','5 Floor_div','6 Mod','7 Quo','8 Expo','9 Quit']\n",
    "for i in  range (len(lst_item)):\n",
    "        print(lst_item[i])\n",
    "        \n",
    "print(\"select operation : \")\n",
    "    \n",
    "ch = int(input('Enter a operation choice 1-9: '))\n",
    "\n",
    "while ch < 9 :\n",
    "    result=0\n",
    "    \n",
    "        \n",
    "    if ch == 1:\n",
    "        result = num1+num2\n",
    "        \n",
    "    elif ch == 2:\n",
    "        result = num1-num2\n",
    "    elif ch == 3:\n",
    "        result = num1*num2    \n",
    "    elif ch == 4:\n",
    "        result = num1/num2    \n",
    "    elif ch == 5:\n",
    "        result = num1//num2        \n",
    "    elif ch == 6:\n",
    "        result = num1%num2    \n",
    "    elif ch == 7:\n",
    "        result = num1//num2      \n",
    "    elif ch == 8:\n",
    "        result = num1**num2\n",
    "        \n",
    "    elif ch == 9:\n",
    "        print(\"exit\")\n",
    "        \n",
    "    else:   \n",
    "          print('Invalid Input') \n",
    "            \n",
    "            \n",
    "    #print(\"Result = \", result)\n",
    "    print('Result = ', result)    \n",
    "          \n",
    "    quit = input(\"Do you want to continue (y/n) ?\")\n",
    "    if quit == 'n':\n",
    "        break\n"
   ]
  }
 ],
 "metadata": {
  "kernelspec": {
   "display_name": "Python 3",
   "language": "python",
   "name": "python3"
  },
  "language_info": {
   "codemirror_mode": {
    "name": "ipython",
    "version": 3
   },
   "file_extension": ".py",
   "mimetype": "text/x-python",
   "name": "python",
   "nbconvert_exporter": "python",
   "pygments_lexer": "ipython3",
   "version": "3.7.6"
  }
 },
 "nbformat": 4,
 "nbformat_minor": 4
}
