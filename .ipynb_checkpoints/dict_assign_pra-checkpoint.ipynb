{
 "cells": [
  {
   "cell_type": "code",
   "execution_count": 3,
   "metadata": {},
   "outputs": [
    {
     "name": "stdout",
     "output_type": "stream",
     "text": [
      "Enter a value for key: 'tom_latham10@gmail.com'\n",
      "Enter a key: 'email'\n",
      "Enter a value for key: '+1987654321'\n",
      "Enter a key: 'Phone'\n",
      "Enter a value for key: 'California'\n",
      "Enter a key: 'City'\n",
      "{'email': 'tom_latham10@gmail.com', 'Phone': '+1987654321', 'City': 'California'}\n"
     ]
    }
   ],
   "source": [
    "# Initialize a dictionary \"emp_info\" with below details\n",
    "# In - emp_info['Tom']\n",
    "# Out - {'email':'tom_latham019@gmail.com', 'Phone': +1987654321, 'City': 'California'}\n",
    "print({eval(input('Enter a key: ')):eval(input(\"Enter a value for key: \")) for emp_info in range(1, 4)})\n",
    "#print({eval(input('Enter a key: ')):eval(input(\"Enter a value for key: \")) for num in range(11, 15)})"
   ]
  }
 ],
 "metadata": {
  "kernelspec": {
   "display_name": "Python 3",
   "language": "python",
   "name": "python3"
  }
 },
 "nbformat": 4,
 "nbformat_minor": 4
}
