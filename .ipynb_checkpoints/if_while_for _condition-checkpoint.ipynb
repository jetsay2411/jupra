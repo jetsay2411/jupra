{
 "cells": [
  {
   "cell_type": "code",
   "execution_count": null,
   "metadata": {},
   "outputs": [],
   "source": [
    "# Take two number from user -> 10, 20\n",
    "# ask the user to enter an operation \n",
    "#     1. Add\n",
    "#     2. Sub\n",
    "#     3. mul\n",
    "#     .....\n",
    "#     9. Quit\n",
    "# 1. 10+20 = 30\n",
    "# ask the user to enter an operation \n",
    "#     1. Add\n",
    "#     2. Sub\n",
    "#     3. mul\n",
    "# 9. Exit the app.\n",
    "\n",
    "# d = {1:'Add',2 :'Sub',3:'Mul',4:'Div',5:'Power',6:'Expo',7:'Modulo',8:'Floor',9:'Quit'}\n",
    "# for i in d:\n",
    "#     print(i)\n",
    "#     print(d[i])\n",
    "#result=0\n",
    "    #if ch > 9 :\n",
    "\n",
    "\n",
    "num1 = int(input('Enter a num1 :'))\n",
    "num2 = int(input('Enter a num2 :'))\n",
    "print(\"Select operation.\")\n",
    "print(\"1.Add\")\n",
    "print(\"2.Subtract\")\n",
    "print(\"3.Multiply\")\n",
    "print(\"4.Divide\")\n",
    " result=0\n",
    "while True:\n",
    "    # Take input from the user\n",
    "    ch = input(\"Enter choice(1/2/3/4): \")\n",
    "     \n",
    "    if ch =='1':\n",
    "        result=num1+num2;\n",
    "    elif ch =='2':\n",
    "        result=num1-num2;\n",
    "    elif ch =='3':\n",
    "        result=num1*num2;\n",
    "    elif ch =='4':\n",
    "        result=num1/num2;\n",
    "    elif ch =='9':\n",
    "        print('quit')\n",
    "else:\n",
    "    print(\"char is not supported\");\n",
    "print(num1,ch,num2,\": \",result)\n"
   ]
  },
  {
   "cell_type": "code",
   "execution_count": null,
   "metadata": {},
   "outputs": [
    {
     "name": "stdout",
     "output_type": "stream",
     "text": [
      "Enter a num1 :20\n",
      "Enter a num2 :10\n",
      "Select operation.\n",
      "1.Add\n",
      "2.Subtract\n",
      "3.Multiply\n",
      "4.Divide\n",
      "Enter choice(1/2/3/4): 1\n"
     ]
    }
   ],
   "source": [
    "num1 = int(input('Enter a num1 :'))\n",
    "num2 = int(input('Enter a num2 :'))\n",
    "print(\"Select operation.\")\n",
    "print(\"1.Add\")\n",
    "print(\"2.Subtract\")\n",
    "print(\"3.Multiply\")\n",
    "print(\"4.Divide\")\n",
    "#result=0\n",
    "while True:\n",
    "    # Take input from the user\n",
    "    ch = input(\"Enter choice(1/2/3/4): \")\n",
    "    result=0\n",
    "\n",
    "    if ch =='1':\n",
    "        result=num1+num2;\n",
    "        \n",
    "    elif ch =='2':\n",
    "        result=num1-num2;\n",
    "       \n",
    "    elif ch =='3':\n",
    "        result=num1*num2;\n",
    "    #elif ch =='4':\n",
    "        #result=num1/num2;\n",
    "    #elif ch =='9':\n",
    "        #print('quit')\n",
    "else:\n",
    "     print(\"char is not supported\")\n",
    "print(num1,ch,num2,\": \",result)\n"
   ]
  },
  {
   "cell_type": "code",
   "execution_count": 4,
   "metadata": {},
   "outputs": [
    {
     "name": "stdout",
     "output_type": "stream",
     "text": [
      "Enter a num1: 10\n",
      "Enter a num2: 10\n",
      "select operation : \n",
      "1. Add\n",
      "2. Sub\n",
      "3. Mul\n",
      "4. Div\n",
      "5. Quo\n",
      "6. Mod\n",
      "7. Floor div\n",
      "8. Expo\n",
      "9. Quit\n",
      "Enter a operation10\n",
      "Enter a wrong number\n"
     ]
    }
   ],
   "source": [
    "num1 = int(input('Enter a num1: '))\n",
    "num2 = int(input('Enter a num2: '))\n",
    "print(\"select operation : \")\n",
    "print(\"1. Add\")\n",
    "print(\"2. Sub\")\n",
    "print(\"3. Mul\")\n",
    "print(\"4. Div\")\n",
    "print(\"5. Quo\")\n",
    "print(\"6. Mod\")\n",
    "print(\"7. Floor div\")\n",
    "print(\"8. Expo\")\n",
    "print(\"9. Quit\")\n",
    "ch = int(input('Enter a operation'))\n",
    "result=0\n",
    "if ch == 1:\n",
    "    result = num1+num2\n",
    "    print(result)\n",
    "elif ch == 2:\n",
    "    result = num1-num2\n",
    "    print(result)\n",
    "elif ch == 3:\n",
    "    result = num1*num2\n",
    "    print(result)    \n",
    "elif ch == 4:\n",
    "    result = num1/num2\n",
    "elif ch == 5:\n",
    "    result = num1//num2\n",
    "    print(result)    \n",
    "elif ch == 6:\n",
    "    result = num1%num2\n",
    "    print(result)    \n",
    "elif ch == 7:\n",
    "    result = num1//num2\n",
    "    print(result)    \n",
    "elif ch == 8:\n",
    "    result = num1**num2\n",
    "    print(result)    \n",
    "elif ch == 9:\n",
    "    print(\"exit\")\n",
    "        \n",
    "else:   \n",
    "\n",
    "    print('Enter a wrong number')"
   ]
  },
  {
   "cell_type": "raw",
   "metadata": {},
   "source": [
    "#num1 = int(input('Enter a num1: '))\n",
    "#num2 = int(input('Enter a num2: '))\n",
    "#print(\"select operation : \")\n",
    "dic = {1:'Add',\n",
    "       2:'Sub',\n",
    "       3:'Mul',\n",
    "       4:'Div',\n",
    "       5:'Quo',\n",
    "       6:'Mod',\n",
    "       7:'Floor div',\n",
    "       8:'Expo',\n",
    "       9:'Quit',\n",
    "       }\n",
    "print(dic) \n",
    "    \n",
    "\n",
    "    "
   ]
  },
  {
   "cell_type": "code",
   "execution_count": 2,
   "metadata": {},
   "outputs": [
    {
     "name": "stdout",
     "output_type": "stream",
     "text": [
      "add, sub\n"
     ]
    }
   ],
   "source": [
    "str = ('add, sub')\n",
    "print(str)\n"
   ]
  },
  {
   "cell_type": "code",
   "execution_count": 1,
   "metadata": {},
   "outputs": [
    {
     "name": "stdout",
     "output_type": "stream",
     "text": [
      "Enter a num1: 10\n",
      "Enter a num2: 20\n",
      "select operation : \n",
      "Add,Sub,Mul,Div,Quo,Mod,Floor_div,Expo,Quit\n"
     ]
    }
   ],
   "source": [
    "num1 = int(input('Enter a num1: '))\n",
    "num2 = int(input('Enter a num2: '))\n",
    "print(\"select operation : \")\n",
    "str = ('Add,Sub,Mul,Div,Quo,Mod,Floor_div,Expo,Quit')\n",
    "print(str)"
   ]
  },
  {
   "cell_type": "code",
   "execution_count": 1,
   "metadata": {},
   "outputs": [
    {
     "name": "stdout",
     "output_type": "stream",
     "text": [
      "select operation : \n",
      "('1', 'A')\n",
      "(',', 'd')\n",
      "('2', 'd')\n",
      "(',', ',')\n",
      "('3', 'S')\n",
      "(',', 'u')\n",
      "('4', 'b')\n",
      "(',', ',')\n",
      "('5', 'M')\n",
      "(',', 'u')\n",
      "('6', 'l')\n",
      "(',', ',')\n",
      "('7', 'D')\n",
      "(',', 'i')\n",
      "('8', 'v')\n",
      "(',', ',')\n",
      "('9', 'Q')\n"
     ]
    }
   ],
   "source": [
    "#num1 = int(input('Enter a num1: '))\n",
    "#num2 = int(input('Enter a num2: '))\n",
    "print(\"select operation : \")\n",
    "str1 =('1,2,3,4,5,6,7,8,9')\n",
    "str2 = ('Add,Sub,Mul,Div,Quo,Mod,Floor_div,Expo,Quit')\n",
    "for i in zip(str1,str2):\n",
    "    print(i)\n",
    "\n",
    "\n",
    "    "
   ]
  },
  {
   "cell_type": "code",
   "execution_count": 2,
   "metadata": {},
   "outputs": [
    {
     "name": "stdout",
     "output_type": "stream",
     "text": [
      "{1: 'Add', 2: 'Sub', 3: 'Mul', 4: 'Div', 5: 'Quo', 6: 'Mod', 7: 'Floor div', 8: 'Expo', 9: 'Quit'}\n"
     ]
    }
   ],
   "source": [
    "dic = {1:'Add',\n",
    "       2:'Sub',\n",
    "       3:'Mul',\n",
    "       4:'Div',\n",
    "       5:'Quo',\n",
    "       6:'Mod',\n",
    "       7:'Floor div',\n",
    "       8:'Expo',\n",
    "       9:'Quit',\n",
    "       }\n",
    "print(dic) "
   ]
  },
  {
   "cell_type": "code",
   "execution_count": 7,
   "metadata": {},
   "outputs": [
    {
     "name": "stdout",
     "output_type": "stream",
     "text": [
      "Enter a num1: 20\n",
      "Enter a num2: 10\n",
      "1 Add\n",
      "2 Sub\n",
      "3 Mul\n",
      "select operation : \n",
      "Enter a operation2\n",
      "10\n"
     ]
    }
   ],
   "source": [
    "num1 = int(input('Enter a num1: '))\n",
    "num2 = int(input('Enter a num2: '))\n",
    "lst_item = ['1 Add','2 Sub','3 Mul']\n",
    "for i in  range (len(lst_item)):\n",
    "        print(lst_item[i])\n",
    "        \n",
    "print(\"select operation : \")\n",
    "ch = int(input('Enter a operation'))\n",
    "result=0\n",
    "if ch == 1:\n",
    "    result = num1+num2\n",
    "    print(result)\n",
    "elif ch == 2:\n",
    "    result = num1-num2\n",
    "    print(result)\n",
    "elif ch == 3:\n",
    "    result = num1*num2\n",
    "    print(result)   \n"
   ]
  },
  {
   "cell_type": "code",
   "execution_count": 5,
   "metadata": {},
   "outputs": [
    {
     "name": "stdout",
     "output_type": "stream",
     "text": [
      "1 Add\n",
      "2 Sub\n",
      "3 Mul\n"
     ]
    }
   ],
   "source": [
    "lst_item = ['1 Add','2 Sub','3 Mul']\n",
    "for i in  range (len(lst_item)):\n",
    "        print(lst_item[i])\n"
   ]
  },
  {
   "cell_type": "code",
   "execution_count": 11,
   "metadata": {},
   "outputs": [
    {
     "name": "stdout",
     "output_type": "stream",
     "text": [
      "Enter a num1: 20\n",
      "Enter a num2: 10\n",
      "1 Add\n",
      "2 Sub\n",
      "3 Mul\n",
      "4 Div\n",
      "5 Floor_div\n",
      "6 Mod\n",
      "7 Quo\n",
      "8 Expo\n",
      "9 Quit\n",
      "select operation : \n",
      "Enter a operation9\n",
      "exit\n"
     ]
    }
   ],
   "source": [
    "num1 = int(input('Enter a num1: '))\n",
    "num2 = int(input('Enter a num2: '))\n",
    "lst_item = ['1 Add','2 Sub','3 Mul','4 Div','5 Floor_div','6 Mod','7 Quo','8 Expo','9 Quit']\n",
    "for i in  range (len(lst_item)):\n",
    "        print(lst_item[i])\n",
    "        \n",
    "print(\"select operation : \")\n",
    "ch = int(input('Enter a operation'))\n",
    "result=0\n",
    "if ch == 1:\n",
    "    result = num1+num2\n",
    "    print(result)\n",
    "elif ch == 2:\n",
    "    result = num1-num2\n",
    "    print(result)\n",
    "elif ch == 3:\n",
    "    result = num1*num2\n",
    "    print(result)   \n",
    "elif ch == 4:\n",
    "    result = num1/num2\n",
    "    print(result)\n",
    "elif ch == 5:\n",
    "    result = num1//num2\n",
    "    print(result)    \n",
    "elif ch == 6:\n",
    "    result = num1%num2\n",
    "    print(result)    \n",
    "elif ch == 7:\n",
    "    result = num1//num2\n",
    "    print(result)    \n",
    "elif ch == 8:\n",
    "    result = num1**num2\n",
    "    print(result)    \n",
    "elif ch == 9:\n",
    "    print(\"exit\")\n",
    "        \n",
    "else:   \n",
    "\n",
    "      print('Enter a Wrong nuber') \n",
    "  \n",
    "\n",
    "##print('num1,num2, result')    "
   ]
  },
  {
   "cell_type": "code",
   "execution_count": null,
   "metadata": {},
   "outputs": [],
   "source": [
    "#W. A P. which takes one number from 0 to 9 from the user and prints it in the word. And if the word \n",
    "#is not from 0 to 9 then it should print that number is outside of the range and program should exit. \n",
    "#For exapmple:- input = 1 output = one\n",
    "\n",
    "num1  = int(input('Enter a number: '))\n",
    "while True:\n",
    "    if (num1<0) or (num1>9):\n",
    "        num1 = int(input('Enter a number again:'))\n",
    "    else:\n",
    "        if num1 == 0:\n",
    "            print('Zero')\n",
    "            \n",
    "        elif num1 == 1:\n",
    "            print('One')\n",
    "        elif num1 == 2:\n",
    "            print('Two')\n",
    "        elif num1 == 3:\n",
    "            print('Three')\n",
    "        elif num1 == 4:\n",
    "            print('Four')\n",
    "        elif num1 == 5:\n",
    "            print('Five')\n",
    "        elif num1 == 6:\n",
    "            print('Six')\n",
    "        elif num1 == 7:\n",
    "            print('Seven')\n",
    "        elif num1 == 8:\n",
    "            print('Eight')    \n",
    "        elif num1 == 9:\n",
    "            print('Nine')\n",
    "            \n",
    "        else:\n",
    "            print('Number is outside of the range:')\n",
    "            \n",
    "        break\n",
    "            \n",
    "            \n",
    "            \n",
    "            \n",
    "            "
   ]
  },
  {
   "cell_type": "code",
   "execution_count": null,
   "metadata": {},
   "outputs": [],
   "source": [
    "#my_str = \"Although 8 that way may not be obvious at first unless you're Dutch\"\n",
    "#print(len(my_str))\n",
    "\n",
    "my_str = \"Although 8 that way may not be obvious at first unless you're Dutch\"\n",
    "count_t = 0\n",
    "pos = 0\n",
    "while True:\n",
    "    pos = my_str.index('t')\n",
    "    if pos == len(my_str) :\n",
    "        break\n",
    "    else:\n",
    "        pos = pos+1\n",
    "        count_t +=1\n",
    "print(count_t)"
   ]
  },
  {
   "cell_type": "code",
   "execution_count": 1,
   "metadata": {},
   "outputs": [
    {
     "name": "stdout",
     "output_type": "stream",
     "text": [
      "7\n",
      "7\n"
     ]
    }
   ],
   "source": [
    "##count by index()\n",
    "my_str = \"Although 8 that way may not be obvious at first unless you're Dutch\"\n",
    "int_t = 0\n",
    "for i in range(len(my_str)):\n",
    "    str = (my_str[i], i)\n",
    "    if str[0] == 't':\n",
    "        int_t += 1\n",
    "    else:\n",
    "        if i == 67:\n",
    "            break\n",
    "        else:\n",
    "            i = i+1\n",
    "\n",
    "print(int_t)\n",
    "print(my_str.count('t'))"
   ]
  },
  {
   "cell_type": "code",
   "execution_count": 11,
   "metadata": {},
   "outputs": [
    {
     "name": "stdout",
     "output_type": "stream",
     "text": [
      "Enter a num1: 20\n",
      "Enter a num2: 10\n",
      "1 To Add enter \n",
      "2 Sub\n",
      "3 Mul\n",
      "4 Div\n",
      "5 Floor_div\n",
      "6 Mod\n",
      "7 Expo\n",
      "8 Quit\n",
      "select operation : \n",
      "Enter a operation choice 1-8: 3\n",
      "Result =  200\n",
      "Do you want to continue (y/n) ?n\n"
     ]
    }
   ],
   "source": [
    "#W. A P. to implement calculator but the operation to be done and two numbers will be taken as input from user\n",
    "#:- Operation console should show below:-   \n",
    "#Please select any one operation from below:-        \n",
    "# * To add enter 1        \n",
    "# * to subtract enter 2        \n",
    "# * To multiply enter 3        \n",
    "# * To divide enter 4        \n",
    "# * To divide and find quotient enter 5       \n",
    "# * To divide and find remainder enter 6        \n",
    "# * To divide and find num1 to the power of num2 enter 7       \n",
    "# * To Come out of the program enter 8  \n",
    "\n",
    "\n",
    "num1 = int(input('Enter a num1: '))\n",
    "num2 = int(input('Enter a num2: '))\n",
    "    \n",
    "lst_item = ['1 To Add enter ','2 Sub','3 Mul','4 Div','5 Floor_div','6 Mod','7 Expo','8 Quit']\n",
    "for i in  range (len(lst_item)):\n",
    "        print(lst_item[i])\n",
    "        \n",
    "print(\"select operation : \")\n",
    "    \n",
    "ch = int(input('Enter a operation choice 1-8: '))\n",
    "\n",
    "while True:\n",
    "    if ch > 8 :\n",
    "         num1 = int(input('Enter a number again:'))\n",
    "    else:\n",
    "        \n",
    "        result=0\n",
    "    \n",
    "        \n",
    "        if ch == 1:\n",
    "            result = num1+num2\n",
    "        \n",
    "        elif ch == 2:\n",
    "            result = num1-num2\n",
    "        elif ch == 3:\n",
    "            result = num1*num2    \n",
    "        elif ch == 4:\n",
    "            result = num1/num2    \n",
    "        elif ch == 5:\n",
    "            result = num1//num2        \n",
    "        elif ch == 6:\n",
    "            result = num1%num2    \n",
    "        elif ch == 7:\n",
    "            result = num1**num2    \n",
    "        elif ch == 8:\n",
    "            print(\"exit\")\n",
    "\n",
    "        else:   \n",
    "              print('Invalid Input') \n",
    "                  \n",
    "        #print(\"Result = \", result)\n",
    "        print('Result = ', result)    \n",
    "          \n",
    "    quit = input(\"Do you want to continue (y/n) ?\")\n",
    "    if quit == 'n':\n",
    "        break\n",
    "\n"
   ]
  },
  {
   "cell_type": "code",
   "execution_count": null,
   "metadata": {},
   "outputs": [],
   "source": [
    "#### W A P to check whether a year entered by user is an leap year or not? Check with below input:-   \n",
    "#leap year:- 2012, 1968, 2004, 1200, 1600,2400    Non-lear year:- 1971, 2006, 1700,1800,1900  \n",
    "year = int(input('Enter a leap year: '))\n",
    "if (year%400 == 0) or (year%4 == 0) and (year%100 != 0):\n",
    "    print('Year is a Leap year: ')\n",
    "    \n",
    "else:\n",
    "    print('Year is not a Leap year: ')\n",
    "        "
   ]
  },
  {
   "cell_type": "code",
   "execution_count": null,
   "metadata": {},
   "outputs": [],
   "source": [
    "#W A P which takes one number from the user and checks whether it is an even or odd number?, \n",
    "#If it even then prints number is even number else prints that number is odd number. \n",
    "num = eval(input('Enter a number: '))\n",
    "if num%2 == 0:\n",
    "   print('Numbe is an Even')      \n",
    "else:\n",
    "   print('Number is a Odd')        \n",
    "           \n",
    "           "
   ]
  },
  {
   "cell_type": "code",
   "execution_count": 18,
   "metadata": {},
   "outputs": [
    {
     "name": "stdout",
     "output_type": "stream",
     "text": [
      "Enter a num1: 70\n",
      "Enter a num2: 100\n",
      "num1 is smaller than num2\n"
     ]
    }
   ],
   "source": [
    "#W A P which takes two numbers from the user and prints below output:-   \n",
    "#1. num1 is greater than num2 if num1 is greater than num2    \n",
    "#2. num1 is smaller than num2 if num1 is smaller than num2    \n",
    "#3. num1 is equal to num2 if num1 and num2 are equal \n",
    "# Note:- 1. Do this problem using if - else      \n",
    "# 2. Do this using ternary operator  \n",
    "\n",
    "num1 = int(input('Enter a num1: '))\n",
    "num2 = int(input('Enter a num2: '))\n",
    "if num1 > num2:\n",
    "    print('num1 is greater than num2')\n",
    "else:\n",
    "    if num1 < num2:\n",
    "        print('num1 is smaller than num2')\n",
    "    else:\n",
    "        print('num1 and num2 are equal')\n",
    "                "
   ]
  },
  {
   "cell_type": "code",
   "execution_count": null,
   "metadata": {},
   "outputs": [],
   "source": [
    "# Python program to find the largest number among the three input numbers\n",
    "\n",
    "# change the values of num1, num2 and num3\n",
    "# for a different result\n",
    "num1 = 10\n",
    "num2 = 14\n",
    "num3 = 12\n",
    "\n",
    "# uncomment following lines to take three numbers from user\n",
    "#num1 = float(input(\"Enter first number: \"))\n",
    "#num2 = float(input(\"Enter second number: \"))\n",
    "#num3 = float(input(\"Enter third number: \"))\n",
    "\n",
    "if (num1 >= num2) and (num1 >= num3):\n",
    "   largest = num1\n",
    "elif (num2 >= num1) and (num2 >= num3):\n",
    "   largest = num2\n",
    "else:\n",
    "   largest = num3\n",
    "\n",
    "print(\"The largest number is\", largest)\n"
   ]
  },
  {
   "cell_type": "code",
   "execution_count": 26,
   "metadata": {},
   "outputs": [
    {
     "name": "stdout",
     "output_type": "stream",
     "text": [
      "Enter a num1: 30\n",
      "Enter a num2: 50\n"
     ]
    },
    {
     "data": {
      "text/plain": [
       "'num2 is smaller than num2'"
      ]
     },
     "execution_count": 26,
     "metadata": {},
     "output_type": "execute_result"
    }
   ],
   "source": [
    "#### W A P which takes two numbers from the user and prints below output:-   \n",
    "#1. num1 is greater than num2 if num1 is greater than num2    \n",
    "#2. num1 is smaller than num2 if num1 is smaller than num2    \n",
    "#3. num1 is equal to num2 if num1 and num2 are equal \n",
    "# Note:- 1. Do this problem using if - else      \n",
    "# 2. Do this using ternary operator\n",
    "3#min = num2 if num1 > num2 else num1\n",
    "#print (\"Both a and b are equal\" if a == b else \"a is greater than b\"\n",
    "#        if a > b else \"b is greater than a\")\n",
    "##By ternary\n",
    "num1 = int(input('Enter a num1: '))\n",
    "num2 = int(input('Enter a num2: '))\n",
    "print(\"Both num1 and num2 are equal\") if num1 == num2 else (\"num1 is greater than num2\") if num1 > num2 else 'num2 is smaller than num2' "
   ]
  },
  {
   "cell_type": "code",
   "execution_count": 10,
   "metadata": {},
   "outputs": [
    {
     "name": "stdout",
     "output_type": "stream",
     "text": [
      "Enter a num1: -20\n",
      "Enter a num2: -40\n",
      "Enter a num3: -10\n",
      "num3 is greater than num1 and num2\n"
     ]
    }
   ],
   "source": [
    "#### W A P which takes three numbers from the user and prints below output:-   \n",
    "#1. num1 is greater than num2 and num3 and if num1  is greater than num2 and num3.    \n",
    "#2. num2 is greater than num1 and num3 if num2 is greater than num1 and num3   \n",
    "#3. num3 is greater than num1 and num2 if num3is greater than num1 and num2 .\n",
    "# Note:- 1. Do this problem using if - elif - else      \n",
    "# 2. Do this using ternary operator\n",
    "#a = a if a>b else b \n",
    "\n",
    "num1 = int(input('Enter a num1: '))\n",
    "num2 = int(input('Enter a num2: '))\n",
    "num3 = int(input('Enter a num3: ')) \n",
    "if (num1 > num2) and (num1 > num3):\n",
    "    print('num1 is greater than num2 and num3')\n",
    "elif (num2 > num1) and (num2 > num3):\n",
    "    print('num2 is greater than num1 and num3')\n",
    "else:\n",
    "    print('num3 is greater than num1 and num2')"
   ]
  },
  {
   "cell_type": "code",
   "execution_count": 11,
   "metadata": {},
   "outputs": [
    {
     "name": "stdout",
     "output_type": "stream",
     "text": [
      "Enter a num1: 20\n",
      "Enter a num2: 10\n",
      "Enter a num3: 5\n",
      "num1 is greater than num2 and num3\n"
     ]
    }
   ],
   "source": [
    "##By ternary\n",
    "num1 = int(input('Enter a num1: '))\n",
    "num2 = int(input('Enter a num2: '))\n",
    "num3 = int(input('Enter a num3: '))\n",
    "\n",
    "print(\"num1 is greater than num2 and num3\") if (num1 > num2) and (num1 > num3)  else (\"num2 is greater than num1 and num2\") if (num2 > num1) and (num2 > num3)  else ('num3 is greater than num1 and num2') \n",
    "\n"
   ]
  },
  {
   "cell_type": "markdown",
   "metadata": {},
   "source": [
    "### Loops - for loop, while loop  "
   ]
  },
  {
   "cell_type": "code",
   "execution_count": 31,
   "metadata": {},
   "outputs": [
    {
     "name": "stdout",
     "output_type": "stream",
     "text": [
      "55\n"
     ]
    }
   ],
   "source": [
    "# Q. Write a Python program to find the length of the my_str using loop:-  \n",
    "# Input:- 'Write a Python program to find the length of the my_str' Output:- 55 \n",
    "# my_str = 'Write a Python program to find the length of the my_str'\n",
    "# inp_str ='Python'\n",
    "# ind = 0\n",
    "# while ind < len(inp_str):\n",
    "#     print(inp_str[ind])\n",
    "#     ind += 1\n",
    "# print(ind)\n",
    "\n",
    "my_str = 'Write a Python program to find the length of the my_str'\n",
    "ind = 0\n",
    "while ind < len(my_str):\n",
    "    my_str[ind]\n",
    "    ind += 1\n",
    "    \n",
    "print(ind) \n"
   ]
  },
  {
   "cell_type": "code",
   "execution_count": 3,
   "metadata": {},
   "outputs": [
    {
     "name": "stdout",
     "output_type": "stream",
     "text": [
      "9\n"
     ]
    }
   ],
   "source": [
    "# Write a Python program to find the total number of times letter 'p' is appeared in the below string using loop:-  \n",
    "# Input:- 'peter piper picked a peck of pickled peppers.\\n' Output:- 9 \n",
    "my_str = 'peter piper picked a peck of pickled peppers.\\n'\n",
    "count_p = 0\n",
    "pos = -1\n",
    "while True:\n",
    "    pos = my_str.find('p',pos+1)\n",
    "    if pos == -1:          \n",
    "        break\n",
    "    else:\n",
    "        count_p += 1\n",
    "print(count_p)        \n",
    "\n",
    "        "
   ]
  },
  {
   "cell_type": "code",
   "execution_count": 4,
   "metadata": {},
   "outputs": [
    {
     "name": "stdout",
     "output_type": "stream",
     "text": [
      "Pyth%n\n"
     ]
    }
   ],
   "source": [
    "#Write a program that accepts a string and change it's lowercase vovels to special characters given below:\n",
    "#input = 'Python'\n",
    "#output = 'Pyth%n'\n",
    "\n",
    "# inp_str = 'Python'\n",
    "# vov_str = '#@$%!'\n",
    "# for i,j in enumerate (inp_str):\n",
    "#     #print(i,j)\n",
    "#     if j == 'o': \n",
    "#         print(vov_str[3])\n",
    "#     else:\n",
    "#         print(j)\n",
    "#         i = i+1\n",
    "        \n",
    "dict_map = {'a':'#', 'e':'@', 'i':'$', 'o':'%',\n",
    "'u':'!'}\n",
    "inp_str = 'Python'\n",
    "#inp_str = input('Enter a string')\n",
    "out_str = ''\n",
    "for i in inp_str:\n",
    "    if i in dict_map:\n",
    "        out_str += dict_map[i]\n",
    "    else:\n",
    "        out_str += i\n",
    "print(out_str)        \n",
    "                "
   ]
  },
  {
   "cell_type": "code",
   "execution_count": 3,
   "metadata": {},
   "outputs": [
    {
     "name": "stdout",
     "output_type": "stream",
     "text": [
      "Enter a string: 'Python'\n"
     ]
    },
    {
     "ename": "TypeError",
     "evalue": "'str' object does not support item assignment",
     "output_type": "error",
     "traceback": [
      "\u001b[1;31m---------------------------------------------------------------------------\u001b[0m",
      "\u001b[1;31mTypeError\u001b[0m                                 Traceback (most recent call last)",
      "\u001b[1;32m<ipython-input-3-4786a4d48193>\u001b[0m in \u001b[0;36m<module>\u001b[1;34m\u001b[0m\n\u001b[0;32m     12\u001b[0m \u001b[1;32mfor\u001b[0m \u001b[0mi\u001b[0m \u001b[1;32min\u001b[0m \u001b[0mrange\u001b[0m\u001b[1;33m(\u001b[0m\u001b[0mlen\u001b[0m\u001b[1;33m(\u001b[0m\u001b[0mlst\u001b[0m\u001b[1;33m)\u001b[0m\u001b[1;33m)\u001b[0m\u001b[1;33m:\u001b[0m\u001b[1;33m\u001b[0m\u001b[1;33m\u001b[0m\u001b[0m\n\u001b[0;32m     13\u001b[0m     \u001b[1;32mif\u001b[0m \u001b[0mlst\u001b[0m\u001b[1;33m[\u001b[0m\u001b[0mi\u001b[0m\u001b[1;33m]\u001b[0m \u001b[1;32min\u001b[0m \u001b[0md\u001b[0m\u001b[1;33m:\u001b[0m\u001b[1;33m\u001b[0m\u001b[1;33m\u001b[0m\u001b[0m\n\u001b[1;32m---> 14\u001b[1;33m         \u001b[0mlst\u001b[0m\u001b[1;33m[\u001b[0m\u001b[0mi\u001b[0m\u001b[1;33m]\u001b[0m \u001b[1;33m+=\u001b[0m \u001b[0md\u001b[0m\u001b[1;33m[\u001b[0m\u001b[0mlst\u001b[0m\u001b[1;33m[\u001b[0m\u001b[0mi\u001b[0m\u001b[1;33m]\u001b[0m\u001b[1;33m]\u001b[0m\u001b[1;33m\u001b[0m\u001b[1;33m\u001b[0m\u001b[0m\n\u001b[0m\u001b[0;32m     15\u001b[0m \u001b[0mprint\u001b[0m\u001b[1;33m(\u001b[0m\u001b[1;34m''\u001b[0m\u001b[1;33m.\u001b[0m\u001b[0mjoin\u001b[0m\u001b[1;33m(\u001b[0m\u001b[0mlst\u001b[0m\u001b[1;33m)\u001b[0m\u001b[1;33m)\u001b[0m\u001b[1;33m\u001b[0m\u001b[1;33m\u001b[0m\u001b[0m\n\u001b[0;32m     16\u001b[0m \u001b[1;33m\u001b[0m\u001b[0m\n",
      "\u001b[1;31mTypeError\u001b[0m: 'str' object does not support item assignment"
     ]
    }
   ],
   "source": [
    "#Replacing characters\n",
    "#Write a program that accepts a string and change it's lowercase vovels to special characters given below:\n",
    "#input = 'Python'\n",
    "#output = 'Pyth%n'\n",
    "#By list and dic\n",
    "\n",
    "\n",
    "\n",
    "lst = eval(input('Enter a string: '))\n",
    "d = {'a':'#', 'e':'@', 'i':'$', 'o':'%', 'u':'!', 'A':'#', 'E':'@', 'I':'$', 'O':'%', 'U':'!'}\n",
    "\n",
    "for i in range(len(lst)):\n",
    "    if lst[i] in d:\n",
    "        lst[i] += d[lst[i]]\n",
    "print(''.join(lst))\n",
    "\n"
   ]
  },
  {
   "cell_type": "code",
   "execution_count": 18,
   "metadata": {},
   "outputs": [
    {
     "ename": "SyntaxError",
     "evalue": "invalid syntax (<ipython-input-18-114a95f32d9d>, line 4)",
     "output_type": "error",
     "traceback": [
      "\u001b[1;36m  File \u001b[1;32m\"<ipython-input-18-114a95f32d9d>\"\u001b[1;36m, line \u001b[1;32m4\u001b[0m\n\u001b[1;33m    102:{\"Name\":'Dev',\u001b[0m\n\u001b[1;37m      ^\u001b[0m\n\u001b[1;31mSyntaxError\u001b[0m\u001b[1;31m:\u001b[0m invalid syntax\n"
     ]
    }
   ],
   "source": [
    "dic = {{101:{\"Name\":'Joseph',\n",
    "           \"Marks\": 67}\n",
    "        \n",
    "          102:{\"Name\":'Dev',\n",
    "               \"Marks\": 80}\n",
    "        \n",
    "          103:{\"Name\":'ravi',\n",
    "                \"Marks\": 77}\n",
    "        \n",
    "          104:{\"Name\":'sita',\n",
    "                \"Marks\": 65}}\n",
    "for i in range(4):\n",
    "    l = list(dic.values())[:4]\n",
    "    print(l)\n",
    "   # l.sort(reverse=True)\n",
    "   # print(l)"
   ]
  },
  {
   "cell_type": "code",
   "execution_count": 2,
   "metadata": {},
   "outputs": [
    {
     "name": "stdout",
     "output_type": "stream",
     "text": [
      "[67, 80, 77, 65]\n",
      "[80, 77, 67, 65]\n"
     ]
    }
   ],
   "source": [
    "# Write a program that keeps student's name and his marks in a dictionary as key-value pairs. \n",
    "# The program should store records of 10 students and display students name and marks of first five students \n",
    "# in decreasing order of marks obtained.\n",
    "\n",
    "dic ={'Joseph': 67,'dev':80,'ravi':77,'sita':65}\n",
    "for i in range(1):\n",
    "    l = list(dic.values())[:4]\n",
    "    print(l)\n",
    "    l.sort(reverse=True)\n",
    "    print(l)"
   ]
  },
  {
   "cell_type": "code",
   "execution_count": 9,
   "metadata": {},
   "outputs": [
    {
     "ename": "TypeError",
     "evalue": "'str' object is not callable",
     "output_type": "error",
     "traceback": [
      "\u001b[1;31m---------------------------------------------------------------------------\u001b[0m",
      "\u001b[1;31mTypeError\u001b[0m                                 Traceback (most recent call last)",
      "\u001b[1;32m<ipython-input-9-3d375b1ea556>\u001b[0m in \u001b[0;36m<module>\u001b[1;34m\u001b[0m\n\u001b[0;32m      3\u001b[0m \u001b[1;31m# in decreasing order of marks obtained.\u001b[0m\u001b[1;33m\u001b[0m\u001b[1;33m\u001b[0m\u001b[1;33m\u001b[0m\u001b[0m\n\u001b[0;32m      4\u001b[0m \u001b[1;33m\u001b[0m\u001b[0m\n\u001b[1;32m----> 5\u001b[1;33m \u001b[0minfo\u001b[0m \u001b[1;33m=\u001b[0m \u001b[1;33m{\u001b[0m\u001b[0minput\u001b[0m\u001b[1;33m(\u001b[0m\u001b[1;34m'Enter the student name: '\u001b[0m\u001b[1;33m)\u001b[0m\u001b[1;33m:\u001b[0m \u001b[0minput\u001b[0m\u001b[1;33m(\u001b[0m\u001b[1;34m'Enter the marks: '\u001b[0m\u001b[1;33m)\u001b[0m \u001b[1;32mfor\u001b[0m \u001b[0mi\u001b[0m \u001b[1;32min\u001b[0m \u001b[0mrange\u001b[0m\u001b[1;33m(\u001b[0m\u001b[0mint\u001b[0m\u001b[1;33m(\u001b[0m\u001b[0minput\u001b[0m\u001b[1;33m(\u001b[0m\u001b[1;34m'Enter the number of students: '\u001b[0m\u001b[1;33m)\u001b[0m\u001b[1;33m)\u001b[0m\u001b[1;33m)\u001b[0m\u001b[1;33m}\u001b[0m\u001b[1;33m\u001b[0m\u001b[1;33m\u001b[0m\u001b[0m\n\u001b[0m\u001b[0;32m      6\u001b[0m \u001b[0mdir\u001b[0m\u001b[1;33m(\u001b[0m\u001b[0minfo\u001b[0m\u001b[1;33m)\u001b[0m\u001b[1;33m\u001b[0m\u001b[1;33m\u001b[0m\u001b[0m\n\u001b[0;32m      7\u001b[0m \u001b[0ml\u001b[0m \u001b[1;33m=\u001b[0m \u001b[0mlist\u001b[0m\u001b[1;33m(\u001b[0m\u001b[0minfo\u001b[0m\u001b[1;33m.\u001b[0m\u001b[0mvalues\u001b[0m\u001b[1;33m(\u001b[0m\u001b[1;33m)\u001b[0m\u001b[1;33m)\u001b[0m\u001b[1;33m[\u001b[0m\u001b[1;33m:\u001b[0m\u001b[1;36m5\u001b[0m\u001b[1;33m]\u001b[0m\u001b[1;33m\u001b[0m\u001b[1;33m\u001b[0m\u001b[0m\n",
      "\u001b[1;31mTypeError\u001b[0m: 'str' object is not callable"
     ]
    }
   ],
   "source": [
    "# Write a program that keeps student's name and his marks in a dictionary as key-value pairs. \n",
    "# The program should store records of 10 students and display students name and marks of first five students \n",
    "# in decreasing order of marks obtained.\n",
    "\n",
    "info = {input('Enter the student name: '): input('Enter the marks: ') for i in range\n",
    "        (int(input('Enter the number of students: ')))}\n",
    "dir(info)\n",
    "l = list(info.values())[:5]\n",
    "l.sort(reverse=True)\n",
    "print(l)\n",
    "for i in l:\n",
    "    print('student name - ', i, 'Marks scored - ', info[i])"
   ]
  },
  {
   "cell_type": "code",
   "execution_count": 8,
   "metadata": {},
   "outputs": [
    {
     "name": "stdout",
     "output_type": "stream",
     "text": [
      "0\n",
      "6\n",
      "8\n",
      "12\n",
      "21\n",
      "29\n",
      "37\n",
      "39\n",
      "40\n"
     ]
    }
   ],
   "source": [
    "#Write a Python Program, to print all the indexes of all occurences of letter 'p' appeared in the string using loop:-   \n",
    "#Input:- 'peter piper picked a peck of pickled peppers.' \n",
    "# Output-:\n",
    "# 0 \n",
    "# 6\n",
    "# 8\n",
    "# 12\n",
    "# 21\n",
    "# 29\n",
    "# 37\n",
    "# 39\n",
    "# 40      \n",
    "\n",
    "my_str = 'peter piper picked a peck of pickled peppers.'\n",
    "int_t = 0\n",
    "for i in range(len(my_str)):\n",
    "    str = (my_str[i], i)\n",
    "    if str[0] == 'p':\n",
    "        print(i)\n",
    "        int_t += 1\n",
    "    else:\n",
    "        if i == 55:\n",
    "            break\n",
    "        else:\n",
    "            i = i+1\n"
   ]
  },
  {
   "cell_type": "code",
   "execution_count": 1,
   "metadata": {},
   "outputs": [
    {
     "name": "stdout",
     "output_type": "stream",
     "text": [
      "['peter', 'piper', 'picked', 'a', 'peck', 'of', 'pickled', 'peppers.']\n"
     ]
    }
   ],
   "source": [
    "#Write a python program to find below output using loop:-\n",
    "#Input:- 'peter piper picked a peck of pickled peppers.' \n",
    "#Output:- ['peter', 'piper', 'picked', 'a', 'peck', 'of', 'pickled', 'peppers'] \n",
    "\n",
    "my_str = 'peter piper picked a peck of pickled peppers.'\n",
    "for i in range(1):\n",
    "    result = my_str.split()\n",
    "    print(result)"
   ]
  },
  {
   "cell_type": "code",
   "execution_count": 2,
   "metadata": {},
   "outputs": [
    {
     "name": "stdout",
     "output_type": "stream",
     "text": [
      "['peppers.', 'pickled', 'of', 'peck', 'a', 'picked', 'piper', 'peter']\n"
     ]
    }
   ],
   "source": [
    "# Write a python program to find below output using loop:-  \n",
    "# Input:- 'peter piper picked a peck of pickled peppers.' \n",
    "# Output:- 'peppers pickled of peck a picked piper peter'\n",
    "\n",
    "my_str = 'peter piper picked a peck of pickled peppers.'\n",
    "for i in range(1):\n",
    "    result = my_str.split()\n",
    "    print(result[::-1])"
   ]
  },
  {
   "cell_type": "code",
   "execution_count": 3,
   "metadata": {},
   "outputs": [
    {
     "name": "stdout",
     "output_type": "stream",
     "text": [
      ".sreppep delkcip fo kcep a dekcip repip retep\n"
     ]
    }
   ],
   "source": [
    "# Write a python program to find below output using loop:-  \n",
    "# Input:- 'peter piper picked a peck of pickled peppers.' \n",
    "# Output:- '.sreppep delkcip fo kcep a dekcip repip retep'\n",
    "my_str = 'peter piper picked a peck of pickled peppers.'\n",
    "for i in range(1):\n",
    "    print(my_str[::-1])"
   ]
  },
  {
   "cell_type": "code",
   "execution_count": 4,
   "metadata": {},
   "outputs": [
    {
     "name": "stdout",
     "output_type": "stream",
     "text": [
      "retep repip dekcip a kcep fo delkcip .sreppep\n"
     ]
    }
   ],
   "source": [
    "#Write a python program to find below output using loop:-  \n",
    "# Input:- 'peter piper picked a peck of pickled peppers.' \n",
    "# Output:- 'retep repip dekcip a kcep fo delkcip sreppep' \n",
    "my_str = 'peter piper picked a peck of pickled peppers.'.split()\n",
    "print( ' '.join([ele[::-1] for ele in my_str]))"
   ]
  },
  {
   "cell_type": "code",
   "execution_count": 6,
   "metadata": {},
   "outputs": [
    {
     "name": "stdout",
     "output_type": "stream",
     "text": [
      "Peter Piper Picked A Peck Of Pickled Peppers.\n"
     ]
    }
   ],
   "source": [
    "# Write a python program to find below output using loop:- \n",
    "# Input:- 'peter piper picked a peck of pickled peppers.' \n",
    "# Output:- 'Peter Piper Picked A Peck Of Pickled Peppers'\n",
    "\n",
    "my_str = 'peter piper picked a peck of pickled peppers.' \n",
    "for i in range(1):\n",
    "    result = my_str.title()\n",
    "    print(result)        "
   ]
  },
  {
   "cell_type": "code",
   "execution_count": 8,
   "metadata": {},
   "outputs": [
    {
     "name": "stdout",
     "output_type": "stream",
     "text": [
      "Peter piper picked a peck of pickled peppers.\n"
     ]
    }
   ],
   "source": [
    "# Write a python program to find below output using loop:-  \n",
    "# Input:- 'Peter Piper Picked A Peck Of Pickled Peppers.' \n",
    "# Output:- 'Peter piper picked a peck of pickled peppers'  \n",
    "\n",
    "    \n",
    "my_str = 'Peter Piper Picked A Peck Of Pickled Peppers.'   \n",
    "for i in range(1):\n",
    "    result = my_str.capitalize()\n",
    "    print(result)"
   ]
  },
  {
   "cell_type": "code",
   "execution_count": 3,
   "metadata": {},
   "outputs": [
    {
     "name": "stdout",
     "output_type": "stream",
     "text": [
      "29\n"
     ]
    }
   ],
   "source": [
    "# Write a python program to implement index method using loop. If sub_str is found in my_str then it will print the index of first\n",
    "# occurrence of first character of matching string in my_str:-  \n",
    "# Input:- my_str = 'Peter Piper Picked A Peck Of Pickled Peppers.', sub_str = 'Pickl' \n",
    "# Output:- 29  \n",
    "    \n",
    "# my_str = 'Peter Piper Picked A Peck Of Pickled Peppers.'\n",
    "# sub_str = 'Pickl' \n",
    "# new = my_str.split()\n",
    "# for i in range (0,len(new)):\n",
    "#     match = True\n",
    "#     if sub_str in new[i]:  #wrong  coming 6\n",
    "#         print(i)\n",
    "\n",
    "# main=\"Peter Piper Picked A Peck Of Pickled Peppers\"\n",
    "# sub=\"Pickl\"\n",
    "# t = main.split()\n",
    "# for i in range (0,len(t)):\n",
    "#     match = True\n",
    "#     if sub in t[i]:   #wrong  coming 6\n",
    "#         print(i)\n",
    "\n",
    "# main=\"Peter Piper Picked A Peck Of Pickled Peppers\"\n",
    "# sub=\"Pickl\"\n",
    "# t = main.find(sub)\n",
    "# print(t)\n",
    "\n",
    "# def myindex(main,sub):\n",
    "#     for kk in range (len(main) - len(sub)):\n",
    "#         match = True\n",
    "#         for ii in range(len(sub)):\n",
    "#             if main[kk+ii] != sub[ii]:\n",
    "#                 match = False\n",
    "#                 break\n",
    "#         if match:\n",
    "#             return kk\n",
    "#     return -1\n",
    "\n",
    "for i in range(0,len(my_str)):\n",
    "    if my_str[i:i+len(sub_str)] == sub_str:\n",
    "        print(i)\n",
    "\n",
    "\n",
    " "
   ]
  },
  {
   "cell_type": "code",
   "execution_count": 1,
   "metadata": {},
   "outputs": [
    {
     "name": "stdout",
     "output_type": "stream",
     "text": [
      "Peck\n",
      "Peter Piper Picked A Pack Of Pickled Peppers.\n"
     ]
    }
   ],
   "source": [
    "# Write a python program to implement replace method using loop. If sub_str is found in my_str then it will replace the \n",
    "# first occurrence of sub_str with new_str else it will will print sub_str not found:-  \n",
    "# Input:- my_str = 'Peter Piper Picked A Peck Of Pickled Peppers.', \n",
    "# sub_str = 'Peck', new_str = 'Pack' Output:- 'Peter Piper Picked A Pack Of Pickled Peppers.' \n",
    "\n",
    "\n",
    "my_str = 'Peter Piper Picked A Peck Of Pickled Peppers.'\n",
    "sub_str = ('Peck')\n",
    "print(sub_str)\n",
    "new_str = ''\n",
    "for i in range(1):\n",
    "    new_str = my_str.replace('Peck','Pack')\n",
    "    print(new_str)\n",
    "\n"
   ]
  },
  {
   "cell_type": "code",
   "execution_count": 2,
   "metadata": {},
   "outputs": [
    {
     "name": "stdout",
     "output_type": "stream",
     "text": [
      "Peter Piper Picked A Peck Of Pickled Peppers.\n",
      "********************Peck*********************\n"
     ]
    }
   ],
   "source": [
    "# Write a python program to find below output (implements rjust ​and ljust) using loop:- \n",
    "# Input:- 'Peter Piper Picked A Peck Of Pickled Peppers.', \n",
    "# sub_str = 'Peck',\n",
    "# Output:- '*********************Peck********************' \n",
    "\n",
    "my_str = 'Peter Piper Picked A Peck Of Pickled Peppers.'\n",
    "print(my_str)\n",
    "sub_str = 'Peck'\n",
    "for i in range(1):\n",
    "    print(sub_str.rjust((my_str.index(sub_str)+3), '*' ).ljust(len(my_str), '*'))\n",
    "\n"
   ]
  },
  {
   "cell_type": "code",
   "execution_count": 5,
   "metadata": {},
   "outputs": [
    {
     "ename": "SyntaxError",
     "evalue": "invalid syntax (<ipython-input-5-5719958e7810>, line 4)",
     "output_type": "error",
     "traceback": [
      "\u001b[1;36m  File \u001b[1;32m\"<ipython-input-5-5719958e7810>\"\u001b[1;36m, line \u001b[1;32m4\u001b[0m\n\u001b[1;33m    map(lambada email:email[:email.index('@')])\u001b[0m\n\u001b[1;37m                    ^\u001b[0m\n\u001b[1;31mSyntaxError\u001b[0m\u001b[1;31m:\u001b[0m invalid syntax\n"
     ]
    }
   ],
   "source": [
    "# lst_email = ['support'@domain.com,'sales'@domain.com,'info'@domain.com,'enquiries'@domain.com,'carreiers'@domain.com]\n",
    "# list(filter(lambada email:len(email[:email.index('@')])> 4 ,lst_email))     \n",
    "lst_email = ['support'@domain.com,'sales'@domain.com,'info'@domain.com,'enquiries'@domain.com,'carreiers'@domain.com]\n",
    "map(lambada email:email[:email.index('@')])"
   ]
  },
  {
   "cell_type": "code",
   "execution_count": 9,
   "metadata": {},
   "outputs": [
    {
     "name": "stdout",
     "output_type": "stream",
     "text": [
      "The sum of all elements of list :  100\n"
     ]
    }
   ],
   "source": [
    "#Write a Python program to find the sum of all elements in a list using loop.\n",
    "#Input:- [10,20,30,40]\n",
    "#Output:- 100\n",
    "\n",
    "# total = 0\n",
    "# i = 0\n",
    "# lst = [10,20,30,40]\n",
    "# while (i < len(lst)):\n",
    "#     total = total+lst[i]\n",
    "#     i = i+1\n",
    "    \n",
    "# print(\"Total sum of element of sum: \",total)    \n",
    "\n",
    "# total = 0\n",
    "# i = 0\n",
    "# lst = eval(input('Enter a list: '))\n",
    "# while (i < len(lst)):\n",
    "#     total = total+lst[i]\n",
    "#     i = i+1\n",
    "    \n",
    "# print(\"Total sum of element of sum: \",total)  \n",
    "\n",
    "total = 0\n",
    "lst = [10,20,30,40]\n",
    "for i in range(len(lst)):\n",
    "    total = total+lst[i]\n",
    "    \n",
    "print(\"The sum of all elements of list : \",total)    \n",
    "    "
   ]
  },
  {
   "cell_type": "code",
   "execution_count": 15,
   "metadata": {},
   "outputs": [
    {
     "name": "stdout",
     "output_type": "stream",
     "text": [
      "Enter a list : (10,20,30,40)\n",
      "The sum of all elements of list :  240000\n"
     ]
    }
   ],
   "source": [
    "#Write a Python program to find the multiplication of all elements in a list using loop.\n",
    "#Input:- [10,20,30,40]\n",
    "#Output:- 240000\n",
    "mul = 1\n",
    "lst = eval(input('Enter a list : '))\n",
    "#lst = [10,20,30,40]\n",
    "for i in range(len(lst)):\n",
    "    mul = mul*lst[i]\n",
    "    \n",
    "print(\"The sum of all elements of list : \",mul) \n",
    "\n",
    "# mul = 1\n",
    "# lst = [10,20,30,40]\n",
    "# for i in lst:\n",
    "#     mul = mul*i\n",
    "    \n",
    "# print(\"The sum of all elements of list : \",mul) "
   ]
  },
  {
   "cell_type": "code",
   "execution_count": 16,
   "metadata": {},
   "outputs": [
    {
     "name": "stdout",
     "output_type": "stream",
     "text": [
      "Largest element is:  2321\n"
     ]
    }
   ],
   "source": [
    "#Write a Python program to find the largest number from a list using loop.\n",
    "#Input:- [10,100,2321, 1,200,2]\n",
    "#Output:- 2321\n",
    "lst = [10,100,2321, 1,200,2]\n",
    "#variable to store largest number\n",
    "ln = lst[0] if lst else None\n",
    "\n",
    "#find largest number\n",
    "for i in lst:\n",
    "    if i>ln:\n",
    "        ln=i\n",
    "\n",
    "print(\"Largest element is: \",ln)\n",
    "\n",
    "\n",
    "# lst = [18, 52, 23, 41, 32]\n",
    "# lst = [10,100,2321, 1,200,2]\n",
    "# #variable to store largest number\n",
    "# ln = lst[0] ##if lst else None##\n",
    "\n",
    "# #find largest number\n",
    "# for i in lst:\n",
    "#     if i>ln:\n",
    "#         ln=i\n",
    "\n",
    "# print(\"Largest element is: \",ln)\n",
    "\n"
   ]
  },
  {
   "cell_type": "code",
   "execution_count": 17,
   "metadata": {},
   "outputs": [
    {
     "name": "stdout",
     "output_type": "stream",
     "text": [
      "smallest element is:  1\n"
     ]
    }
   ],
   "source": [
    "#Write a Python program to find the smallest number from a list using loop.\n",
    "#Input:- [10,100,2321, 1,200,2]\n",
    "#Output:- 1\n",
    "\n",
    "lst = [10,100,2321, 1,200,2]\n",
    "#variable to store largest number\n",
    "ln = lst[0] if lst else None\n",
    "\n",
    "#find largest number\n",
    "for i in lst:\n",
    "    if i<ln:\n",
    "        ln=i\n",
    "\n",
    "print(\"smallest element is: \",ln)"
   ]
  },
  {
   "cell_type": "code",
   "execution_count": 19,
   "metadata": {},
   "outputs": [
    {
     "name": "stdout",
     "output_type": "stream",
     "text": [
      "2\n"
     ]
    }
   ],
   "source": [
    "#Write a Python program to count the number of strings having length more than 2 and are palindrome in a list using loop.\n",
    "#Input:- ['ab', 'abc', 'aba', 'xyz', '1991']\n",
    "#Output:- 2\n",
    "\n",
    "# Write a Python program to count the number of strings\n",
    "# where the string length is 2 or more\n",
    "# and the first and last character are same from a given list of strings.\n",
    "# Sample List : ['abc', 'xyz', 'aba', '1221']\n",
    "\n",
    "\n",
    "def compare(a):\n",
    "    ctr = 0\n",
    "    for i in a:\n",
    "        if len(i) > 2 and i[0] == i[-1]:\n",
    "            ctr+= 1\n",
    "    return ctr\n",
    "\n",
    "##a = ['abc', 'xyz', 'aba', '1221', 'aaa', 'asdasdsada']\n",
    "a = ['abc', 'xyz', 'aba', '1221']\n",
    "for i in a:\n",
    "    z = compare(a)\n",
    "\n",
    "print(z)\n",
    "\n",
    "\n",
    "##len([x for x in ls if (len(x) >= 2 and x[-1] == x[0])])    \n",
    "# num=int(input(\"Enter a number:\"))\n",
    "# temp=num\n",
    "# rev=0\n",
    "# while(num>0):\n",
    "#     dig=num%10\n",
    "#     rev=rev*10+dig\n",
    "#     num=num//10\n",
    "# if(temp==rev):\n",
    "#     print(\"The number is palindrome!\")\n",
    "# else:\n",
    "#     print(\"Not a palindrome!\")\n"
   ]
  },
  {
   "cell_type": "code",
   "execution_count": 20,
   "metadata": {},
   "outputs": [
    {
     "name": "stdout",
     "output_type": "stream",
     "text": [
      "[1, 2, 9, 10, 65, 80, 100, 298, 483, 9213, 49876]\n"
     ]
    }
   ],
   "source": [
    "#Write a Python program to sort a list in ascending order using loop.\n",
    "#Input:- [100,10,1,298,65,483,49876,2,80,9,9213]\n",
    "#Output:- [1,2,9,10,65,80,100,298,483,9213,49876]\n",
    "\n",
    "# #Initialize array     \n",
    "# arr = [5, 2, 8, 7, 1, 3, 13, 64, 23, 15, 48, 39, 9];     \n",
    "# temp = 0;    \n",
    "# #Displaying elements of original array    \n",
    "# print(\"Elements of original array: \");    \n",
    "# for i in range(0, len(arr)):    \n",
    "# print(arr[i], end=\" \");    \n",
    "# #Sort the array in ascending order    \n",
    "# for i in range(0, len(arr)):    \n",
    "# for j in range(i+1, len(arr)):    \n",
    "# if(arr[i] > arr[j]):    \n",
    "# temp = arr[i];    \n",
    "# arr[i] = arr[j];    \n",
    "# arr[j] = temp;    \n",
    "# print();    \n",
    "# #Displaying elements of the array after sorting    \n",
    "# print(\"Elements of array sorted in ascending order: \");    \n",
    "# for i in range(0, len(arr)):    \n",
    "# print(arr[i], end=\" \");    \n",
    "\n",
    "lst=[100,10,1,298,65,483,49876,2,80,9,9213]\n",
    "i=0\n",
    "while i<len(lst):\n",
    "    key=i\n",
    "    j=i+1\n",
    "    while j<len(lst):\n",
    "        if lst[key]>lst[j]:\n",
    "            key=j\n",
    "        j+=1\n",
    "    lst[i],lst[key]=lst[key],lst[i]\n",
    "    i+=1\n",
    "print(lst)\n",
    "\n",
    "\n",
    "\n",
    "\n",
    "\n"
   ]
  },
  {
   "cell_type": "code",
   "execution_count": 25,
   "metadata": {},
   "outputs": [],
   "source": [
    "#Write a Python program to get a sorted list in increasing order of last element in each tuple in a given list using loop.\n",
    "#Input:- [(5,4),(9,1),(2,3),(5,9),(7,6),(5,5)]\n",
    "#output:- [(9,1),(2,3),(5,4),(5,5),(7,6),(5,9)]\n",
    "\n",
    "\n",
    "# a=[(2, 5), (1, 2), (4, 4), (2, 3), (2, 1)]\n",
    "# for j in range (1,len(a)) :\n",
    "#     for i in range(len(a)-j) :\n",
    "#         if a[i][1]>a[i+1][1] :\n",
    "#             temp=a[i]\n",
    "#             a[i]=a[i+1]\n",
    "#             a[i+1]=temp\n",
    "#         for i in range(len(a)) :\n",
    "#             print(a[i])\n",
    "\n",
    " \n",
    "    \n",
    "  \n",
    "# tuple1 = [(2, 5), (1, 2), (4, 4), (2, 3), (2, 1)]\n",
    "\n",
    "# List2 =[]\n",
    "# List3 =[]\n",
    "\n",
    "# for t in tuple1:\n",
    "#     List2.append(t[1],)\n",
    "\n",
    "# List2.sort()\n",
    "# print(List2)\n",
    "\n",
    "# for l in List2:\n",
    "#     for q in tuple1:\n",
    "#         if l == int(q[1],):\n",
    "#             List3.append(q)\n",
    "\n",
    "    "
   ]
  },
  {
   "cell_type": "code",
   "execution_count": 36,
   "metadata": {},
   "outputs": [
    {
     "name": "stdout",
     "output_type": "stream",
     "text": [
      "[10, 1, 11, 29, 876, 768, 92]\n"
     ]
    }
   ],
   "source": [
    "#Write a Python program to remove duplicate element from a list using loop.\n",
    "#Input:- [10,1,11,1,29,876,768,10,11,1,92,29,876]\n",
    "#Output:- [10,1,11,29,876,768,92]\n",
    "\n",
    "\n",
    "# lst = [10,1,11,1,29,876,768,10,11,1,92,29,876]\n",
    "# print(\"List Before \", lst)\n",
    "# temp_list = []\n",
    "\n",
    "# for i in lst:\n",
    "#     if i not in temp_list:\n",
    "#         temp_list.append(i)\n",
    "\n",
    "# lst = temp_list\n",
    "\n",
    "# print(\"List After removing duplicates \", lst)\n",
    "\n",
    "\n",
    "lst = [10,1,11,1,29,876,768,10,11,1,92,29,876]\n",
    "temp_list = []\n",
    "\n",
    "for i in lst:\n",
    "    if i not in temp_list:\n",
    "        temp_list.append(i)\n",
    "print(list(temp_list))\n",
    "\n",
    "\n",
    "\n",
    "# my_list = [1,2,2,3,1,4,5,1,2,6]\n",
    "# myFinallist = []\n",
    "# for i in my_list:\n",
    "#     if i not in myFinallist:\n",
    "# myFinallist.append(i)\n",
    "# print(list(myFinallist))"
   ]
  },
  {
   "cell_type": "code",
   "execution_count": 2,
   "metadata": {},
   "outputs": [
    {
     "name": "stdout",
     "output_type": "stream",
     "text": [
      "Object `not` not found.\n",
      "List is empty\n"
     ]
    }
   ],
   "source": [
    "Write a Python program to check a list is empty or not?\n",
    "#Input:- []\n",
    "#Output:- List is empty\n",
    "#Input:- [10,20,30]\n",
    "#Output:- List is not empty\n",
    "\n",
    "\n",
    "# lst = [10,20,30]\n",
    "# lst = []\n",
    "# if not lst:\n",
    "#         print(\"List is empty\")\n",
    "# else:\n",
    "#         print(\"List is not empty\")   \n",
    "  \n",
    "lst = [10,20,30]\n",
    "lst = []\n",
    "if len(lst) == 0:\n",
    "    \n",
    "        print(\"List is empty\")\n",
    "else:\n",
    "        print(\"List is not empty\")\n"
   ]
  },
  {
   "cell_type": "code",
   "execution_count": 7,
   "metadata": {},
   "outputs": [
    {
     "name": "stdout",
     "output_type": "stream",
     "text": [
      "[10, 10.2, (10+20j), 'Python', [10, 20], (10, 20)]\n",
      "[[10, 10.2, (10+20j), 'Python', [10, 20], (10, 20)]]\n"
     ]
    }
   ],
   "source": [
    "#Write a Python program to copy a list using loop.\n",
    "#inp_lst = [10,10.20,10+20j, 'Python', [10,20], (10,20)]\n",
    "#out_lst = [10,10.20,10+20j, 'Python', [10,20], (10,20)]\n",
    "\n",
    "# Python program to copy a nested list\n",
    "  \n",
    "# # List initialization\n",
    "# Input_list = [[0, 1, 2], [3, 4, 5], ]\n",
    "# Output = [] \n",
    "  \n",
    "# # # Using iteration to assign values\n",
    "# for x in range(len(Input_list)):\n",
    "#     temp = []\n",
    "#     for elem in Input_list[x]:\n",
    "#         temp.append(elem)\n",
    "#     Output.append(temp)\n",
    "  \n",
    "# # # Printing Output\n",
    "# print(\"Initial list is:\")\n",
    "# print(Input_list)\n",
    "# print(\"New assigned list is\")\n",
    "# print(Output)\n",
    "\n",
    "\n",
    "inp_lst = [10,10.20,10+20j, 'Python', [10,20], (10,20)]\n",
    "Out_lst = [] \n",
    "\n",
    "for i in range(1):\n",
    "    temp = []\n",
    "    for elem in inp_lst:\n",
    "        temp.append(elem)\n",
    "    Out_lst.append(temp)\n",
    "    \n",
    "print(inp_lst)    \n",
    "print(Out_lst)\n",
    " \n"
   ]
  },
  {
   "cell_type": "code",
   "execution_count": 2,
   "metadata": {},
   "outputs": [
    {
     "name": "stdout",
     "output_type": "stream",
     "text": [
      "['much', 'wood', 'would', 'woodchuck', 'chuck', 'could']\n"
     ]
    }
   ],
   "source": [
    "#Write a Python program to find the list of words that are longer than or equal to 4 from a given string.\n",
    "#Input:- 'How much wood would a woodchuck chuck if a woodchuck could chuck wood'\n",
    "#Output:- ['much', 'wood', 'would', 'woodchuck', 'chuck', 'could']\n",
    "#Note:- Duplicate should be avoided.\n",
    "\n",
    "\n",
    "# str=input(\"enter strings : \")\n",
    "# a=str.split()\n",
    "# b=[]\n",
    "# n=int(input(\"enter value of n \"))\n",
    "\n",
    "# for i in a:\n",
    "#     if (len(i)> n) :\n",
    "#         b.append(i)\n",
    "\n",
    "# print(\"list of words : \",b)\n",
    "\n",
    "\n",
    "#str=input(\"enter strings : \")\n",
    "inp_str = 'How much wood would a woodchuck chuck if a woodchuck could chuck wood' \n",
    "a=inp_str.split()\n",
    "b=[]\n",
    "#n=int(input(\"enter value of n \"))\n",
    "n = 4\n",
    "\n",
    "for i in a:\n",
    "    if (len(i)>= n and i not in b) :\n",
    "        b.append(i)\n",
    "\n",
    "print(b)"
   ]
  },
  {
   "cell_type": "code",
   "execution_count": 6,
   "metadata": {},
   "outputs": [
    {
     "name": "stdout",
     "output_type": "stream",
     "text": [
      "True\n"
     ]
    }
   ],
   "source": [
    "#Write a Python program which takes two list as input and returns True if they have at least 3 common elements.\n",
    "#inp_lst1 = [10,20,'Python', 10.20, 10+20j, [10,20,30], (10,20,30)]\n",
    "#inp_lst2 = [(10,20,30),1,20+3j,100.2, 10+20j, [10,20,30],'Python']\n",
    "#Output:- True\n",
    "\n",
    "inp_lst1 = [10,20,'Python', 10.20, 10+20j, [10,20,30], (10,20,30)]\n",
    "inp_lst2 = [(10,20,30),1,20+3j,100.2, 10+20j, [10,20,30],'Python']   \n",
    "def common_data(inp_lst1, inp_lst2):\n",
    "    result = False\n",
    "  \n",
    "    # traverse in the 1st list\n",
    "    for x in inp_lst1:\n",
    "  \n",
    "        # traverse in the 2nd list\n",
    "        for y in inp_lst2:\n",
    "    \n",
    "            # if one common\n",
    "            if x == y:\n",
    "                result = True\n",
    "                return result \n",
    "                  \n",
    "    return result  \n",
    "    \n",
    "print(common_data(inp_lst1, inp_lst2))    \n",
    "\n",
    "# list_one = [1, 2, 5, 7, 58]\n",
    "# list_two = [87, 58, 0,3,1]\n",
    "# print(\"Are elements common between list_one and list_two?\")\n",
    "# print(common_elements(list_one, list_two))\n",
    "\n",
    "\n",
    "##By set method\n",
    "# def common_elements(list_1, list_2):\n",
    "#     a_set = set(list_1)\n",
    "#     b_set = set(list_2)\n",
    "#     if (a_set & b_set):\n",
    "#         return True\n",
    "#     else:\n",
    "#         return False\n",
    "\n",
    "# list_one = [1, 2, 5, 7, 58]\n",
    "# list_two = [87, 58, 0,3,1]\n",
    "# print(\"Are elements common between list_one and list_two?\")\n",
    "# print(common_elements(list_one, list_two))\n",
    "# list_three = [0,5,7,89,34,4]\n",
    "# list_four = [45,78,90]\n",
    "# print(\"Are elements common between list_three and list_four?\")\n",
    "# print(common_elements(list_three, list_four))\n",
    "\n",
    "#Set intersection\n",
    "# def common_elements(list_1, list_2):\n",
    "#     a_set = set(list_1)\n",
    "#     b_set = set(list_2)\n",
    "#     if len(a_set.intersection(b_set)) > 0:\n",
    "#         return(True)\n",
    "#     return(False)\n",
    "\n",
    "# list_one = [1, 2, 5, 7, 58]\n",
    "# list_two = [87, 58, 0,3,1]\n",
    "# print(\"Are elements common between list_one and list_two?\")\n",
    "# print(common_elements(list_one, list_two))\n",
    "# list_three = [0,5,7,89,34,4]\n",
    "# list_four = [45,78,90]\n",
    "# print(\"Are elements common between list_three and list_four?\")\n",
    "# print(common_elements(list_three, list_four))\n",
    "\n",
    "\n",
    "# list1=[1,3,5,7]\n",
    "# list2=[2,7,8,4]\n",
    "\n",
    "# inp_lst1 = [10,20,'Python', 10.20, 10+20j, [10,20,30], (10,20,30)]\n",
    "# inp_lst2 = [(10,20,30),1,20+3j,100.2, 10+20j, [10,20,30],'Python']\n",
    "# result = 0\n",
    "# def find_common(inp_lst1, inp_lst2):\n",
    "#      for x in inp_lst1:\n",
    "#          for y in inp_lst2:\n",
    "#              if x == y:\n",
    "#                  result = True\n",
    "#                  return result\n",
    "#              else:\n",
    "#                result = False\n",
    "#                return result\n",
    "# print(find_common(inp_lst1, inp_lst2))"
   ]
  },
  {
   "cell_type": "code",
   "execution_count": 7,
   "metadata": {},
   "outputs": [
    {
     "name": "stdout",
     "output_type": "stream",
     "text": [
      "Input number of rows: 4\n",
      "Input number of columns: 4\n",
      "[[0, 0, 0, 0], [0, 1, 2, 3], [0, 2, 4, 6], [0, 3, 6, 9]]\n"
     ]
    }
   ],
   "source": [
    "#Write a Python program to create a 4X4 2D matrix with below elements using loop and list comprehension both.\n",
    "#Output:- [[0,0,0,0],[0,1,2,3],[0,2,4,6],[0,3,6,9]]\n",
    "\n",
    "\n",
    "row_num = int(input(\"Input number of rows: \"))\n",
    "col_num = int(input(\"Input number of columns: \"))\n",
    "multi_list = [[0 for col in range(col_num)] for row in range(row_num)]\n",
    "\n",
    "for row in range(row_num):\n",
    "    for col in range(col_num):\n",
    "        multi_list[row][col]= row*col\n",
    "\n",
    "print(multi_list)\n",
    "\n",
    "# Input number of rows: 3                                                                                       \n",
    "# Input number of columns: 4                                                                                    \n",
    "# [[0, 0, 0, 0], [0, 1, 2, 3], [0, 2, 4, 6]] "
   ]
  },
  {
   "cell_type": "code",
   "execution_count": null,
   "metadata": {},
   "outputs": [],
   "source": [
    "#Write a Python program to create a 3X4X6 3D matrix wiith below elements using loop\n",
    "#Output:- \n",
    "# [\n",
    "#     [[0,0,0,0,0,0],[0,0,0,0,0,0],[0,0,0,0,0,0],[0,0,0,0,0,0]],\n",
    "#     [[0,0,0,0,0,0],[1,1,1,1,1,1],[2,2,2,2,2,2],[3,3,3,3,3,3]],\n",
    "#     [[0,0,0,0,0,0],[2,2,2,2,2,2],[4,4,4,4,4,4],[6,6,6,6,6,6]]\n",
    "# ]\n",
    "\n",
    "# #Python program to print 3D list\n",
    "# #importing pretty printed\n",
    "# import pprint\n",
    "  \n",
    "# def ThreeD(a, b, c):\n",
    "#     lst = [[ ['0,1,2,3,4' for col in range(a)] for col in range(b)] for row in range(c)]\n",
    "#     return lst\n",
    "      \n",
    "# # Driver Code\n",
    "# col1 = 4\n",
    "# col2 = 6\n",
    "# row = 3\n",
    "# # used the pretty printed function\n",
    "# pprint.pprint(ThreeD(col1, col2, row))\n",
    "\n",
    "\n",
    "# first_dim_size = int(input(\"Enter size of first dim: \"))\n",
    "# second_dim_size = int(input(\"Enter size of second dim: \"))\n",
    "# third_dim_size = int(input(\"Enter size of third dim: \"))\n",
    "# #Declaring an empty 1D array.\n",
    "# a = []\n",
    "# #Declaring an empty 1D array.\n",
    "# b = []\n",
    "# #Declaring an empty 1D array.\n",
    "# c = []\n",
    "# #Initialize the Third dim.\n",
    "# for i in range(0, third_dim_size):\n",
    "#     a.append(0)\n",
    "# #Append the Third dim to Second dim\n",
    "# for j in range(1, second_dim_size):\n",
    "#     b.append(a)\n",
    "# #Append the Second dim to First dim\n",
    "# for k in range(2, first_dim_size):\n",
    "#     c.append(b)\n",
    "# #Printing the 3d created array\n",
    "# print(c)\n",
    "\n",
    "# import pprint\n",
    "# #n = 3\n",
    "# #distance = [[[0 for k in xrange(n)] for j in xrange(n)] for i in xrange(n)]\n",
    "# distance=[[[0 for _ in range(6)] for _ in range(3)] for _ in range(4)]\n",
    "# pprint.pprint(distance)\n",
    "\n",
    "\n",
    "# #array = [[ ['0,1,2,3' for col in range(6)] for col in range(4)] for row in range(3)]\n",
    "# print(array)\n"
   ]
  },
  {
   "cell_type": "code",
   "execution_count": 1,
   "metadata": {},
   "outputs": [
    {
     "name": "stdout",
     "output_type": "stream",
     "text": [
      "[21, 87, 45, 33, 1]\n"
     ]
    }
   ],
   "source": [
    "#Write a Python program which takes a list of numbers as input and prints a new list after removing even numbers from it.\n",
    "#Input:- [10,21,22,98,87,45,33,1,2,100]\n",
    "#Output:- [21,87,45,33,1]\n",
    "\n",
    "\n",
    "inp_lst = [10,21,22,98,87,45,33,1,2,100]\n",
    "out_lst = []\n",
    "\n",
    "for i in inp_lst:\n",
    "\n",
    "    if i%2 != 0:\n",
    "        out_lst.append(i)\n",
    "    \n",
    "            \n",
    "print(out_lst)            "
   ]
  },
  {
   "cell_type": "code",
   "execution_count": 4,
   "metadata": {},
   "outputs": [
    {
     "name": "stdout",
     "output_type": "stream",
     "text": [
      "[10, 21, 22, 98, 87, 45, 33, 1, 2, 100]\n",
      "The shuffled list is : [33, 1, 2, 98, 10, 87, 45, 22, 100, 21]\n"
     ]
    }
   ],
   "source": [
    "#Write a Python program which takes a list from the user and prints it after reshuffling the elements of the list.\n",
    "#Input:- [10,21,22,98,87,45,33,1,2,100]\n",
    "#Output:- [1,87,21,10,33,2,100,45,98,22] (It may be any randon list but with same elements)\n",
    "\n",
    "\n",
    "# import random\n",
    "  \n",
    "# # initializing list \n",
    "# test_list = [1, 4, 5, 6, 3]\n",
    "  \n",
    "# # Printing original list \n",
    "# print (\"The original list is : \" + str(test_list))\n",
    "  \n",
    "# # using Fisher–Yates shuffle Algorithm\n",
    "# # to shuffle a list\n",
    "# for i in range(len(test_list)-1, 0, -1):\n",
    "      \n",
    "#     # Pick a random index from 0 to i \n",
    "#     j = random.randint(0, i + 1) \n",
    "    \n",
    "#     # Swap arr[i] with the element at random index \n",
    "#     test_list[i], test_list[j] = test_list[j], test_list[i] \n",
    "      \n",
    "# # Printing shuffled list \n",
    "# print (\"The shuffled list is : \" +  str(test_list))\n",
    "\n",
    "\n",
    "# from random import *\n",
    "\n",
    "# def listshuffler(inputlist):\n",
    "#     for i in range(len(inputlist)):\n",
    "#         swap = randint(0,len(inputlist)-1)\n",
    "#         temp = inputlist[swap]\n",
    "#         inputlist[swap] = inputlist[i]\n",
    "#         inputlist[i] = temp\n",
    "#     return inputlist\n",
    "\n",
    "\n",
    "import random\n",
    "inp_lst = [10,21,22,98,87,45,33,1,2,100]\n",
    "print(inp_lst)\n",
    "for i in range(len(inp_lst)-1, 0, -1):\n",
    "    j = random.randint(0, i + 1) #random index\n",
    "    inp_lst[i], inp_lst[j] = inp_lst[j], inp_lst[i] #swap i element with random index\n",
    "\n",
    "print (\"The shuffled list is : \" +  str(inp_lst))"
   ]
  }
 ],
 "metadata": {
  "kernelspec": {
   "display_name": "Python 3",
   "language": "python",
   "name": "python3"
  },
  "language_info": {
   "codemirror_mode": {
    "name": "ipython",
    "version": 3
   },
   "file_extension": ".py",
   "mimetype": "text/x-python",
   "name": "python",
   "nbconvert_exporter": "python",
   "pygments_lexer": "ipython3",
   "version": "3.7.6"
  }
 },
 "nbformat": 4,
 "nbformat_minor": 4
}
