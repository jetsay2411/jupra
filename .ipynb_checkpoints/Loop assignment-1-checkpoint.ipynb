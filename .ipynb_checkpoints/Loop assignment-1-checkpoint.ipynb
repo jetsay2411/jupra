{
 "cells": [
  {
   "cell_type": "code",
   "execution_count": 3,
   "metadata": {},
   "outputs": [
    {
     "name": "stdout",
     "output_type": "stream",
     "text": [
      "Enter a number: 5\n",
      "Five\n"
     ]
    }
   ],
   "source": [
    "#W. A P. which takes one number from 0 to 9 from the user and prints it in the word. And if the word \n",
    "#is not from 0 to 9 then it should print that number is outside of the range and program should exit. \n",
    "#For exapmple:- input = 1 output = one\n",
    "\n",
    "num1  = int(input('Enter a number: '))\n",
    "while True:\n",
    "    if (num1<0) or (num1>9):\n",
    "        num1 = int(input('Enter a number again:'))\n",
    "    else:\n",
    "        if num1 == 0:\n",
    "            print('Zero')\n",
    "            \n",
    "        elif num1 == 1:\n",
    "            print('One')\n",
    "        elif num1 == 2:\n",
    "            print('Two')\n",
    "        elif num1 == 3:\n",
    "            print('Three')\n",
    "        elif num1 == 4:\n",
    "            print('Four')\n",
    "        elif num1 == 5:\n",
    "            print('Five')\n",
    "        elif num1 == 6:\n",
    "            print('Six')\n",
    "        elif num1 == 7:\n",
    "            print('Seven')\n",
    "        elif num1 == 8:\n",
    "            print('Eight')    \n",
    "        elif num1 == 9:\n",
    "            print('Nine')\n",
    "            \n",
    "        else:\n",
    "            print('Number is outside of the range:')\n",
    "            \n",
    "        break\n",
    "            \n",
    "            \n",
    "            \n",
    "            \n",
    "            "
   ]
  },
  {
   "cell_type": "code",
   "execution_count": 1,
   "metadata": {},
   "outputs": [
    {
     "name": "stdout",
     "output_type": "stream",
     "text": [
      "Enter a num1: 20\n",
      "Enter a num2: 10\n",
      "1 To Add enter \n",
      "2 Sub\n",
      "3 Mul\n",
      "4 Div\n",
      "5 Floor_div\n",
      "6 Mod\n",
      "7 Expo\n",
      "8 Quit\n",
      "select operation : \n",
      "Enter a operation choice 1-8: 7\n",
      "Result =  10240000000000\n",
      "Do you want to continue (y/n) ?n\n"
     ]
    }
   ],
   "source": [
    "#W. A P. to implement calculator but the operation to be done and two numbers will be taken as input from user\n",
    "#:- Operation console should show below:-   \n",
    "#Please select any one operation from below:-        \n",
    "# * To add enter 1        \n",
    "# * to subtract enter 2        \n",
    "# * To multiply enter 3        \n",
    "# * To divide enter 4        \n",
    "# * To divide and find quotient enter 5       \n",
    "# * To divide and find remainder enter 6        \n",
    "# * To divide and find num1 to the power of num2 enter 7       \n",
    "# * To Come out of the program enter 8  \n",
    "\n",
    "\n",
    "num1 = int(input('Enter a num1: '))\n",
    "num2 = int(input('Enter a num2: '))\n",
    "    \n",
    "lst_item = ['1 To Add enter ','2 Sub','3 Mul','4 Div','5 Floor_div','6 Mod','7 Expo','8 Quit']\n",
    "for i in  range (len(lst_item)):\n",
    "        print(lst_item[i])\n",
    "        \n",
    "print(\"select operation : \")\n",
    "    \n",
    "ch = int(input('Enter a operation choice 1-8: '))\n",
    "\n",
    "while True:\n",
    "    if ch > 8 :\n",
    "         num1 = int(input('Enter a number again:'))\n",
    "    else:\n",
    "        \n",
    "        result=0\n",
    "    \n",
    "        \n",
    "        if ch == 1:\n",
    "            result = num1+num2\n",
    "        \n",
    "        elif ch == 2:\n",
    "            result = num1-num2\n",
    "        elif ch == 3:\n",
    "            result = num1*num2    \n",
    "        elif ch == 4:\n",
    "            result = num1/num2    \n",
    "        elif ch == 5:\n",
    "            result = num1//num2        \n",
    "        elif ch == 6:\n",
    "            result = num1%num2    \n",
    "        elif ch == 7:\n",
    "            result = num1**num2    \n",
    "        elif ch == 8:\n",
    "            print(\"exit\")\n",
    "\n",
    "        else:   \n",
    "              print('Invalid Input') \n",
    "                  \n",
    "        #print(\"Result = \", result)\n",
    "        print('Result = ', result)    \n",
    "          \n",
    "    quit = input(\"Do you want to continue (y/n) ?\")\n",
    "    if quit == 'n':\n",
    "        break\n",
    "\n"
   ]
  },
  {
   "cell_type": "code",
   "execution_count": 14,
   "metadata": {},
   "outputs": [
    {
     "name": "stdout",
     "output_type": "stream",
     "text": [
      "Enter a leap year: 1900\n",
      "Year is not a Leap year: \n"
     ]
    }
   ],
   "source": [
    "#### W A P to check whether a year entered by user is an leap year or not? Check with below input:-   \n",
    "#leap year:- 2012, 1968, 2004, 1200, 1600,2400    Non-lear year:- 1971, 2006, 1700,1800,1900  \n",
    "year = int(input('Enter a leap year: '))\n",
    "if (year%400 == 0) or (year%4 == 0) and (year%100 != 0):\n",
    "    print('Year is a Leap year: ')\n",
    "    \n",
    "else:\n",
    "    print('Year is not a Leap year: ')\n",
    "        "
   ]
  },
  {
   "cell_type": "code",
   "execution_count": 7,
   "metadata": {},
   "outputs": [
    {
     "name": "stdout",
     "output_type": "stream",
     "text": [
      "Enter a number: 999\n",
      "Number is a Odd\n"
     ]
    }
   ],
   "source": [
    "#W A P which takes one number from the user and checks whether it is an even or odd number?, \n",
    "#If it even then prints number is even number else prints that number is odd number. \n",
    "num = eval(input('Enter a number: '))\n",
    "if num%2 == 0:\n",
    "   print('Numbe is an Even')      \n",
    "else:\n",
    "   print('Number is a Odd')        \n",
    "           \n",
    "           "
   ]
  },
  {
   "cell_type": "code",
   "execution_count": 12,
   "metadata": {},
   "outputs": [
    {
     "name": "stdout",
     "output_type": "stream",
     "text": [
      "Enter a num1: 20\n",
      "Enter a num2: 50\n",
      "num1 is smaller than num2\n"
     ]
    }
   ],
   "source": [
    "#W A P which takes two numbers from the user and prints below output:-   \n",
    "#1. num1 is greater than num2 if num1 is greater than num2    \n",
    "#2. num1 is smaller than num2 if num1 is smaller than num2    \n",
    "#3. num1 is equal to num2 if num1 and num2 are equal \n",
    "# Note:- 1. Do this problem using if - else      \n",
    "# 2. Do this using ternary operator  \n",
    "\n",
    "num1 = int(input('Enter a num1: '))\n",
    "num2 = int(input('Enter a num2: '))\n",
    "if num1 > num2:\n",
    "    print('num1 is greater than num2')\n",
    "else:\n",
    "    if num1 < num2:\n",
    "        print('num1 is smaller than num2')\n",
    "    else:\n",
    "        print('num1 and num2 are equal')\n",
    "                "
   ]
  },
  {
   "cell_type": "code",
   "execution_count": null,
   "metadata": {},
   "outputs": [],
   "source": [
    "##By ternary\n",
    "num1 = int(input('Enter a num1: '))\n",
    "num2 = int(input('Enter a num2: '))\n",
    "print(\"Both num1 and num2 are equal\") if num1 == num2 else (\"num1 is greater than num2\") if num1 > num2 else 'num2 is smaller than num2' "
   ]
  },
  {
   "cell_type": "code",
   "execution_count": 1,
   "metadata": {},
   "outputs": [
    {
     "name": "stdout",
     "output_type": "stream",
     "text": [
      "Enter a num1: 50\n",
      "Enter a num2: 100\n",
      "Enter a num3: 30\n",
      "num2 is greater than num1 and num3\n"
     ]
    }
   ],
   "source": [
    "#### W A P which takes three numbers from the user and prints below output:-   \n",
    "#1. num1 is greater than num2 and num3 and if num1  is greater than num2 and num3.    \n",
    "#2. num2 is greater than num1 and num3 if num2 is greater than num1 and num3   \n",
    "#3. num3 is greater than num1 and num2 if num3is greater than num1 and num2 .\n",
    "# Note:- 1. Do this problem using if - elif - else      \n",
    "# 2. Do this using ternary operator\n",
    "#a = a if a>b else b \n",
    "\n",
    "num1 = int(input('Enter a num1: '))\n",
    "num2 = int(input('Enter a num2: '))\n",
    "num3 = int(input('Enter a num3: ')) \n",
    "if (num1 > num2) and (num1 > num3):\n",
    "    print('num1 is greater than num2 and num3')\n",
    "elif (num2 > num1) and (num2 > num3):\n",
    "    print('num2 is greater than num1 and num3')\n",
    "else:\n",
    "    print('num3 is greater than num1 and num2')"
   ]
  },
  {
   "cell_type": "code",
   "execution_count": 3,
   "metadata": {},
   "outputs": [
    {
     "name": "stdout",
     "output_type": "stream",
     "text": [
      "Enter a num1: 40\n",
      "Enter a num2: 67\n",
      "Enter a num3: 88\n"
     ]
    },
    {
     "data": {
      "text/plain": [
       "'num3 is greater than num1 and num2'"
      ]
     },
     "execution_count": 3,
     "metadata": {},
     "output_type": "execute_result"
    }
   ],
   "source": [
    "##By ternary\n",
    "num1 = int(input('Enter a num1: '))\n",
    "num2 = int(input('Enter a num2: '))\n",
    "num3 = int(input('Enter a num3: '))\n",
    "\n",
    "print(\"num1 is greater than num2 and num3\") if (num1 > num2) and (num1 > num3)  else (\"num2 is greater than num1 and num2\") if (num2 > num1) and (num2 > num3)  else ('num3 is greater than num1 and num2') \n"
   ]
  },
  {
   "cell_type": "markdown",
   "metadata": {},
   "source": [
    "### Loops - for loop, while loop  "
   ]
  },
  {
   "cell_type": "code",
   "execution_count": 4,
   "metadata": {},
   "outputs": [
    {
     "name": "stdout",
     "output_type": "stream",
     "text": [
      "55\n"
     ]
    }
   ],
   "source": [
    "# Q. Write a Python program to find the length of the my_str using loop:-  \n",
    "# Input:- 'Write a Python program to find the length of the my_str' Output:- 55 \n",
    "my_str = 'Write a Python program to find the length of the my_str'\n",
    "ind = 0\n",
    "while ind < len(my_str):\n",
    "    my_str[ind]\n",
    "    ind += 1\n",
    "    \n",
    "print(ind)  "
   ]
  },
  {
   "cell_type": "code",
   "execution_count": 1,
   "metadata": {},
   "outputs": [
    {
     "name": "stdout",
     "output_type": "stream",
     "text": [
      "9\n"
     ]
    }
   ],
   "source": [
    "# Write a Python program to find the total number of times letter 'p' is appeared in the below string using loop:-  \n",
    "# Input:- 'peter piper picked a peck of pickled peppers.\\n' Output:- 9 \n",
    "my_str = 'peter piper picked a peck of pickled peppers.\\n'\n",
    "count_p = 0\n",
    "pos = -1\n",
    "while True:\n",
    "    pos = my_str.find('p',pos+1)\n",
    "    if pos == -1:          \n",
    "        break\n",
    "    else:\n",
    "        count_p += 1\n",
    "print(count_p)        \n",
    "\n",
    "        "
   ]
  },
  {
   "cell_type": "code",
   "execution_count": 9,
   "metadata": {},
   "outputs": [
    {
     "name": "stdout",
     "output_type": "stream",
     "text": [
      "0\n",
      "6\n",
      "8\n",
      "12\n",
      "21\n",
      "29\n",
      "37\n",
      "39\n",
      "40\n"
     ]
    }
   ],
   "source": [
    "#Write a Python Program, to print all the indexes of all occurences of letter 'p' appeared in the string using loop:-   \n",
    "#Input:- 'peter piper picked a peck of pickled peppers.' \n",
    "# Output-:\n",
    "# 0 \n",
    "# 6\n",
    "# 8\n",
    "# 12\n",
    "# 21\n",
    "# 29\n",
    "# 37\n",
    "# 39\n",
    "# 40      \n",
    "\n",
    "my_str = 'peter piper picked a peck of pickled peppers.'\n",
    "int_t = 0\n",
    "for i in range(len(my_str)):\n",
    "    str = (my_str[i], i)\n",
    "    if str[0] == 'p':\n",
    "        print(i)\n",
    "        int_t += 1\n",
    "    else:\n",
    "        if i == 55:\n",
    "            break\n",
    "        else:\n",
    "            i = i+1"
   ]
  },
  {
   "cell_type": "code",
   "execution_count": 10,
   "metadata": {},
   "outputs": [
    {
     "name": "stdout",
     "output_type": "stream",
     "text": [
      "['peter', 'piper', 'picked', 'a', 'peck', 'of', 'pickled', 'peppers.']\n"
     ]
    }
   ],
   "source": [
    "#Write a python program to find below output using loop:-\n",
    "#Input:- 'peter piper picked a peck of pickled peppers.' \n",
    "#Output:- ['peter', 'piper', 'picked', 'a', 'peck', 'of', 'pickled', 'peppers'] \n",
    "\n",
    "\n",
    "my_str = 'peter piper picked a peck of pickled peppers.'\n",
    "for i in range(1):\n",
    "    result = my_str.split()\n",
    "    print(result)\n"
   ]
  },
  {
   "cell_type": "code",
   "execution_count": 11,
   "metadata": {},
   "outputs": [
    {
     "name": "stdout",
     "output_type": "stream",
     "text": [
      "['peppers.', 'pickled', 'of', 'peck', 'a', 'picked', 'piper', 'peter']\n"
     ]
    }
   ],
   "source": [
    "# Write a python program to find below output using loop:-  \n",
    "# Input:- 'peter piper picked a peck of pickled peppers.' \n",
    "# Output:- 'peppers pickled of peck a picked piper peter'\n",
    "my_str = 'peter piper picked a peck of pickled peppers.'\n",
    "for i in range(1):\n",
    "    result = my_str.split()\n",
    "    print(result[::-1])"
   ]
  },
  {
   "cell_type": "code",
   "execution_count": 12,
   "metadata": {},
   "outputs": [
    {
     "name": "stdout",
     "output_type": "stream",
     "text": [
      ".sreppep delkcip fo kcep a dekcip repip retep\n"
     ]
    }
   ],
   "source": [
    "# Write a python program to find below output using loop:-  \n",
    "# Input:- 'peter piper picked a peck of pickled peppers.' \n",
    "# Output:- '.sreppep delkcip fo kcep a dekcip repip retep'\n",
    "my_str = 'peter piper picked a peck of pickled peppers.'\n",
    "for i in range(1):\n",
    "    print(my_str[::-1])"
   ]
  },
  {
   "cell_type": "code",
   "execution_count": 6,
   "metadata": {},
   "outputs": [
    {
     "name": "stdout",
     "output_type": "stream",
     "text": [
      "retep repip dekcip a kcep fo delkcip .sreppep\n"
     ]
    }
   ],
   "source": [
    "#Write a python program to find below output using loop:-  \n",
    "# Input:- 'peter piper picked a peck of pickled peppers.' \n",
    "# Output:- 'retep repip dekcip a kcep fo delkcip sreppep' \n",
    "my_str = 'peter piper picked a peck of pickled peppers.'.split()\n",
    "print( ' '.join([ele[::-1] for ele in my_str]))"
   ]
  },
  {
   "cell_type": "code",
   "execution_count": 7,
   "metadata": {},
   "outputs": [
    {
     "name": "stdout",
     "output_type": "stream",
     "text": [
      "Peter Piper Picked A Peck Of Pickled Peppers.\n"
     ]
    }
   ],
   "source": [
    "# Write a python program to find below output using loop:- \n",
    "# Input:- 'peter piper picked a peck of pickled peppers.' \n",
    "# Output:- 'Peter Piper Picked A Peck Of Pickled Peppers'\n",
    "\n",
    "my_str = 'peter piper picked a peck of pickled peppers.' \n",
    "for i in range(1):\n",
    "    result = my_str.title()\n",
    "    print(result)        "
   ]
  },
  {
   "cell_type": "code",
   "execution_count": 8,
   "metadata": {},
   "outputs": [
    {
     "name": "stdout",
     "output_type": "stream",
     "text": [
      "Peter piper picked a peck of pickled peppers.\n"
     ]
    }
   ],
   "source": [
    "# Write a python program to find below output using loop:-  \n",
    "# Input:- 'Peter Piper Picked A Peck Of Pickled Peppers.' \n",
    "# Output:- 'Peter piper picked a peck of pickled peppers'  \n",
    "\n",
    "    \n",
    "my_str = 'Peter Piper Picked A Peck Of Pickled Peppers.'   \n",
    "for i in range(1):\n",
    "    result = my_str.capitalize()\n",
    "    print(result)"
   ]
  },
  {
   "cell_type": "code",
   "execution_count": 14,
   "metadata": {},
   "outputs": [
    {
     "name": "stdout",
     "output_type": "stream",
     "text": [
      "29\n"
     ]
    }
   ],
   "source": [
    "# Write a python program to implement index method using loop. If sub_str is found in my_str then it will print the index of first\n",
    "# occurrence of first character of matching string in my_str:-  \n",
    "# Input:- my_str = 'Peter Piper Picked A Peck Of Pickled Peppers.', sub_str = 'Pickl' \n",
    "# Output:- 29  \n",
    "    \n",
    "my_str = 'Peter Piper Picked A Peck Of Pickled Peppers.'\n",
    "sub_str = 'Pickl' \n",
    "for i in range(0,len(my_str)):\n",
    "    if my_str[i:i+len(sub_str)] == sub_str:\n",
    "        print(i)\n"
   ]
  },
  {
   "cell_type": "code",
   "execution_count": 1,
   "metadata": {},
   "outputs": [
    {
     "name": "stdout",
     "output_type": "stream",
     "text": [
      "Pyth%n\n"
     ]
    }
   ],
   "source": [
    "#Write a program that accepts a string and change it's lowercase vovels to special characters given below:\n",
    "#input = 'Python'\n",
    "#output = 'Pyth%n'\n",
    "\n",
    "dict_map = {'a':'#', 'e':'@', 'i':'$', 'o':'%',\n",
    "'u':'!'}\n",
    "inp_str = 'Python'\n",
    "#inp_str = input('Enter a string')\n",
    "out_str = ''\n",
    "for i in inp_str:\n",
    "    if i in dict_map:\n",
    "        out_str += dict_map[i]\n",
    "    else:\n",
    "        out_str += i\n",
    "print(out_str)        \n",
    "                "
   ]
  },
  {
   "cell_type": "code",
   "execution_count": 5,
   "metadata": {},
   "outputs": [
    {
     "name": "stdout",
     "output_type": "stream",
     "text": [
      "Enter Student's Marks: 95\n",
      "Enter Student Name: Dev\n",
      "Enter Student's Marks: 78\n",
      "Enter Student Name: Sanju\n",
      "Enter Student's Marks: 55\n",
      "Enter Student Name: Ravi\n",
      "Enter Student's Marks: 71\n",
      "Enter Student Name: Raju\n",
      "Enter Student's Marks: 60\n",
      "Enter Student Name: Manju\n",
      "Enter Student's Marks: 90\n",
      "Enter Student Name: Sita\n",
      "Enter Student's Marks: 59\n",
      "Enter Student Name: Netra\n",
      "Enter Student's Marks: 69\n",
      "Enter Student Name: Rushi\n",
      "Enter Student's Marks: 52\n",
      "Enter Student Name: Vijay\n",
      "Enter Student's Marks: 74\n",
      "Enter Student Name: Sonu\n",
      "[('Dev', 95), ('Sanju', 78), ('Ravi', 55), ('Raju', 71), ('Manju', 60), ('Sita', 90), ('Netra', 59), ('Rushi', 69), ('Vijay', 52), ('Sonu', 74)]\n",
      "[('Vijay', 52), ('Ravi', 55), ('Netra', 59), ('Manju', 60), ('Rushi', 69), ('Raju', 71), ('Sonu', 74), ('Sanju', 78), ('Sita', 90), ('Dev', 95)]\n"
     ]
    }
   ],
   "source": [
    "# Write a program that keeps student's name and his marks in a dictionary as key-value pairs. \n",
    "# The program should store records of 10 students and display students name and marks of first five students \n",
    "# in decreasing order of marks obtained.\n",
    "student_info ={input(\"Enter Student Name: \"):int(input(\"Enter Student's Marks: \")) for i in range(10)}\n",
    "st_info_items = list(student_info.items())\n",
    "print(st_info_items)\n",
    "st_info_items.sort(key = lambda tpl:tpl[-1])\n",
    "print(st_info_items)\n"
   ]
  },
  {
   "cell_type": "code",
   "execution_count": 13,
   "metadata": {},
   "outputs": [
    {
     "name": "stdout",
     "output_type": "stream",
     "text": [
      "29\n"
     ]
    }
   ],
   "source": [
    "# Write a python program to implement index method using loop. If sub_str is found in my_str then it will print the index of first\n",
    "# occurrence of first character of matching string in my_str:-  \n",
    "# Input:- my_str = 'Peter Piper Picked A Peck Of Pickled Peppers.', sub_str = 'Pickl' \n",
    "# Output:- 29  \n",
    "    \n",
    "my_str = 'Peter Piper Picked A Peck Of Pickled Peppers.'\n",
    "sub_str = 'Pickl' \n",
    "for i in range(0,len(my_str)):\n",
    "    if my_str[i:i+len(sub_str)] == sub_str:\n",
    "        print(i)\n",
    "\n",
    "\n",
    " "
   ]
  },
  {
   "cell_type": "code",
   "execution_count": 11,
   "metadata": {},
   "outputs": [
    {
     "name": "stdout",
     "output_type": "stream",
     "text": [
      "Peck\n",
      "Peter Piper Picked A Pack Of Pickled Peppers.\n"
     ]
    }
   ],
   "source": [
    "# Write a python program to implement replace method using loop. If sub_str is found in my_str then it will replace the \n",
    "# first occurrence of sub_str with new_str else it will will print sub_str not found:-  \n",
    "# Input:- my_str = 'Peter Piper Picked A Peck Of Pickled Peppers.', \n",
    "# sub_str = 'Peck', new_str = 'Pack' Output:- 'Peter Piper Picked A Pack Of Pickled Peppers.' \n",
    "\n",
    "my_str = 'Peter Piper Picked A Peck Of Pickled Peppers.'\n",
    "print(sub_str)\n",
    "new_str = ''\n",
    "for i in range(1):\n",
    "    new_str = my_str.replace('Peck','Pack')\n",
    "    print(new_str)\n",
    "\n",
    "\n"
   ]
  },
  {
   "cell_type": "code",
   "execution_count": 12,
   "metadata": {},
   "outputs": [
    {
     "name": "stdout",
     "output_type": "stream",
     "text": [
      "Peter Piper Picked A Peck Of Pickled Peppers.\n",
      "********************Peck*********************\n"
     ]
    }
   ],
   "source": [
    "# Write a python program to find below output (implements rjust and ljust) using loop:- \n",
    "# Input:- 'Peter Piper Picked A Peck Of Pickled Peppers.', \n",
    "# sub_str = 'Peck',\n",
    "# Output:- '*********************Peck********************' \n",
    "\n",
    "my_str = 'Peter Piper Picked A Peck Of Pickled Peppers.'\n",
    "print(my_str)\n",
    "sub_str = 'Peck'\n",
    "for i in range(1):\n",
    "    print(sub_str.rjust((my_str.index(sub_str)+3), '*' ).ljust(len(my_str), '*'))\n",
    "\n"
   ]
  }
 ],
 "metadata": {
  "kernelspec": {
   "display_name": "Python 3",
   "language": "python",
   "name": "python3"
  },
  "language_info": {
   "codemirror_mode": {
    "name": "ipython",
    "version": 3
   },
   "file_extension": ".py",
   "mimetype": "text/x-python",
   "name": "python",
   "nbconvert_exporter": "python",
   "pygments_lexer": "ipython3",
   "version": "3.7.6"
  }
 },
 "nbformat": 4,
 "nbformat_minor": 4
}
