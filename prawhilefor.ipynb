{
 "cells": [
  {
   "cell_type": "code",
   "execution_count": null,
   "metadata": {},
   "outputs": [
    {
     "name": "stdout",
     "output_type": "stream",
     "text": [
      "Enter a num1: 20\n",
      "Enter a num2: 10\n",
      "1\n",
      "Add\n",
      "\n",
      "2\n",
      "Sub\n",
      "\n",
      "3\n",
      "Mul\n",
      "\n",
      "4\n",
      "Div\n",
      "\n",
      "5\n",
      "Power\n",
      "\n",
      "6\n",
      "Expo\n",
      "\n",
      "7\n",
      "Modulo\n",
      "\n",
      "8\n",
      "Floor\n",
      "\n",
      "9\n",
      "Quit\n",
      "\n",
      "Enter choice(1/2/3/4): 1\n",
      "Enter choice(1/2/3/4): 2\n",
      "Enter choice(1/2/3/4): 3\n",
      "Enter choice(1/2/3/4): 4\n",
      "Enter choice(1/2/3/4): 5\n"
     ]
    }
   ],
   "source": [
    "num1 = int(input('Enter a num1: '))\n",
    "num2 = int(input('Enter a num2: '))\n",
    "d = {1:'Add',2 :'Sub',3:'Mul',4:'Div',5:'Power',6:'Expo',7:'Modulo',8:'Floor',9:'Quit'}\n",
    "for i in d:\n",
    "      print(i);\n",
    "      print(d[i]);\n",
    "      print()\n",
    "while True:\n",
    " # Take input from the user\n",
    "    ch = input(\"Enter choice(1/2/3/4): \")\n",
    "     \n",
    "    if ch =='1':\n",
    "        result=num1+num2;\n",
    "    elif ch =='2':\n",
    "        result=num1-num2;\n",
    "    elif ch =='3':\n",
    "        result=num1*num2;\n",
    "    elif ch =='4':\n",
    "        result=num1/num2;\n",
    "    elif ch =='9':\n",
    "        print('quit')\n",
    "else:\n",
    "    print(\"char is not supported\");\n",
    "print(num1,ch,num2,\": \",result)    \n",
    "    "
   ]
  }
 ],
 "metadata": {
  "kernelspec": {
   "display_name": "Python 3",
   "language": "python",
   "name": "python3"
  },
  "language_info": {
   "codemirror_mode": {
    "name": "ipython",
    "version": 3
   },
   "file_extension": ".py",
   "mimetype": "text/x-python",
   "name": "python",
   "nbconvert_exporter": "python",
   "pygments_lexer": "ipython3",
   "version": "3.7.6"
  }
 },
 "nbformat": 4,
 "nbformat_minor": 4
}
